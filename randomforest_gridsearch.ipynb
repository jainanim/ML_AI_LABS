{
 "cells": [
  {
   "cell_type": "code",
   "execution_count": 1,
   "metadata": {},
   "outputs": [],
   "source": [
    "import pandas as pd\n",
    "import numpy as np\n",
    "from sklearn.linear_model import LogisticRegression"
   ]
  },
  {
   "cell_type": "code",
   "execution_count": 2,
   "metadata": {},
   "outputs": [],
   "source": [
    "import os\n",
    "#os.chdir('/home/sunil/Desktop/Great Lakes/FMT/Day2')\n",
    "data = pd.read_csv(\"diabetes.csv\",header=0)"
   ]
  },
  {
   "cell_type": "code",
   "execution_count": 3,
   "metadata": {
    "scrolled": true
   },
   "outputs": [
    {
     "data": {
      "text/html": [
       "<div>\n",
       "<style scoped>\n",
       "    .dataframe tbody tr th:only-of-type {\n",
       "        vertical-align: middle;\n",
       "    }\n",
       "\n",
       "    .dataframe tbody tr th {\n",
       "        vertical-align: top;\n",
       "    }\n",
       "\n",
       "    .dataframe thead th {\n",
       "        text-align: right;\n",
       "    }\n",
       "</style>\n",
       "<table border=\"1\" class=\"dataframe\">\n",
       "  <thead>\n",
       "    <tr style=\"text-align: right;\">\n",
       "      <th></th>\n",
       "      <th>Pregnancies</th>\n",
       "      <th>Glucose</th>\n",
       "      <th>BloodPressure</th>\n",
       "      <th>SkinThickness</th>\n",
       "      <th>Insulin</th>\n",
       "      <th>BMI</th>\n",
       "      <th>DiabetesPedigreeFunction</th>\n",
       "      <th>Age</th>\n",
       "      <th>Outcome</th>\n",
       "    </tr>\n",
       "  </thead>\n",
       "  <tbody>\n",
       "    <tr>\n",
       "      <td>0</td>\n",
       "      <td>6</td>\n",
       "      <td>148</td>\n",
       "      <td>72</td>\n",
       "      <td>35</td>\n",
       "      <td>0</td>\n",
       "      <td>33.6</td>\n",
       "      <td>0.627</td>\n",
       "      <td>50</td>\n",
       "      <td>1</td>\n",
       "    </tr>\n",
       "    <tr>\n",
       "      <td>1</td>\n",
       "      <td>1</td>\n",
       "      <td>85</td>\n",
       "      <td>66</td>\n",
       "      <td>29</td>\n",
       "      <td>0</td>\n",
       "      <td>26.6</td>\n",
       "      <td>0.351</td>\n",
       "      <td>31</td>\n",
       "      <td>0</td>\n",
       "    </tr>\n",
       "    <tr>\n",
       "      <td>2</td>\n",
       "      <td>8</td>\n",
       "      <td>183</td>\n",
       "      <td>64</td>\n",
       "      <td>0</td>\n",
       "      <td>0</td>\n",
       "      <td>23.3</td>\n",
       "      <td>0.672</td>\n",
       "      <td>32</td>\n",
       "      <td>1</td>\n",
       "    </tr>\n",
       "    <tr>\n",
       "      <td>3</td>\n",
       "      <td>1</td>\n",
       "      <td>89</td>\n",
       "      <td>66</td>\n",
       "      <td>23</td>\n",
       "      <td>94</td>\n",
       "      <td>28.1</td>\n",
       "      <td>0.167</td>\n",
       "      <td>21</td>\n",
       "      <td>0</td>\n",
       "    </tr>\n",
       "    <tr>\n",
       "      <td>4</td>\n",
       "      <td>0</td>\n",
       "      <td>137</td>\n",
       "      <td>40</td>\n",
       "      <td>35</td>\n",
       "      <td>168</td>\n",
       "      <td>43.1</td>\n",
       "      <td>2.288</td>\n",
       "      <td>33</td>\n",
       "      <td>1</td>\n",
       "    </tr>\n",
       "    <tr>\n",
       "      <td>...</td>\n",
       "      <td>...</td>\n",
       "      <td>...</td>\n",
       "      <td>...</td>\n",
       "      <td>...</td>\n",
       "      <td>...</td>\n",
       "      <td>...</td>\n",
       "      <td>...</td>\n",
       "      <td>...</td>\n",
       "      <td>...</td>\n",
       "    </tr>\n",
       "    <tr>\n",
       "      <td>763</td>\n",
       "      <td>10</td>\n",
       "      <td>101</td>\n",
       "      <td>76</td>\n",
       "      <td>48</td>\n",
       "      <td>180</td>\n",
       "      <td>32.9</td>\n",
       "      <td>0.171</td>\n",
       "      <td>63</td>\n",
       "      <td>0</td>\n",
       "    </tr>\n",
       "    <tr>\n",
       "      <td>764</td>\n",
       "      <td>2</td>\n",
       "      <td>122</td>\n",
       "      <td>70</td>\n",
       "      <td>27</td>\n",
       "      <td>0</td>\n",
       "      <td>36.8</td>\n",
       "      <td>0.340</td>\n",
       "      <td>27</td>\n",
       "      <td>0</td>\n",
       "    </tr>\n",
       "    <tr>\n",
       "      <td>765</td>\n",
       "      <td>5</td>\n",
       "      <td>121</td>\n",
       "      <td>72</td>\n",
       "      <td>23</td>\n",
       "      <td>112</td>\n",
       "      <td>26.2</td>\n",
       "      <td>0.245</td>\n",
       "      <td>30</td>\n",
       "      <td>0</td>\n",
       "    </tr>\n",
       "    <tr>\n",
       "      <td>766</td>\n",
       "      <td>1</td>\n",
       "      <td>126</td>\n",
       "      <td>60</td>\n",
       "      <td>0</td>\n",
       "      <td>0</td>\n",
       "      <td>30.1</td>\n",
       "      <td>0.349</td>\n",
       "      <td>47</td>\n",
       "      <td>1</td>\n",
       "    </tr>\n",
       "    <tr>\n",
       "      <td>767</td>\n",
       "      <td>1</td>\n",
       "      <td>93</td>\n",
       "      <td>70</td>\n",
       "      <td>31</td>\n",
       "      <td>0</td>\n",
       "      <td>30.4</td>\n",
       "      <td>0.315</td>\n",
       "      <td>23</td>\n",
       "      <td>0</td>\n",
       "    </tr>\n",
       "  </tbody>\n",
       "</table>\n",
       "<p>768 rows × 9 columns</p>\n",
       "</div>"
      ],
      "text/plain": [
       "     Pregnancies  Glucose  BloodPressure  SkinThickness  Insulin   BMI  \\\n",
       "0              6      148             72             35        0  33.6   \n",
       "1              1       85             66             29        0  26.6   \n",
       "2              8      183             64              0        0  23.3   \n",
       "3              1       89             66             23       94  28.1   \n",
       "4              0      137             40             35      168  43.1   \n",
       "..           ...      ...            ...            ...      ...   ...   \n",
       "763           10      101             76             48      180  32.9   \n",
       "764            2      122             70             27        0  36.8   \n",
       "765            5      121             72             23      112  26.2   \n",
       "766            1      126             60              0        0  30.1   \n",
       "767            1       93             70             31        0  30.4   \n",
       "\n",
       "     DiabetesPedigreeFunction  Age  Outcome  \n",
       "0                       0.627   50        1  \n",
       "1                       0.351   31        0  \n",
       "2                       0.672   32        1  \n",
       "3                       0.167   21        0  \n",
       "4                       2.288   33        1  \n",
       "..                        ...  ...      ...  \n",
       "763                     0.171   63        0  \n",
       "764                     0.340   27        0  \n",
       "765                     0.245   30        0  \n",
       "766                     0.349   47        1  \n",
       "767                     0.315   23        0  \n",
       "\n",
       "[768 rows x 9 columns]"
      ]
     },
     "execution_count": 3,
     "metadata": {},
     "output_type": "execute_result"
    }
   ],
   "source": [
    "data"
   ]
  },
  {
   "cell_type": "code",
   "execution_count": 5,
   "metadata": {},
   "outputs": [],
   "source": [
    "values = data.values\n",
    "X = values[:,0:8]\n",
    "y = values[:,8]"
   ]
  },
  {
   "cell_type": "code",
   "execution_count": 6,
   "metadata": {},
   "outputs": [],
   "source": [
    "from sklearn.model_selection import KFold\n",
    "from sklearn.model_selection import cross_val_score"
   ]
  },
  {
   "cell_type": "code",
   "execution_count": 7,
   "metadata": {},
   "outputs": [
    {
     "name": "stderr",
     "output_type": "stream",
     "text": [
      "C:\\Users\\DELL\\Anaconda3\\lib\\site-packages\\sklearn\\ensemble\\forest.py:246: FutureWarning: The default value of n_estimators will change from 10 in version 0.20 to 100 in 0.22.\n",
      "  \"10 in version 0.20 to 100 in 0.22.\", FutureWarning)\n",
      "C:\\Users\\DELL\\Anaconda3\\lib\\site-packages\\sklearn\\ensemble\\forest.py:246: FutureWarning: The default value of n_estimators will change from 10 in version 0.20 to 100 in 0.22.\n",
      "  \"10 in version 0.20 to 100 in 0.22.\", FutureWarning)\n",
      "C:\\Users\\DELL\\Anaconda3\\lib\\site-packages\\sklearn\\ensemble\\forest.py:246: FutureWarning: The default value of n_estimators will change from 10 in version 0.20 to 100 in 0.22.\n",
      "  \"10 in version 0.20 to 100 in 0.22.\", FutureWarning)\n",
      "C:\\Users\\DELL\\Anaconda3\\lib\\site-packages\\sklearn\\ensemble\\forest.py:246: FutureWarning: The default value of n_estimators will change from 10 in version 0.20 to 100 in 0.22.\n",
      "  \"10 in version 0.20 to 100 in 0.22.\", FutureWarning)\n",
      "C:\\Users\\DELL\\Anaconda3\\lib\\site-packages\\sklearn\\ensemble\\forest.py:246: FutureWarning: The default value of n_estimators will change from 10 in version 0.20 to 100 in 0.22.\n",
      "  \"10 in version 0.20 to 100 in 0.22.\", FutureWarning)\n",
      "C:\\Users\\DELL\\Anaconda3\\lib\\site-packages\\sklearn\\ensemble\\forest.py:246: FutureWarning: The default value of n_estimators will change from 10 in version 0.20 to 100 in 0.22.\n",
      "  \"10 in version 0.20 to 100 in 0.22.\", FutureWarning)\n",
      "C:\\Users\\DELL\\Anaconda3\\lib\\site-packages\\sklearn\\ensemble\\forest.py:246: FutureWarning: The default value of n_estimators will change from 10 in version 0.20 to 100 in 0.22.\n",
      "  \"10 in version 0.20 to 100 in 0.22.\", FutureWarning)\n",
      "C:\\Users\\DELL\\Anaconda3\\lib\\site-packages\\sklearn\\ensemble\\forest.py:246: FutureWarning: The default value of n_estimators will change from 10 in version 0.20 to 100 in 0.22.\n",
      "  \"10 in version 0.20 to 100 in 0.22.\", FutureWarning)\n",
      "C:\\Users\\DELL\\Anaconda3\\lib\\site-packages\\sklearn\\ensemble\\forest.py:246: FutureWarning: The default value of n_estimators will change from 10 in version 0.20 to 100 in 0.22.\n",
      "  \"10 in version 0.20 to 100 in 0.22.\", FutureWarning)\n",
      "C:\\Users\\DELL\\Anaconda3\\lib\\site-packages\\sklearn\\ensemble\\forest.py:246: FutureWarning: The default value of n_estimators will change from 10 in version 0.20 to 100 in 0.22.\n",
      "  \"10 in version 0.20 to 100 in 0.22.\", FutureWarning)\n"
     ]
    },
    {
     "name": "stdout",
     "output_type": "stream",
     "text": [
      "0.7277682843472317\n"
     ]
    }
   ],
   "source": [
    "from sklearn.ensemble import RandomForestClassifier\n",
    "model = RandomForestClassifier()\n",
    "kfold = KFold(n_splits=10, random_state=7)\n",
    "result = cross_val_score(model, X, y, cv=kfold, scoring='accuracy')\n",
    "print(result.mean())"
   ]
  },
  {
   "cell_type": "code",
   "execution_count": 8,
   "metadata": {},
   "outputs": [],
   "source": [
    "from sklearn.model_selection import GridSearchCV"
   ]
  },
  {
   "cell_type": "code",
   "execution_count": 8,
   "metadata": {},
   "outputs": [],
   "source": [
    "bootstrap=[True,False]\n",
    "max_features=[3,4,5,'auto']\n",
    "n_estimators=[10,50,100]"
   ]
  },
  {
   "cell_type": "code",
   "execution_count": 9,
   "metadata": {},
   "outputs": [
    {
     "name": "stdout",
     "output_type": "stream",
     "text": [
      "Best: 0.773438 using {'bootstrap': True, 'max_features': 4, 'n_estimators': 100}\n",
      "Execution time: 12.403396606445312 ms\n"
     ]
    }
   ],
   "source": [
    "import time\n",
    "\n",
    "param_grid = dict(bootstrap=bootstrap,max_features=max_features,n_estimators=n_estimators)\n",
    "grid = GridSearchCV(estimator=model, param_grid=param_grid, cv = 10, n_jobs=-1)\n",
    "\n",
    "start_time = time.time()\n",
    "grid_result = grid.fit(X, y)\n",
    "# Summarize results\n",
    "print(\"Best: %f using %s\" % (grid_result.best_score_, grid_result.best_params_))\n",
    "print(\"Execution time: \" + str((time.time() - start_time)) + ' ms')"
   ]
  },
  {
   "cell_type": "code",
   "execution_count": 10,
   "metadata": {},
   "outputs": [
    {
     "data": {
      "text/plain": [
       "RandomForestClassifier(bootstrap=True, class_weight=None, criterion='gini',\n",
       "                       max_depth=None, max_features='auto', max_leaf_nodes=None,\n",
       "                       min_impurity_decrease=0.0, min_impurity_split=None,\n",
       "                       min_samples_leaf=1, min_samples_split=2,\n",
       "                       min_weight_fraction_leaf=0.0, n_estimators='warn',\n",
       "                       n_jobs=None, oob_score=False, random_state=None,\n",
       "                       verbose=0, warm_start=False)"
      ]
     },
     "execution_count": 10,
     "metadata": {},
     "output_type": "execute_result"
    }
   ],
   "source": [
    "grid.estimator"
   ]
  },
  {
   "cell_type": "code",
   "execution_count": 11,
   "metadata": {},
   "outputs": [
    {
     "data": {
      "text/plain": [
       "5"
      ]
     },
     "execution_count": 11,
     "metadata": {},
     "output_type": "execute_result"
    }
   ],
   "source": [
    "grid.best_index_"
   ]
  },
  {
   "cell_type": "code",
   "execution_count": 15,
   "metadata": {},
   "outputs": [
    {
     "data": {
      "text/plain": [
       "{'mean_fit_time': array([0.02725599, 0.13134871, 0.25883996, 0.02978559, 0.14259565,\n",
       "        0.28774002, 0.0326875 , 0.16102493, 0.31682897, 0.02324994,\n",
       "        0.11409428, 0.23198223, 0.03322992, 0.1583503 , 0.31866021,\n",
       "        0.03753092, 0.18440697, 0.3652127 , 0.04219024, 0.20637348,\n",
       "        0.41184654, 0.02996016, 0.1373292 , 0.27494166]),\n",
       " 'std_fit_time': array([0.00070042, 0.00586884, 0.00736456, 0.00071739, 0.00132802,\n",
       "        0.00738776, 0.0015497 , 0.00406044, 0.00800875, 0.00040152,\n",
       "        0.00164487, 0.00700961, 0.00151099, 0.00175397, 0.00671707,\n",
       "        0.00151982, 0.00571521, 0.01081157, 0.00127916, 0.00725617,\n",
       "        0.01053493, 0.00608917, 0.00291556, 0.04022152]),\n",
       " 'mean_score_time': array([0.00278957, 0.00840058, 0.01621203, 0.00252781, 0.00883374,\n",
       "        0.01611216, 0.00239866, 0.00834959, 0.01594179, 0.0023962 ,\n",
       "        0.00847964, 0.01621873, 0.00259514, 0.00839431, 0.0164784 ,\n",
       "        0.00234554, 0.00848219, 0.01634929, 0.0024034 , 0.00876343,\n",
       "        0.01567969, 0.00240445, 0.0084832 , 0.0160423 ]),\n",
       " 'std_score_time': array([3.73177586e-04, 1.99223175e-04, 5.42170882e-04, 4.63904370e-04,\n",
       "        9.23418187e-04, 6.83418421e-04, 1.11829245e-04, 2.17523946e-04,\n",
       "        4.91994136e-04, 4.02435024e-05, 2.93049931e-04, 4.75197238e-04,\n",
       "        3.07421187e-04, 2.76492949e-04, 1.92311154e-03, 8.41732699e-05,\n",
       "        3.52373505e-04, 1.75878138e-03, 1.21424136e-04, 8.19270546e-04,\n",
       "        5.71056109e-04, 8.79464059e-05, 2.66484072e-04, 6.27471911e-03]),\n",
       " 'param_bootstrap': masked_array(data=[True, True, True, True, True, True, True, True, True,\n",
       "                    True, True, True, False, False, False, False, False,\n",
       "                    False, False, False, False, False, False, False],\n",
       "              mask=[False, False, False, False, False, False, False, False,\n",
       "                    False, False, False, False, False, False, False, False,\n",
       "                    False, False, False, False, False, False, False, False],\n",
       "        fill_value='?',\n",
       "             dtype=object),\n",
       " 'param_max_features': masked_array(data=[3, 3, 3, 4, 4, 4, 5, 5, 5, 'auto', 'auto', 'auto', 3,\n",
       "                    3, 3, 4, 4, 4, 5, 5, 5, 'auto', 'auto', 'auto'],\n",
       "              mask=[False, False, False, False, False, False, False, False,\n",
       "                    False, False, False, False, False, False, False, False,\n",
       "                    False, False, False, False, False, False, False, False],\n",
       "        fill_value='?',\n",
       "             dtype=object),\n",
       " 'param_n_estimators': masked_array(data=[10, 50, 100, 10, 50, 100, 10, 50, 100, 10, 50, 100, 10,\n",
       "                    50, 100, 10, 50, 100, 10, 50, 100, 10, 50, 100],\n",
       "              mask=[False, False, False, False, False, False, False, False,\n",
       "                    False, False, False, False, False, False, False, False,\n",
       "                    False, False, False, False, False, False, False, False],\n",
       "        fill_value='?',\n",
       "             dtype=object),\n",
       " 'params': [{'bootstrap': True, 'max_features': 3, 'n_estimators': 10},\n",
       "  {'bootstrap': True, 'max_features': 3, 'n_estimators': 50},\n",
       "  {'bootstrap': True, 'max_features': 3, 'n_estimators': 100},\n",
       "  {'bootstrap': True, 'max_features': 4, 'n_estimators': 10},\n",
       "  {'bootstrap': True, 'max_features': 4, 'n_estimators': 50},\n",
       "  {'bootstrap': True, 'max_features': 4, 'n_estimators': 100},\n",
       "  {'bootstrap': True, 'max_features': 5, 'n_estimators': 10},\n",
       "  {'bootstrap': True, 'max_features': 5, 'n_estimators': 50},\n",
       "  {'bootstrap': True, 'max_features': 5, 'n_estimators': 100},\n",
       "  {'bootstrap': True, 'max_features': 'auto', 'n_estimators': 10},\n",
       "  {'bootstrap': True, 'max_features': 'auto', 'n_estimators': 50},\n",
       "  {'bootstrap': True, 'max_features': 'auto', 'n_estimators': 100},\n",
       "  {'bootstrap': False, 'max_features': 3, 'n_estimators': 10},\n",
       "  {'bootstrap': False, 'max_features': 3, 'n_estimators': 50},\n",
       "  {'bootstrap': False, 'max_features': 3, 'n_estimators': 100},\n",
       "  {'bootstrap': False, 'max_features': 4, 'n_estimators': 10},\n",
       "  {'bootstrap': False, 'max_features': 4, 'n_estimators': 50},\n",
       "  {'bootstrap': False, 'max_features': 4, 'n_estimators': 100},\n",
       "  {'bootstrap': False, 'max_features': 5, 'n_estimators': 10},\n",
       "  {'bootstrap': False, 'max_features': 5, 'n_estimators': 50},\n",
       "  {'bootstrap': False, 'max_features': 5, 'n_estimators': 100},\n",
       "  {'bootstrap': False, 'max_features': 'auto', 'n_estimators': 10},\n",
       "  {'bootstrap': False, 'max_features': 'auto', 'n_estimators': 50},\n",
       "  {'bootstrap': False, 'max_features': 'auto', 'n_estimators': 100}],\n",
       " 'split0_test_score': array([0.71428571, 0.67532468, 0.7012987 , 0.66233766, 0.66233766,\n",
       "        0.7012987 , 0.7012987 , 0.72727273, 0.74025974, 0.71428571,\n",
       "        0.71428571, 0.71428571, 0.64935065, 0.71428571, 0.71428571,\n",
       "        0.66233766, 0.67532468, 0.7012987 , 0.61038961, 0.66233766,\n",
       "        0.68831169, 0.68831169, 0.7012987 , 0.74025974]),\n",
       " 'split1_test_score': array([0.74025974, 0.75324675, 0.77922078, 0.80519481, 0.76623377,\n",
       "        0.80519481, 0.71428571, 0.74025974, 0.76623377, 0.72727273,\n",
       "        0.80519481, 0.77922078, 0.75324675, 0.77922078, 0.74025974,\n",
       "        0.74025974, 0.76623377, 0.74025974, 0.75324675, 0.79220779,\n",
       "        0.76623377, 0.84415584, 0.72727273, 0.77922078]),\n",
       " 'split2_test_score': array([0.77922078, 0.75324675, 0.76623377, 0.75324675, 0.76623377,\n",
       "        0.77922078, 0.74025974, 0.74025974, 0.76623377, 0.75324675,\n",
       "        0.76623377, 0.74025974, 0.67532468, 0.67532468, 0.71428571,\n",
       "        0.64935065, 0.67532468, 0.7012987 , 0.64935065, 0.67532468,\n",
       "        0.7012987 , 0.68831169, 0.7012987 , 0.71428571]),\n",
       " 'split3_test_score': array([0.68831169, 0.66233766, 0.66233766, 0.67532468, 0.67532468,\n",
       "        0.64935065, 0.67532468, 0.68831169, 0.64935065, 0.68831169,\n",
       "        0.66233766, 0.67532468, 0.66233766, 0.66233766, 0.66233766,\n",
       "        0.63636364, 0.63636364, 0.64935065, 0.67532468, 0.62337662,\n",
       "        0.62337662, 0.66233766, 0.66233766, 0.68831169]),\n",
       " 'split4_test_score': array([0.72727273, 0.74025974, 0.75324675, 0.74025974, 0.77922078,\n",
       "        0.75324675, 0.72727273, 0.75324675, 0.76623377, 0.74025974,\n",
       "        0.7012987 , 0.71428571, 0.74025974, 0.76623377, 0.74025974,\n",
       "        0.77922078, 0.77922078, 0.75324675, 0.71428571, 0.76623377,\n",
       "        0.72727273, 0.72727273, 0.71428571, 0.7012987 ]),\n",
       " 'split5_test_score': array([0.77922078, 0.83116883, 0.83116883, 0.81818182, 0.79220779,\n",
       "        0.84415584, 0.74025974, 0.80519481, 0.81818182, 0.75324675,\n",
       "        0.79220779, 0.77922078, 0.74025974, 0.84415584, 0.80519481,\n",
       "        0.80519481, 0.81818182, 0.81818182, 0.76623377, 0.75324675,\n",
       "        0.79220779, 0.74025974, 0.77922078, 0.81818182]),\n",
       " 'split6_test_score': array([0.72727273, 0.81818182, 0.79220779, 0.77922078, 0.83116883,\n",
       "        0.80519481, 0.81818182, 0.79220779, 0.83116883, 0.76623377,\n",
       "        0.79220779, 0.83116883, 0.80519481, 0.77922078, 0.79220779,\n",
       "        0.77922078, 0.76623377, 0.81818182, 0.79220779, 0.77922078,\n",
       "        0.80519481, 0.80519481, 0.80519481, 0.77922078]),\n",
       " 'split7_test_score': array([0.81818182, 0.83116883, 0.85714286, 0.79220779, 0.81818182,\n",
       "        0.85714286, 0.79220779, 0.83116883, 0.84415584, 0.84415584,\n",
       "        0.77922078, 0.84415584, 0.76623377, 0.84415584, 0.79220779,\n",
       "        0.80519481, 0.85714286, 0.79220779, 0.83116883, 0.81818182,\n",
       "        0.84415584, 0.85714286, 0.83116883, 0.85714286]),\n",
       " 'split8_test_score': array([0.71052632, 0.68421053, 0.72368421, 0.68421053, 0.69736842,\n",
       "        0.69736842, 0.63157895, 0.69736842, 0.69736842, 0.72368421,\n",
       "        0.68421053, 0.65789474, 0.68421053, 0.68421053, 0.69736842,\n",
       "        0.71052632, 0.71052632, 0.68421053, 0.71052632, 0.68421053,\n",
       "        0.71052632, 0.64473684, 0.71052632, 0.69736842]),\n",
       " 'split9_test_score': array([0.77631579, 0.78947368, 0.80263158, 0.75      , 0.77631579,\n",
       "        0.84210526, 0.80263158, 0.78947368, 0.77631579, 0.75      ,\n",
       "        0.80263158, 0.78947368, 0.82894737, 0.85526316, 0.81578947,\n",
       "        0.77631579, 0.78947368, 0.80263158, 0.73684211, 0.76315789,\n",
       "        0.81578947, 0.81578947, 0.80263158, 0.82894737]),\n",
       " 'mean_test_score': array([0.74609375, 0.75390625, 0.76692708, 0.74609375, 0.75651042,\n",
       "        0.7734375 , 0.734375  , 0.75651042, 0.765625  , 0.74609375,\n",
       "        0.75      , 0.75260417, 0.73046875, 0.76041667, 0.74739583,\n",
       "        0.734375  , 0.74739583, 0.74609375, 0.72395833, 0.73177083,\n",
       "        0.74739583, 0.74739583, 0.74348958, 0.76041667]),\n",
       " 'std_test_score': array([0.03830501, 0.06079173, 0.05628143, 0.05281039, 0.05543948,\n",
       "        0.06749154, 0.05529933, 0.04454147, 0.05673129, 0.03926025,\n",
       "        0.05112034, 0.05942974, 0.05797237, 0.06963524, 0.04902638,\n",
       "        0.06205654, 0.06685779, 0.05744391, 0.06337689, 0.06170916,\n",
       "        0.06522033, 0.07387893, 0.05350955, 0.05768339]),\n",
       " 'rank_test_score': array([15,  8,  2, 15,  6,  1, 20,  6,  3, 15, 10,  9, 23,  4, 11, 20, 11,\n",
       "        15, 24, 22, 11, 11, 19,  4], dtype=int32)}"
      ]
     },
     "execution_count": 15,
     "metadata": {},
     "output_type": "execute_result"
    }
   ],
   "source": [
    "grid.cv_results_"
   ]
  },
  {
   "cell_type": "code",
   "execution_count": 18,
   "metadata": {},
   "outputs": [],
   "source": [
    "from sklearn.model_selection import RandomizedSearchCV"
   ]
  },
  {
   "cell_type": "code",
   "execution_count": 19,
   "metadata": {},
   "outputs": [
    {
     "name": "stdout",
     "output_type": "stream",
     "text": [
      "Best: 0.764323 using {'n_estimators': 50, 'max_features': 3, 'bootstrap': True}\n",
      "Execution time: 6.0227625370025635 ms\n"
     ]
    }
   ],
   "source": [
    "random = RandomizedSearchCV(estimator=model, param_distributions=param_grid, cv = 10, n_jobs=-1)\n",
    "\n",
    "start_time = time.time()\n",
    "random_result = random.fit(X, y)\n",
    "# Summarize results\n",
    "print(\"Best: %f using %s\" % (random_result.best_score_, random_result.best_params_))\n",
    "print(\"Execution time: \" + str((time.time() - start_time)) + ' ms')"
   ]
  },
  {
   "cell_type": "code",
   "execution_count": 20,
   "metadata": {},
   "outputs": [
    {
     "data": {
      "text/plain": [
       "GridSearchCV(cv=10, error_score='raise-deprecating',\n",
       "             estimator=RandomForestClassifier(bootstrap=True, class_weight=None,\n",
       "                                              criterion='gini', max_depth=None,\n",
       "                                              max_features='auto',\n",
       "                                              max_leaf_nodes=None,\n",
       "                                              min_impurity_decrease=0.0,\n",
       "                                              min_impurity_split=None,\n",
       "                                              min_samples_leaf=1,\n",
       "                                              min_samples_split=2,\n",
       "                                              min_weight_fraction_leaf=0.0,\n",
       "                                              n_estimators='warn', n_jobs=None,\n",
       "                                              oob_score=False,\n",
       "                                              random_state=None, verbose=0,\n",
       "                                              warm_start=False),\n",
       "             iid='warn', n_jobs=-1,\n",
       "             param_grid={'bootstrap': [True, False],\n",
       "                         'max_features': [3, 4, 5, 'auto'],\n",
       "                         'n_estimators': [10, 50, 100]},\n",
       "             pre_dispatch='2*n_jobs', refit=True, return_train_score=False,\n",
       "             scoring=None, verbose=0)"
      ]
     },
     "execution_count": 20,
     "metadata": {},
     "output_type": "execute_result"
    }
   ],
   "source": [
    "grid_result"
   ]
  },
  {
   "cell_type": "code",
   "execution_count": 22,
   "metadata": {},
   "outputs": [
    {
     "data": {
      "text/plain": [
       "{'mean_fit_time': array([0.03524065, 0.0345695 , 0.20658536, 0.28515785, 0.2578052 ,\n",
       "        0.02788789, 0.0264411 , 0.12942181, 0.31671121, 0.32268496]),\n",
       " 'std_fit_time': array([0.00430991, 0.00450958, 0.00485475, 0.00547885, 0.00692499,\n",
       "        0.00106297, 0.00080988, 0.00456404, 0.00676286, 0.05311653]),\n",
       " 'mean_score_time': array([0.00282543, 0.0023787 , 0.00834134, 0.01601181, 0.01581271,\n",
       "        0.00238163, 0.00240104, 0.00866213, 0.01590121, 0.01318521]),\n",
       " 'std_score_time': array([8.93123769e-04, 7.51421835e-05, 3.24670967e-04, 1.89501596e-04,\n",
       "        3.24079403e-04, 5.62585051e-05, 5.96879425e-05, 6.93806588e-04,\n",
       "        3.73933137e-04, 4.47736778e-03]),\n",
       " 'param_n_estimators': masked_array(data=[10, 10, 50, 100, 100, 10, 10, 50, 100, 100],\n",
       "              mask=[False, False, False, False, False, False, False, False,\n",
       "                    False, False],\n",
       "        fill_value='?',\n",
       "             dtype=object),\n",
       " 'param_max_features': masked_array(data=[3, 5, 5, 4, 3, 'auto', 3, 3, 3, 4],\n",
       "              mask=[False, False, False, False, False, False, False, False,\n",
       "                    False, False],\n",
       "        fill_value='?',\n",
       "             dtype=object),\n",
       " 'param_bootstrap': masked_array(data=[False, True, False, True, True, False, True, True,\n",
       "                    False, False],\n",
       "              mask=[False, False, False, False, False, False, False, False,\n",
       "                    False, False],\n",
       "        fill_value='?',\n",
       "             dtype=object),\n",
       " 'params': [{'n_estimators': 10, 'max_features': 3, 'bootstrap': False},\n",
       "  {'n_estimators': 10, 'max_features': 5, 'bootstrap': True},\n",
       "  {'n_estimators': 50, 'max_features': 5, 'bootstrap': False},\n",
       "  {'n_estimators': 100, 'max_features': 4, 'bootstrap': True},\n",
       "  {'n_estimators': 100, 'max_features': 3, 'bootstrap': True},\n",
       "  {'n_estimators': 10, 'max_features': 'auto', 'bootstrap': False},\n",
       "  {'n_estimators': 10, 'max_features': 3, 'bootstrap': True},\n",
       "  {'n_estimators': 50, 'max_features': 3, 'bootstrap': True},\n",
       "  {'n_estimators': 100, 'max_features': 3, 'bootstrap': False},\n",
       "  {'n_estimators': 100, 'max_features': 4, 'bootstrap': False}],\n",
       " 'split0_test_score': array([0.72727273, 0.74025974, 0.68831169, 0.7012987 , 0.7012987 ,\n",
       "        0.75324675, 0.68831169, 0.74025974, 0.68831169, 0.67532468]),\n",
       " 'split1_test_score': array([0.76623377, 0.72727273, 0.76623377, 0.75324675, 0.81818182,\n",
       "        0.71428571, 0.75324675, 0.76623377, 0.74025974, 0.75324675]),\n",
       " 'split2_test_score': array([0.66233766, 0.74025974, 0.74025974, 0.76623377, 0.74025974,\n",
       "        0.72727273, 0.72727273, 0.76623377, 0.74025974, 0.67532468]),\n",
       " 'split3_test_score': array([0.66233766, 0.66233766, 0.63636364, 0.67532468, 0.66233766,\n",
       "        0.66233766, 0.63636364, 0.68831169, 0.66233766, 0.62337662]),\n",
       " 'split4_test_score': array([0.72727273, 0.72727273, 0.74025974, 0.74025974, 0.72727273,\n",
       "        0.74025974, 0.76623377, 0.75324675, 0.77922078, 0.74025974]),\n",
       " 'split5_test_score': array([0.75324675, 0.72727273, 0.79220779, 0.81818182, 0.81818182,\n",
       "        0.81818182, 0.77922078, 0.76623377, 0.79220779, 0.79220779]),\n",
       " 'split6_test_score': array([0.77922078, 0.85714286, 0.80519481, 0.81818182, 0.77922078,\n",
       "        0.76623377, 0.77922078, 0.80519481, 0.77922078, 0.77922078]),\n",
       " 'split7_test_score': array([0.81818182, 0.81818182, 0.81818182, 0.83116883, 0.81818182,\n",
       "        0.77922078, 0.79220779, 0.81818182, 0.81818182, 0.80519481]),\n",
       " 'split8_test_score': array([0.69736842, 0.71052632, 0.71052632, 0.71052632, 0.69736842,\n",
       "        0.69736842, 0.67105263, 0.69736842, 0.67105263, 0.71052632]),\n",
       " 'split9_test_score': array([0.76315789, 0.75      , 0.81578947, 0.78947368, 0.82894737,\n",
       "        0.80263158, 0.76315789, 0.84210526, 0.76315789, 0.77631579]),\n",
       " 'mean_test_score': array([0.73567708, 0.74609375, 0.75130208, 0.76041667, 0.75911458,\n",
       "        0.74609375, 0.73567708, 0.76432292, 0.74348958, 0.73307292]),\n",
       " 'std_test_score': array([0.04806035, 0.05196948, 0.05703177, 0.0512493 , 0.05797637,\n",
       "        0.04551717, 0.05033964, 0.04638292, 0.05077863, 0.05693977]),\n",
       " 'rank_test_score': array([ 8,  5,  4,  2,  3,  5,  8,  1,  7, 10], dtype=int32)}"
      ]
     },
     "execution_count": 22,
     "metadata": {},
     "output_type": "execute_result"
    }
   ],
   "source": [
    "random.cv_results_"
   ]
  }
 ],
 "metadata": {
  "kernelspec": {
   "display_name": "Python 3",
   "language": "python",
   "name": "python3"
  },
  "language_info": {
   "codemirror_mode": {
    "name": "ipython",
    "version": 3
   },
   "file_extension": ".py",
   "mimetype": "text/x-python",
   "name": "python",
   "nbconvert_exporter": "python",
   "pygments_lexer": "ipython3",
   "version": "3.7.3"
  }
 },
 "nbformat": 4,
 "nbformat_minor": 2
}
