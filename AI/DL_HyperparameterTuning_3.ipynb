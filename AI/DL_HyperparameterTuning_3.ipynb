{
 "cells": [
  {
   "cell_type": "markdown",
   "metadata": {
    "colab_type": "text",
    "id": "HNRe6GoUfMBw"
   },
   "source": [
    "# Activation function evaluation"
   ]
  },
  {
   "cell_type": "code",
   "execution_count": 0,
   "metadata": {
    "colab": {
     "base_uri": "https://localhost:8080/",
     "height": 894
    },
    "colab_type": "code",
    "id": "Qbcd_Hpli8Yc",
    "outputId": "9ccc8b91-153f-4ddc-dd93-6cb449f3d2a6"
   },
   "outputs": [
    {
     "name": "stdout",
     "output_type": "stream",
     "text": [
      "Collecting tensorflow==2.0\n",
      "\u001b[?25l  Downloading https://files.pythonhosted.org/packages/46/0f/7bd55361168bb32796b360ad15a25de6966c9c1beb58a8e30c01c8279862/tensorflow-2.0.0-cp36-cp36m-manylinux2010_x86_64.whl (86.3MB)\n",
      "\u001b[K     |████████████████████████████████| 86.3MB 61kB/s \n",
      "\u001b[?25hRequirement already satisfied: six>=1.10.0 in /usr/local/lib/python3.6/dist-packages (from tensorflow==2.0) (1.12.0)\n",
      "Requirement already satisfied: numpy<2.0,>=1.16.0 in /usr/local/lib/python3.6/dist-packages (from tensorflow==2.0) (1.17.5)\n",
      "Collecting tensorboard<2.1.0,>=2.0.0\n",
      "\u001b[?25l  Downloading https://files.pythonhosted.org/packages/76/54/99b9d5d52d5cb732f099baaaf7740403e83fe6b0cedde940fabd2b13d75a/tensorboard-2.0.2-py3-none-any.whl (3.8MB)\n",
      "\u001b[K     |████████████████████████████████| 3.8MB 34.4MB/s \n",
      "\u001b[?25hRequirement already satisfied: keras-preprocessing>=1.0.5 in /usr/local/lib/python3.6/dist-packages (from tensorflow==2.0) (1.1.0)\n",
      "Requirement already satisfied: google-pasta>=0.1.6 in /usr/local/lib/python3.6/dist-packages (from tensorflow==2.0) (0.1.8)\n",
      "Requirement already satisfied: wheel>=0.26 in /usr/local/lib/python3.6/dist-packages (from tensorflow==2.0) (0.34.2)\n",
      "Collecting tensorflow-estimator<2.1.0,>=2.0.0\n",
      "\u001b[?25l  Downloading https://files.pythonhosted.org/packages/fc/08/8b927337b7019c374719145d1dceba21a8bb909b93b1ad6f8fb7d22c1ca1/tensorflow_estimator-2.0.1-py2.py3-none-any.whl (449kB)\n",
      "\u001b[K     |████████████████████████████████| 450kB 61.8MB/s \n",
      "\u001b[?25hRequirement already satisfied: termcolor>=1.1.0 in /usr/local/lib/python3.6/dist-packages (from tensorflow==2.0) (1.1.0)\n",
      "Requirement already satisfied: astor>=0.6.0 in /usr/local/lib/python3.6/dist-packages (from tensorflow==2.0) (0.8.1)\n",
      "Requirement already satisfied: gast==0.2.2 in /usr/local/lib/python3.6/dist-packages (from tensorflow==2.0) (0.2.2)\n",
      "Requirement already satisfied: grpcio>=1.8.6 in /usr/local/lib/python3.6/dist-packages (from tensorflow==2.0) (1.27.1)\n",
      "Requirement already satisfied: wrapt>=1.11.1 in /usr/local/lib/python3.6/dist-packages (from tensorflow==2.0) (1.11.2)\n",
      "Requirement already satisfied: opt-einsum>=2.3.2 in /usr/local/lib/python3.6/dist-packages (from tensorflow==2.0) (3.1.0)\n",
      "Requirement already satisfied: keras-applications>=1.0.8 in /usr/local/lib/python3.6/dist-packages (from tensorflow==2.0) (1.0.8)\n",
      "Requirement already satisfied: absl-py>=0.7.0 in /usr/local/lib/python3.6/dist-packages (from tensorflow==2.0) (0.9.0)\n",
      "Requirement already satisfied: protobuf>=3.6.1 in /usr/local/lib/python3.6/dist-packages (from tensorflow==2.0) (3.10.0)\n",
      "Requirement already satisfied: werkzeug>=0.11.15 in /usr/local/lib/python3.6/dist-packages (from tensorboard<2.1.0,>=2.0.0->tensorflow==2.0) (1.0.0)\n",
      "Requirement already satisfied: google-auth-oauthlib<0.5,>=0.4.1 in /usr/local/lib/python3.6/dist-packages (from tensorboard<2.1.0,>=2.0.0->tensorflow==2.0) (0.4.1)\n",
      "Requirement already satisfied: requests<3,>=2.21.0 in /usr/local/lib/python3.6/dist-packages (from tensorboard<2.1.0,>=2.0.0->tensorflow==2.0) (2.21.0)\n",
      "Requirement already satisfied: setuptools>=41.0.0 in /usr/local/lib/python3.6/dist-packages (from tensorboard<2.1.0,>=2.0.0->tensorflow==2.0) (45.2.0)\n",
      "Requirement already satisfied: markdown>=2.6.8 in /usr/local/lib/python3.6/dist-packages (from tensorboard<2.1.0,>=2.0.0->tensorflow==2.0) (3.2.1)\n",
      "Requirement already satisfied: google-auth<2,>=1.6.3 in /usr/local/lib/python3.6/dist-packages (from tensorboard<2.1.0,>=2.0.0->tensorflow==2.0) (1.7.2)\n",
      "Requirement already satisfied: h5py in /usr/local/lib/python3.6/dist-packages (from keras-applications>=1.0.8->tensorflow==2.0) (2.8.0)\n",
      "Requirement already satisfied: requests-oauthlib>=0.7.0 in /usr/local/lib/python3.6/dist-packages (from google-auth-oauthlib<0.5,>=0.4.1->tensorboard<2.1.0,>=2.0.0->tensorflow==2.0) (1.3.0)\n",
      "Requirement already satisfied: chardet<3.1.0,>=3.0.2 in /usr/local/lib/python3.6/dist-packages (from requests<3,>=2.21.0->tensorboard<2.1.0,>=2.0.0->tensorflow==2.0) (3.0.4)\n",
      "Requirement already satisfied: idna<2.9,>=2.5 in /usr/local/lib/python3.6/dist-packages (from requests<3,>=2.21.0->tensorboard<2.1.0,>=2.0.0->tensorflow==2.0) (2.8)\n",
      "Requirement already satisfied: certifi>=2017.4.17 in /usr/local/lib/python3.6/dist-packages (from requests<3,>=2.21.0->tensorboard<2.1.0,>=2.0.0->tensorflow==2.0) (2019.11.28)\n",
      "Requirement already satisfied: urllib3<1.25,>=1.21.1 in /usr/local/lib/python3.6/dist-packages (from requests<3,>=2.21.0->tensorboard<2.1.0,>=2.0.0->tensorflow==2.0) (1.24.3)\n",
      "Requirement already satisfied: rsa<4.1,>=3.1.4 in /usr/local/lib/python3.6/dist-packages (from google-auth<2,>=1.6.3->tensorboard<2.1.0,>=2.0.0->tensorflow==2.0) (4.0)\n",
      "Requirement already satisfied: pyasn1-modules>=0.2.1 in /usr/local/lib/python3.6/dist-packages (from google-auth<2,>=1.6.3->tensorboard<2.1.0,>=2.0.0->tensorflow==2.0) (0.2.8)\n",
      "Requirement already satisfied: cachetools<3.2,>=2.0.0 in /usr/local/lib/python3.6/dist-packages (from google-auth<2,>=1.6.3->tensorboard<2.1.0,>=2.0.0->tensorflow==2.0) (3.1.1)\n",
      "Requirement already satisfied: oauthlib>=3.0.0 in /usr/local/lib/python3.6/dist-packages (from requests-oauthlib>=0.7.0->google-auth-oauthlib<0.5,>=0.4.1->tensorboard<2.1.0,>=2.0.0->tensorflow==2.0) (3.1.0)\n",
      "Requirement already satisfied: pyasn1>=0.1.3 in /usr/local/lib/python3.6/dist-packages (from rsa<4.1,>=3.1.4->google-auth<2,>=1.6.3->tensorboard<2.1.0,>=2.0.0->tensorflow==2.0) (0.4.8)\n",
      "Installing collected packages: tensorboard, tensorflow-estimator, tensorflow\n",
      "  Found existing installation: tensorboard 1.15.0\n",
      "    Uninstalling tensorboard-1.15.0:\n",
      "      Successfully uninstalled tensorboard-1.15.0\n",
      "  Found existing installation: tensorflow-estimator 1.15.1\n",
      "    Uninstalling tensorflow-estimator-1.15.1:\n",
      "      Successfully uninstalled tensorflow-estimator-1.15.1\n",
      "  Found existing installation: tensorflow 1.15.0\n",
      "    Uninstalling tensorflow-1.15.0:\n",
      "      Successfully uninstalled tensorflow-1.15.0\n",
      "Successfully installed tensorboard-2.0.2 tensorflow-2.0.0 tensorflow-estimator-2.0.1\n"
     ]
    }
   ],
   "source": [
    "#!pip install tensorflow==2.0"
   ]
  },
  {
   "cell_type": "code",
   "execution_count": 1,
   "metadata": {
    "colab": {
     "base_uri": "https://localhost:8080/",
     "height": 34
    },
    "colab_type": "code",
    "id": "EiLQ7G3qhmcd",
    "outputId": "36f3d718-d58f-46e5-e5a3-f015640cc6b4"
   },
   "outputs": [
    {
     "name": "stdout",
     "output_type": "stream",
     "text": [
      "1.13.1\n"
     ]
    }
   ],
   "source": [
    "import tensorflow as tf\n",
    "\n",
    "print(tf.__version__)"
   ]
  },
  {
   "cell_type": "code",
   "execution_count": 0,
   "metadata": {
    "colab": {},
    "colab_type": "code",
    "id": "BhIr4RImfMB1"
   },
   "outputs": [],
   "source": [
    "%matplotlib inline\n",
    "\n",
    "\n",
    "import tensorflow as tf\n",
    "from tensorflow.keras.datasets import mnist\n",
    "from tensorflow.keras import Sequential\n",
    "from tensorflow.keras.layers import Dense, Dropout\n",
    "from tensorflow.keras.optimizers import RMSprop\n",
    "from tensorflow.keras.callbacks import EarlyStopping\n",
    "from tensorflow.keras.layers import BatchNormalization\n",
    "from tensorflow.keras.activations import relu\n",
    "import matplotlib.pyplot as plt"
   ]
  },
  {
   "cell_type": "code",
   "execution_count": 0,
   "metadata": {
    "colab": {
     "base_uri": "https://localhost:8080/",
     "height": 50
    },
    "colab_type": "code",
    "id": "9VeUeSvBfMB8",
    "outputId": "dc961e7e-6858-4ac1-aef8-102feb5cd0c3"
   },
   "outputs": [
    {
     "name": "stdout",
     "output_type": "stream",
     "text": [
      "Train size: 60000\n",
      "Test size: 10000\n"
     ]
    }
   ],
   "source": [
    "# https://corochann.com/mnist-dataset-introduction-1138.html  Introdcution to MNIST dataset\n",
    "\n",
    "\n",
    "(x_train, y_train), (x_test, y_test) = mnist.load_data()\n",
    "\n",
    "num_classes = 10\n",
    "x_train = x_train.reshape(60000, 784)    # 784 = 28 X 28 the size of each image. There are 60000 images for training\n",
    "x_test = x_test.reshape(10000, 784)      # Images are flattended out into a vector of 784 elements\n",
    "x_train = x_train.astype('float32')      # Change the data type to float from integer (0 - 255)\n",
    "x_test = x_test.astype('float32')\n",
    "x_train /= 255                           # Scale the data between 0 and 1\n",
    "x_test /= 255\n",
    "y_train = tf.keras.utils.to_categorical(y_train, num_classes)   # Converting the target into categorical which is stored as numeric\n",
    "y_test = tf.keras.utils.to_categorical(y_test, num_classes)     # Keras converst these into 1-hot coded vectors as these are lables\n",
    "\n",
    "\n",
    "print ('Train size:', x_train.shape[0])\n",
    "print ('Test size:', x_test.shape[0])"
   ]
  },
  {
   "cell_type": "code",
   "execution_count": 0,
   "metadata": {
    "colab": {
     "base_uri": "https://localhost:8080/",
     "height": 34
    },
    "colab_type": "code",
    "id": "lE3t0zbRZtfb",
    "outputId": "ca9c9204-a398-4e50-baa4-c1d5bb373937"
   },
   "outputs": [
    {
     "name": "stdout",
     "output_type": "stream",
     "text": [
      "2.2.0-rc2\n"
     ]
    }
   ],
   "source": [
    "print(tf.__version__)"
   ]
  },
  {
   "cell_type": "code",
   "execution_count": 0,
   "metadata": {
    "colab": {
     "base_uri": "https://localhost:8080/",
     "height": 286
    },
    "colab_type": "code",
    "id": "3yOQUOU6fMCG",
    "outputId": "97a04a47-cd92-412a-bc61-5dbd023f68ae"
   },
   "outputs": [
    {
     "name": "stdout",
     "output_type": "stream",
     "text": [
      "dense_145 (None, 784) ==> (None, 784)\n",
      "dense_146 (None, 784) ==> (None, 10)\n",
      "\n",
      "Model: \"sequential_66\"\n",
      "_________________________________________________________________\n",
      "Layer (type)                 Output Shape              Param #   \n",
      "=================================================================\n",
      "dense_145 (Dense)            (None, 784)               615440    \n",
      "_________________________________________________________________\n",
      "dense_146 (Dense)            (None, 10)                7850      \n",
      "=================================================================\n",
      "Total params: 623,290\n",
      "Trainable params: 623,290\n",
      "Non-trainable params: 0\n",
      "_________________________________________________________________\n",
      "None\n"
     ]
    }
   ],
   "source": [
    "model = Sequential()\n",
    "model.add(Dense(784, activation='relu', input_shape=(784,)))   #First hidden layer of 784  neurons, each neuron takes input \n",
    "                                                               # vector of size 784\n",
    "\n",
    "\n",
    "\n",
    "model.add(Dense(num_classes, activation='softmax'))            # Adding a softmax layer for output which contains as many \n",
    "                                                               # neurons as the number of classes (10) which is also the \n",
    "                                                               # the shape of each output vector ( one hot coded)\n",
    "\n",
    "                                                               # output layer also uses softmax. This normalizes the values \n",
    "                                                               # from the ten output nodes such that: \n",
    "                                                               #        all the values are between 0 and 1, and\n",
    "                                                               #        the sum of all ten values is 1.  \n",
    "                                                               # prediction is the lable of the node that gets highest fraction, is \n",
    "        \n",
    "        \n",
    "\n",
    "for l in model.layers:\n",
    "    print (l.name, l.input_shape,'==>',l.output_shape)\n",
    "print()\n",
    "print (model.summary())\n",
    "\n"
   ]
  },
  {
   "cell_type": "code",
   "execution_count": 0,
   "metadata": {
    "colab": {
     "base_uri": "https://localhost:8080/",
     "height": 312
    },
    "colab_type": "code",
    "id": "Co4YNNxqfMCM",
    "outputId": "6b04c21b-194b-481d-e39b-9ca9c1d52a49"
   },
   "outputs": [
    {
     "name": "stdout",
     "output_type": "stream",
     "text": [
      "model accuracy : 0.9830999970436096\n"
     ]
    },
    {
     "data": {
      "image/png": "[encoded data removed]",
      "text/plain": [
       "<Figure size 432x288 with 1 Axes>"
      ]
     },
     "metadata": {
      "needs_background": "light",
      "tags": []
     },
     "output_type": "display_data"
    }
   ],
   "source": [
    "batch_size = 256\n",
    "epochs = 20\n",
    "\n",
    "model.compile(optimizer='adam', loss='categorical_crossentropy', metrics=['accuracy'])\n",
    "history = model.fit(x_train, y_train, batch_size=batch_size, epochs=epochs, validation_split=.1, verbose=False)\n",
    "loss,accuracy  = model.evaluate(x_test, y_test, verbose=False)\n",
    "print(\"model accuracy :\" , accuracy)\n",
    "#print(\"validation accuracy : \", val_accuracy)\n",
    "\n",
    "plt.plot(history.history['accuracy'])\n",
    "plt.plot(history.history['val_accuracy'])\n",
    "plt.plot(history.history['loss'])\n",
    "plt.title('model accuracy')\n",
    "plt.ylabel('accuracy / loss')\n",
    "plt.xlabel('epoch')\n",
    "plt.legend(['training', 'validation','Tr_loss'], loc='best')\n",
    "plt.show()"
   ]
  },
  {
   "cell_type": "code",
   "execution_count": 0,
   "metadata": {
    "colab": {},
    "colab_type": "code",
    "id": "jCsvBv7g1W4d"
   },
   "outputs": [],
   "source": []
  },
  {
   "cell_type": "code",
   "execution_count": 0,
   "metadata": {
    "colab": {
     "base_uri": "https://localhost:8080/",
     "height": 335
    },
    "colab_type": "code",
    "id": "xAqv777xfMCT",
    "outputId": "e05cd74e-716e-4e9b-d88b-f4cacbab1c31"
   },
   "outputs": [
    {
     "name": "stdout",
     "output_type": "stream",
     "text": [
      "[0.9641666412353516, 0.9726666808128357, 0.9771666526794434, 0.9781666398048401, 0.9803333282470703, 0.9816666841506958, 0.9796666502952576, 0.981166660785675, 0.9829999804496765, 0.9816666841506958, 0.9836666584014893, 0.984000027179718, 0.9826666712760925, 0.9833333492279053, 0.984499990940094, 0.9835000038146973, 0.9848333597183228, 0.9838333129882812, 0.984666645526886, 0.984666645526886]\n",
      "[0.9114259481430054, 0.9626666903495789, 0.9756110906600952, 0.9817036986351013, 0.9873518347740173, 0.9903703927993774, 0.9939629435539246, 0.99529629945755, 0.997092604637146, 0.9979259371757507, 0.9985926151275635, 0.9990555644035339, 0.9996111392974854, 0.9997037053108215, 0.9998518228530884, 0.9999444484710693, 0.9999259114265442, 0.9999444484710693, 1.0, 1.0]\n"
     ]
    },
    {
     "data": {
      "text/plain": [
       "<matplotlib.axes._subplots.AxesSubplot at 0x7f206a453d68>"
      ]
     },
     "execution_count": 153,
     "metadata": {
      "tags": []
     },
     "output_type": "execute_result"
    },
    {
     "data": {
      "image/png": "[encoded data removed]",
      "text/plain": [
       "<Figure size 432x288 with 1 Axes>"
      ]
     },
     "metadata": {
      "needs_background": "light",
      "tags": []
     },
     "output_type": "display_data"
    }
   ],
   "source": [
    "import pandas as pd\n",
    "\n",
    "print(history.history['val_accuracy'])\n",
    "\n",
    "print(history.history['accuracy'])\n",
    "\n",
    "ta = pd.DataFrame(history.history['accuracy'])\n",
    "va = pd.DataFrame(history.history['val_accuracy'])\n",
    "\n",
    "tva = pd.concat([ta,va] , axis=1)\n",
    "\n",
    "tva.boxplot()"
   ]
  },
  {
   "cell_type": "code",
   "execution_count": 0,
   "metadata": {
    "colab": {},
    "colab_type": "code",
    "id": "9jUixZtIfMCY"
   },
   "outputs": [],
   "source": [
    "# With simple two layer NN, got an accuracy of 98%+ \n",
    "# But training and validation scores are in different ranges ... looks like overfitting case\n",
    "# The accuracy is reached quite early in the epochs within first 5\n",
    "\n"
   ]
  },
  {
   "cell_type": "markdown",
   "metadata": {
    "colab_type": "text",
    "id": "-ivLZvEsfMCg"
   },
   "source": [
    "# Number of hidden layers"
   ]
  },
  {
   "cell_type": "code",
   "execution_count": 0,
   "metadata": {
    "colab": {},
    "colab_type": "code",
    "id": "TGvQcYbAfMCi"
   },
   "outputs": [],
   "source": [
    "def create_dense(layer_sizes):\n",
    "    model = Sequential()\n",
    "    model.add(Dense(layer_sizes[0], activation='relu', input_shape=(784,)))\n",
    "\n",
    "    for s in layer_sizes[1:]:\n",
    "        model.add(Dense(units = s, activation = 'relu'))\n",
    "\n",
    "    model.add(Dense(units=num_classes, activation='softmax'))\n",
    "    return model\n",
    "\n",
    "def evaluate(model, batch_size=batch_size, epochs=epochs):\n",
    "    model.summary()\n",
    "    model.compile(optimizer='adam', loss='categorical_crossentropy', metrics=['accuracy'])\n",
    "    history = model.fit(x_train, y_train, batch_size=batch_size, epochs=50, validation_split=.1, verbose=False)\n",
    "    loss,accuracy  = model.evaluate(x_test, y_test, verbose=False)\n",
    "    \n",
    "    print(\"Model accuracy : \", accuracy)\n",
    " \n",
    "    \n",
    "    plt.plot(history.history['accuracy'])\n",
    "    plt.plot(history.history['val_accuracy'])\n",
    "    plt.plot(history.history['loss'])\n",
    "    plt.title('model accuracy')\n",
    "    plt.ylabel('accuracy / loss')\n",
    "    plt.xlabel('epoch')\n",
    "    plt.legend(['training', 'validation', 'tr_loss'], loc='best')\n",
    "    plt.show()\n",
    "\n",
    "    "
   ]
  },
  {
   "cell_type": "code",
   "execution_count": 0,
   "metadata": {
    "colab": {
     "base_uri": "https://localhost:8080/",
     "height": 1000
    },
    "colab_type": "code",
    "id": "DR-WGoYAfMCo",
    "outputId": "dfb7c4b9-dc72-441f-a741-8b9486f102ea"
   },
   "outputs": [
    {
     "name": "stdout",
     "output_type": "stream",
     "text": [
      "Model: \"sequential_67\"\n",
      "_________________________________________________________________\n",
      "Layer (type)                 Output Shape              Param #   \n",
      "=================================================================\n",
      "dense_147 (Dense)            (None, 784)               615440    \n",
      "_________________________________________________________________\n",
      "dense_148 (Dense)            (None, 784)               615440    \n",
      "_________________________________________________________________\n",
      "dense_149 (Dense)            (None, 10)                7850      \n",
      "=================================================================\n",
      "Total params: 1,238,730\n",
      "Trainable params: 1,238,730\n",
      "Non-trainable params: 0\n",
      "_________________________________________________________________\n",
      "Model accuracy :  0.9857000112533569\n"
     ]
    },
    {
     "data": {
      "image/png": "[encoded data removed]",
      "text/plain": [
       "<Figure size 432x288 with 1 Axes>"
      ]
     },
     "metadata": {
      "needs_background": "light",
      "tags": []
     },
     "output_type": "display_data"
    },
    {
     "name": "stdout",
     "output_type": "stream",
     "text": [
      "Model: \"sequential_68\"\n",
      "_________________________________________________________________\n",
      "Layer (type)                 Output Shape              Param #   \n",
      "=================================================================\n",
      "dense_150 (Dense)            (None, 784)               615440    \n",
      "_________________________________________________________________\n",
      "dense_151 (Dense)            (None, 784)               615440    \n",
      "_________________________________________________________________\n",
      "dense_152 (Dense)            (None, 784)               615440    \n",
      "_________________________________________________________________\n",
      "dense_153 (Dense)            (None, 10)                7850      \n",
      "=================================================================\n",
      "Total params: 1,854,170\n",
      "Trainable params: 1,854,170\n",
      "Non-trainable params: 0\n",
      "_________________________________________________________________\n",
      "Model accuracy :  0.9819999933242798\n"
     ]
    },
    {
     "data": {
      "image/png": "[encoded data removed]",
      "text/plain": [
       "<Figure size 432x288 with 1 Axes>"
      ]
     },
     "metadata": {
      "needs_background": "light",
      "tags": []
     },
     "output_type": "display_data"
    }
   ],
   "source": [
    "for layers in range(2,4):\n",
    "    model = create_dense([784] * layers)\n",
    "    evaluate(model)"
   ]
  },
  {
   "cell_type": "code",
   "execution_count": 0,
   "metadata": {
    "colab": {
     "base_uri": "https://localhost:8080/",
     "height": 335
    },
    "colab_type": "code",
    "id": "B1OY7wQYfMCt",
    "outputId": "fa349859-0e85-4d2f-8152-c6caaa819e28"
   },
   "outputs": [
    {
     "name": "stdout",
     "output_type": "stream",
     "text": [
      "[0.9641666412353516, 0.9746666550636292, 0.9758333563804626, 0.9800000190734863, 0.9798333048820496, 0.9821666479110718, 0.9831666946411133, 0.9816666841506958, 0.9829999804496765, 0.9819999933242798, 0.9835000038146973, 0.9836666584014893, 0.98416668176651, 0.9835000038146973, 0.9838333129882812, 0.9858333468437195, 0.9853333234786987, 0.984499990940094, 0.9850000143051147, 0.984666645526886]\n",
      "[0.911648154258728, 0.9625555276870728, 0.9758148193359375, 0.9824259281158447, 0.9874629378318787, 0.9912407398223877, 0.9938703775405884, 0.9957777857780457, 0.9974814653396606, 0.9978703856468201, 0.9987221956253052, 0.9992777705192566, 0.9993518590927124, 0.9995370507240295, 0.999833345413208, 0.9999259114265442, 1.0, 1.0, 0.9999814629554749, 1.0]\n"
     ]
    },
    {
     "data": {
      "text/plain": [
       "<matplotlib.axes._subplots.AxesSubplot at 0x7f206d189dd8>"
      ]
     },
     "execution_count": 144,
     "metadata": {
      "tags": []
     },
     "output_type": "execute_result"
    },
    {
     "data": {
      "image/png": "[encoded data removed]",
      "text/plain": [
       "<Figure size 432x288 with 1 Axes>"
      ]
     },
     "metadata": {
      "needs_background": "light",
      "tags": []
     },
     "output_type": "display_data"
    }
   ],
   "source": [
    "print(history.history['val_accuracy'])\n",
    "\n",
    "print(history.history['accuracy'])\n",
    "\n",
    "ta = pd.DataFrame(history.history['accuracy'])\n",
    "va = pd.DataFrame(history.history['val_accuracy'])\n",
    "\n",
    "tva = pd.concat([ta,va] , axis=1)\n",
    "\n",
    "tva.boxplot()"
   ]
  },
  {
   "cell_type": "markdown",
   "metadata": {
    "colab_type": "text",
    "id": "WgGJTgNZfMC5"
   },
   "source": [
    "## Observations about number of layers\n",
    "\n",
    "1. With one hidden layer of 784 neurons and one ouput layer of 10 the validation score is 98% rounded\n",
    "2. Increasing the hidden layer by one with same number of neurons shows the model is becoming wavy and overfit. Training accuracy is close to 1 while validation accuracy remains at 98% rounded\n",
    "3. Increasing the hidden layer by one more makes the situation even worse\n",
    "4. Returns are not enough to justify the number of parameters to learn\n",
    "5. Freeze number of hiddden layers to 1\n",
    "\n",
    "\n"
   ]
  },
  {
   "cell_type": "markdown",
   "metadata": {
    "colab_type": "text",
    "id": "1ZBbTpj8fMC7"
   },
   "source": [
    "# Reduce number of neurons to 256 with only one hidden layer "
   ]
  },
  {
   "cell_type": "code",
   "execution_count": 0,
   "metadata": {
    "colab": {
     "base_uri": "https://localhost:8080/",
     "height": 286
    },
    "colab_type": "code",
    "id": "muM-VHVwfMC9",
    "outputId": "cf1ca01f-dbdd-4c5d-e7e0-63e03fbe0d2c"
   },
   "outputs": [
    {
     "name": "stdout",
     "output_type": "stream",
     "text": [
      "dense_154 (None, 784) ==> (None, 256)\n",
      "dense_155 (None, 256) ==> (None, 10)\n",
      "\n",
      "Model: \"sequential_69\"\n",
      "_________________________________________________________________\n",
      "Layer (type)                 Output Shape              Param #   \n",
      "=================================================================\n",
      "dense_154 (Dense)            (None, 256)               200960    \n",
      "_________________________________________________________________\n",
      "dense_155 (Dense)            (None, 10)                2570      \n",
      "=================================================================\n",
      "Total params: 203,530\n",
      "Trainable params: 203,530\n",
      "Non-trainable params: 0\n",
      "_________________________________________________________________\n",
      "None\n"
     ]
    }
   ],
   "source": [
    "model = Sequential()\n",
    "model.add(Dense(256, activation='relu', input_shape=(784,)))   \n",
    "model.add(Dense(num_classes, activation='softmax'))             \n",
    " \n",
    "for l in model.layers:\n",
    "    print (l.name, l.input_shape,'==>',l.output_shape)\n",
    "print()\n",
    "print (model.summary())\n"
   ]
  },
  {
   "cell_type": "code",
   "execution_count": 0,
   "metadata": {
    "colab": {
     "base_uri": "https://localhost:8080/",
     "height": 312
    },
    "colab_type": "code",
    "id": "qeDi_snQfMDD",
    "outputId": "de784e9f-a7f8-4283-9e54-0ec7dea865ce"
   },
   "outputs": [
    {
     "name": "stdout",
     "output_type": "stream",
     "text": [
      "model accuracy : 0.9807999730110168\n"
     ]
    },
    {
     "data": {
      "image/png": "[encoded data removed]",
      "text/plain": [
       "<Figure size 432x288 with 1 Axes>"
      ]
     },
     "metadata": {
      "needs_background": "light",
      "tags": []
     },
     "output_type": "display_data"
    }
   ],
   "source": [
    "batch_size = 256\n",
    "epochs = 20\n",
    "\n",
    "model.compile(optimizer='adam', loss='categorical_crossentropy', metrics=['accuracy'])\n",
    "history = model.fit(x_train, y_train, batch_size=batch_size, epochs=epochs, validation_split=.1, verbose=False)\n",
    "loss,accuracy  = model.evaluate(x_test, y_test, verbose=False)\n",
    "print(\"model accuracy :\" , accuracy)\n",
    "#print(\"validation accuracy : \", val_accuracy)\n",
    "\n",
    "plt.plot(history.history['accuracy'])\n",
    "plt.plot(history.history['val_accuracy'])\n",
    "plt.plot(history.history['loss'])\n",
    "plt.title('model accuracy')\n",
    "plt.ylabel('accuracy / loss')\n",
    "plt.xlabel('epoch')\n",
    "plt.legend(['training', 'validation'], loc='best')\n",
    "plt.show()"
   ]
  },
  {
   "cell_type": "code",
   "execution_count": 0,
   "metadata": {
    "colab": {
     "base_uri": "https://localhost:8080/",
     "height": 335
    },
    "colab_type": "code",
    "id": "HPHxBCk1fMDJ",
    "outputId": "cb2ebbeb-6a0c-46ab-c9fc-0ef315e08e6c"
   },
   "outputs": [
    {
     "name": "stdout",
     "output_type": "stream",
     "text": [
      "[0.9545000195503235, 0.9660000205039978, 0.9728333353996277, 0.9753333330154419, 0.9779999852180481, 0.9778333306312561, 0.9764999747276306, 0.9803333282470703, 0.9800000190734863, 0.9771666526794434, 0.9798333048820496, 0.9803333282470703, 0.9821666479110718, 0.9815000295639038, 0.9835000038146973, 0.9825000166893005, 0.9816666841506958, 0.9836666584014893, 0.9825000166893005, 0.9828333258628845]\n",
      "[0.88825923204422, 0.9490370154380798, 0.9634814858436584, 0.9724444150924683, 0.9775925874710083, 0.9823333621025085, 0.9848333597183228, 0.9877777695655823, 0.9902963042259216, 0.9922962784767151, 0.9937962889671326, 0.9953333139419556, 0.9961851835250854, 0.996666669845581, 0.9978888630867004, 0.9981481432914734, 0.9989073872566223, 0.998962938785553, 0.9992222189903259, 0.9995370507240295]\n"
     ]
    },
    {
     "data": {
      "text/plain": [
       "<matplotlib.axes._subplots.AxesSubplot at 0x7f2069dd0f60>"
      ]
     },
     "execution_count": 158,
     "metadata": {
      "tags": []
     },
     "output_type": "execute_result"
    },
    {
     "data": {
      "image/png": "[encoded data removed]",
      "text/plain": [
       "<Figure size 432x288 with 1 Axes>"
      ]
     },
     "metadata": {
      "needs_background": "light",
      "tags": []
     },
     "output_type": "display_data"
    }
   ],
   "source": [
    "print(history.history['val_accuracy'])\n",
    "\n",
    "print(history.history['accuracy'])\n",
    "\n",
    "ta = pd.DataFrame(history.history['accuracy'])\n",
    "va = pd.DataFrame(history.history['val_accuracy'])\n",
    "\n",
    "tva = pd.concat([ta,va] , axis=1)\n",
    "\n",
    "tva.boxplot()"
   ]
  },
  {
   "cell_type": "markdown",
   "metadata": {
    "colab_type": "text",
    "id": "_YFbRYfAfMDO"
   },
   "source": [
    "## With 256 neurons and one hidden layer\n",
    "\n",
    "1. we are getting similar results in validation as with 784 neurons. \n",
    "2. The degree of overfit (between training and validation) is also reduced as is evident from training box plot\n",
    "\n",
    "3. With 128 neruons the validation accuracy drops to 97% rounded and the degree of overfit reduces further\n",
    "4. Futher reduction of neurons degrades the peformance both in training and validation\n"
   ]
  },
  {
   "cell_type": "markdown",
   "metadata": {
    "colab_type": "text",
    "id": "X5M4cF-XfMDP"
   },
   "source": [
    "## Impact of batch size"
   ]
  },
  {
   "cell_type": "code",
   "execution_count": 0,
   "metadata": {
    "colab": {
     "base_uri": "https://localhost:8080/",
     "height": 286
    },
    "colab_type": "code",
    "id": "cLsNF-4efMDR",
    "outputId": "07072586-4220-4bce-9c7f-a7626af7bf40"
   },
   "outputs": [
    {
     "name": "stdout",
     "output_type": "stream",
     "text": [
      "dense_156 (None, 784) ==> (None, 256)\n",
      "dense_157 (None, 256) ==> (None, 10)\n",
      "\n",
      "Model: \"sequential_70\"\n",
      "_________________________________________________________________\n",
      "Layer (type)                 Output Shape              Param #   \n",
      "=================================================================\n",
      "dense_156 (Dense)            (None, 256)               200960    \n",
      "_________________________________________________________________\n",
      "dense_157 (Dense)            (None, 10)                2570      \n",
      "=================================================================\n",
      "Total params: 203,530\n",
      "Trainable params: 203,530\n",
      "Non-trainable params: 0\n",
      "_________________________________________________________________\n",
      "None\n"
     ]
    }
   ],
   "source": [
    "model = Sequential()\n",
    "model.add(Dense(256, activation='relu', input_shape=(784,)))   \n",
    "model.add(Dense(num_classes, activation='softmax'))              \n",
    "        \n",
    "        \n",
    "\n",
    "for l in model.layers:\n",
    "    print (l.name, l.input_shape,'==>',l.output_shape)\n",
    "print()\n",
    "print (model.summary())\n"
   ]
  },
  {
   "cell_type": "code",
   "execution_count": 0,
   "metadata": {
    "colab": {
     "base_uri": "https://localhost:8080/",
     "height": 1000
    },
    "colab_type": "code",
    "id": "8jzcYiynfMDW",
    "outputId": "a2a5533a-9e26-4a75-a11f-4357e3035f34"
   },
   "outputs": [
    {
     "name": "stdout",
     "output_type": "stream",
     "text": [
      "Epoch 1/20\n",
      "2/2 [==============================] - 1s 328ms/step - loss: 2.2737 - accuracy: 0.1531 - val_loss: 1.9749 - val_accuracy: 0.4404\n",
      "Epoch 2/20\n",
      "2/2 [==============================] - 1s 291ms/step - loss: 1.8873 - accuracy: 0.5138 - val_loss: 1.6258 - val_accuracy: 0.6701\n",
      "Epoch 3/20\n",
      "2/2 [==============================] - 1s 287ms/step - loss: 1.5563 - accuracy: 0.6931 - val_loss: 1.3253 - val_accuracy: 0.7604\n",
      "Epoch 4/20\n",
      "2/2 [==============================] - 1s 289ms/step - loss: 1.2743 - accuracy: 0.7664 - val_loss: 1.0813 - val_accuracy: 0.8023\n",
      "Epoch 5/20\n",
      "2/2 [==============================] - 1s 292ms/step - loss: 1.0490 - accuracy: 0.7984 - val_loss: 0.8927 - val_accuracy: 0.8224\n",
      "Epoch 6/20\n",
      "2/2 [==============================] - 1s 285ms/step - loss: 0.8758 - accuracy: 0.8183 - val_loss: 0.7516 - val_accuracy: 0.8398\n",
      "Epoch 7/20\n",
      "2/2 [==============================] - 1s 290ms/step - loss: 0.7472 - accuracy: 0.8320 - val_loss: 0.6490 - val_accuracy: 0.8520\n",
      "Epoch 8/20\n",
      "2/2 [==============================] - 1s 289ms/step - loss: 0.6519 - accuracy: 0.8442 - val_loss: 0.5732 - val_accuracy: 0.8625\n",
      "Epoch 9/20\n",
      "2/2 [==============================] - 1s 284ms/step - loss: 0.5802 - accuracy: 0.8533 - val_loss: 0.5178 - val_accuracy: 0.8681\n",
      "Epoch 10/20\n",
      "2/2 [==============================] - 1s 295ms/step - loss: 0.5265 - accuracy: 0.8615 - val_loss: 0.4762 - val_accuracy: 0.8766\n",
      "Epoch 11/20\n",
      "2/2 [==============================] - 1s 306ms/step - loss: 0.4857 - accuracy: 0.8696 - val_loss: 0.4435 - val_accuracy: 0.8845\n",
      "Epoch 12/20\n",
      "2/2 [==============================] - 1s 289ms/step - loss: 0.4534 - accuracy: 0.8763 - val_loss: 0.4177 - val_accuracy: 0.8894\n",
      "Epoch 13/20\n",
      "2/2 [==============================] - 1s 283ms/step - loss: 0.4276 - accuracy: 0.8825 - val_loss: 0.3963 - val_accuracy: 0.8932\n",
      "Epoch 14/20\n",
      "2/2 [==============================] - 1s 284ms/step - loss: 0.4063 - accuracy: 0.8874 - val_loss: 0.3788 - val_accuracy: 0.8974\n",
      "Epoch 15/20\n",
      "2/2 [==============================] - 1s 280ms/step - loss: 0.3885 - accuracy: 0.8921 - val_loss: 0.3640 - val_accuracy: 0.8996\n",
      "Epoch 16/20\n",
      "2/2 [==============================] - 1s 288ms/step - loss: 0.3732 - accuracy: 0.8961 - val_loss: 0.3513 - val_accuracy: 0.9033\n",
      "Epoch 17/20\n",
      "2/2 [==============================] - 1s 281ms/step - loss: 0.3600 - accuracy: 0.8995 - val_loss: 0.3402 - val_accuracy: 0.9061\n",
      "Epoch 18/20\n",
      "2/2 [==============================] - 1s 284ms/step - loss: 0.3484 - accuracy: 0.9025 - val_loss: 0.3303 - val_accuracy: 0.9087\n",
      "Epoch 19/20\n",
      "2/2 [==============================] - 1s 285ms/step - loss: 0.3380 - accuracy: 0.9056 - val_loss: 0.3214 - val_accuracy: 0.9113\n",
      "Epoch 20/20\n",
      "2/2 [==============================] - 1s 281ms/step - loss: 0.3289 - accuracy: 0.9078 - val_loss: 0.3135 - val_accuracy: 0.9132\n",
      "\n",
      "Test loss: 0.313\n",
      "Test accuracy: 0.913\n"
     ]
    },
    {
     "data": {
      "text/plain": [
       "<matplotlib.legend.Legend at 0x7f206d5f9240>"
      ]
     },
     "execution_count": 160,
     "metadata": {
      "tags": []
     },
     "output_type": "execute_result"
    },
    {
     "data": {
      "image/png": "[encoded data removed]",
      "text/plain": [
       "<Figure size 432x288 with 1 Axes>"
      ]
     },
     "metadata": {
      "needs_background": "light",
      "tags": []
     },
     "output_type": "display_data"
    }
   ],
   "source": [
    "batch_size = 30000\n",
    "epochs = 20\n",
    "model.compile(loss='categorical_crossentropy',\n",
    "              optimizer='adam',\n",
    "              metrics=['accuracy'])\n",
    "\n",
    "es = EarlyStopping(monitor='val_loss', mode='min', verbose=1 )\n",
    "    \n",
    "history = model.fit(x_train, y_train,\n",
    "                    batch_size=batch_size,\n",
    "                    epochs=epochs,\n",
    "                    verbose=1,\n",
    "#                    validation_data=(x_test, y_test))\n",
    "                    validation_data=(x_test, y_test), callbacks = [es])\n",
    "\n",
    "score = model.evaluate(x_test, y_test, verbose=False)\n",
    "\n",
    "print()\n",
    "print ('Test loss:', round(score[0], 3))\n",
    "print ('Test accuracy:', round(score[1], 3))\n",
    "\n",
    "\n",
    "plt.plot(history.history['loss'])\n",
    "plt.plot(history.history['val_loss'])\n",
    "plt.title('model loss')\n",
    "plt.ylabel('loss')\n",
    "plt.xlabel('epoch')\n",
    "plt.legend(['train', 'test'], loc='upper left')"
   ]
  },
  {
   "cell_type": "code",
   "execution_count": 0,
   "metadata": {
    "colab": {
     "base_uri": "https://localhost:8080/",
     "height": 312
    },
    "colab_type": "code",
    "id": "qV0kH3rpfMDc",
    "outputId": "921ef128-2a9c-4f9a-a285-b3ddef1eb438"
   },
   "outputs": [
    {
     "data": {
      "text/plain": [
       "<matplotlib.legend.Legend at 0x7f206b6852b0>"
      ]
     },
     "execution_count": 161,
     "metadata": {
      "tags": []
     },
     "output_type": "execute_result"
    },
    {
     "data": {
      "image/png": "[encoded data removed]",
      "text/plain": [
       "<Figure size 432x288 with 1 Axes>"
      ]
     },
     "metadata": {
      "needs_background": "light",
      "tags": []
     },
     "output_type": "display_data"
    }
   ],
   "source": [
    "plt.plot(history.history['accuracy'])\n",
    "plt.plot(history.history['val_accuracy'])\n",
    "plt.title('model Accuracy')\n",
    "plt.ylabel('Accuracy')\n",
    "plt.xlabel('epoch')\n",
    "plt.legend(['train', 'test'], loc='upper left')\n"
   ]
  },
  {
   "cell_type": "code",
   "execution_count": 0,
   "metadata": {
    "colab": {
     "base_uri": "https://localhost:8080/",
     "height": 335
    },
    "colab_type": "code",
    "id": "Umm5zlRifMDi",
    "outputId": "6b1fccf9-456b-4307-e46c-9312291e9cc0"
   },
   "outputs": [
    {
     "name": "stdout",
     "output_type": "stream",
     "text": [
      "[0.44040000438690186, 0.6700999736785889, 0.7603999972343445, 0.802299976348877, 0.8223999738693237, 0.8398000001907349, 0.8519999980926514, 0.862500011920929, 0.8680999875068665, 0.8766000270843506, 0.8845000267028809, 0.8894000053405762, 0.8931999802589417, 0.8974000215530396, 0.8996000289916992, 0.9032999873161316, 0.9060999751091003, 0.9086999893188477, 0.911300003528595, 0.9132000207901001]\n",
      "[0.15308333933353424, 0.5137500166893005, 0.6931333541870117, 0.7664166688919067, 0.7983666658401489, 0.8183000087738037, 0.83201664686203, 0.8442000150680542, 0.8532999753952026, 0.8615333437919617, 0.8695833086967468, 0.8763333559036255, 0.8824999928474426, 0.8873999714851379, 0.8920666575431824, 0.8960999846458435, 0.8995166420936584, 0.9024500250816345, 0.9056333303451538, 0.907800018787384]\n"
     ]
    },
    {
     "data": {
      "text/plain": [
       "<matplotlib.axes._subplots.AxesSubplot at 0x7f206a6ad908>"
      ]
     },
     "execution_count": 162,
     "metadata": {
      "tags": []
     },
     "output_type": "execute_result"
    },
    {
     "data": {
      "image/png": "[encoded data removed]",
      "text/plain": [
       "<Figure size 432x288 with 1 Axes>"
      ]
     },
     "metadata": {
      "needs_background": "light",
      "tags": []
     },
     "output_type": "display_data"
    }
   ],
   "source": [
    "print(history.history['val_accuracy'])\n",
    "\n",
    "print(history.history['accuracy'])\n",
    "\n",
    "ta = pd.DataFrame(history.history['accuracy'])\n",
    "va = pd.DataFrame(history.history['val_accuracy'])\n",
    "\n",
    "tva = pd.concat([ta,va] , axis=1)\n",
    "\n",
    "tva.boxplot()"
   ]
  },
  {
   "cell_type": "markdown",
   "metadata": {
    "colab_type": "text",
    "id": "daZZQ4vBfMDm"
   },
   "source": [
    "## Observations on batch size\n",
    "\n",
    "1. With smaller batch size the model becomes unstable in validation (as is evident from the accuracy chart)\n",
    "2. Within the given 5 epochs the model becomes overfit (as is evident from the boxplot)\n",
    "3. The validation accuracy reduces "
   ]
  },
  {
   "cell_type": "markdown",
   "metadata": {
    "colab_type": "text",
    "id": "Z1fTipAvfMDo"
   },
   "source": [
    "# Increase the Epochs"
   ]
  },
  {
   "cell_type": "code",
   "execution_count": 0,
   "metadata": {
    "colab": {
     "base_uri": "https://localhost:8080/",
     "height": 286
    },
    "colab_type": "code",
    "id": "wZ_UN-pIfMDo",
    "outputId": "2063c389-a595-409e-b3ec-e605583a3314"
   },
   "outputs": [
    {
     "name": "stdout",
     "output_type": "stream",
     "text": [
      "dense_158 (None, 784) ==> (None, 256)\n",
      "dense_159 (None, 256) ==> (None, 10)\n",
      "\n",
      "Model: \"sequential_71\"\n",
      "_________________________________________________________________\n",
      "Layer (type)                 Output Shape              Param #   \n",
      "=================================================================\n",
      "dense_158 (Dense)            (None, 256)               200960    \n",
      "_________________________________________________________________\n",
      "dense_159 (Dense)            (None, 10)                2570      \n",
      "=================================================================\n",
      "Total params: 203,530\n",
      "Trainable params: 203,530\n",
      "Non-trainable params: 0\n",
      "_________________________________________________________________\n",
      "None\n"
     ]
    }
   ],
   "source": [
    "from tensorflow.keras.callbacks import EarlyStopping\n",
    "\n",
    "model = Sequential()\n",
    "model.add(Dense(256, activation='relu', input_shape=(784,)))   \n",
    "model.add(Dense(num_classes, activation='softmax'))              \n",
    "        \n",
    "        \n",
    "\n",
    "for l in model.layers:\n",
    "    print (l.name, l.input_shape,'==>',l.output_shape)\n",
    "print()\n",
    "print (model.summary())\n"
   ]
  },
  {
   "cell_type": "code",
   "execution_count": 0,
   "metadata": {
    "colab": {
     "base_uri": "https://localhost:8080/",
     "height": 958
    },
    "colab_type": "code",
    "id": "JnvpoNGzfMDr",
    "outputId": "5f81739a-5b5b-460b-b8f6-63d236689881"
   },
   "outputs": [
    {
     "name": "stdout",
     "output_type": "stream",
     "text": [
      "Epoch 1/100\n",
      "1/1 [==============================] - 0s 191ms/step - loss: 2.3386 - accuracy: 0.1464 - val_loss: 2.1049 - val_accuracy: 0.3443\n",
      "Epoch 2/100\n",
      "1/1 [==============================] - 0s 112ms/step - loss: 2.1128 - accuracy: 0.3318 - val_loss: 1.9080 - val_accuracy: 0.5067\n",
      "Epoch 3/100\n",
      "1/1 [==============================] - 0s 109ms/step - loss: 1.9185 - accuracy: 0.4938 - val_loss: 1.7295 - val_accuracy: 0.6379\n",
      "Epoch 4/100\n",
      "1/1 [==============================] - 0s 114ms/step - loss: 1.7422 - accuracy: 0.6222 - val_loss: 1.5643 - val_accuracy: 0.7097\n",
      "Epoch 5/100\n",
      "1/1 [==============================] - 0s 108ms/step - loss: 1.5792 - accuracy: 0.6962 - val_loss: 1.4114 - val_accuracy: 0.7512\n",
      "Epoch 6/100\n",
      "1/1 [==============================] - 0s 107ms/step - loss: 1.4284 - accuracy: 0.7374 - val_loss: 1.2719 - val_accuracy: 0.7789\n",
      "Epoch 7/100\n",
      "1/1 [==============================] - 0s 115ms/step - loss: 1.2907 - accuracy: 0.7655 - val_loss: 1.1470 - val_accuracy: 0.7956\n",
      "Epoch 8/100\n",
      "1/1 [==============================] - 0s 105ms/step - loss: 1.1673 - accuracy: 0.7838 - val_loss: 1.0372 - val_accuracy: 0.8080\n",
      "Epoch 9/100\n",
      "1/1 [==============================] - 0s 106ms/step - loss: 1.0585 - accuracy: 0.7964 - val_loss: 0.9418 - val_accuracy: 0.8172\n",
      "Epoch 10/100\n",
      "1/1 [==============================] - 0s 113ms/step - loss: 0.9639 - accuracy: 0.8065 - val_loss: 0.8596 - val_accuracy: 0.8244\n",
      "Epoch 11/100\n",
      "1/1 [==============================] - 0s 121ms/step - loss: 0.8820 - accuracy: 0.8146 - val_loss: 0.7889 - val_accuracy: 0.8314\n",
      "Epoch 12/100\n",
      "1/1 [==============================] - 0s 113ms/step - loss: 0.8112 - accuracy: 0.8228 - val_loss: 0.7283 - val_accuracy: 0.8372\n",
      "Epoch 13/100\n",
      "1/1 [==============================] - 0s 105ms/step - loss: 0.7502 - accuracy: 0.8296 - val_loss: 0.6766 - val_accuracy: 0.8442\n",
      "Epoch 14/100\n",
      "1/1 [==============================] - 0s 115ms/step - loss: 0.6978 - accuracy: 0.8355 - val_loss: 0.6325 - val_accuracy: 0.8491\n",
      "Epoch 15/100\n",
      "1/1 [==============================] - 0s 109ms/step - loss: 0.6530 - accuracy: 0.8413 - val_loss: 0.5949 - val_accuracy: 0.8555\n",
      "Epoch 16/100\n",
      "1/1 [==============================] - 0s 108ms/step - loss: 0.6144 - accuracy: 0.8469 - val_loss: 0.5627 - val_accuracy: 0.8614\n",
      "Epoch 17/100\n",
      "1/1 [==============================] - 0s 107ms/step - loss: 0.5811 - accuracy: 0.8526 - val_loss: 0.5348 - val_accuracy: 0.8681\n",
      "Epoch 18/100\n",
      "1/1 [==============================] - 0s 109ms/step - loss: 0.5523 - accuracy: 0.8584 - val_loss: 0.5105 - val_accuracy: 0.8719\n",
      "Epoch 19/100\n",
      "1/1 [==============================] - 0s 108ms/step - loss: 0.5272 - accuracy: 0.8626 - val_loss: 0.4894 - val_accuracy: 0.8762\n",
      "Epoch 20/100\n",
      "1/1 [==============================] - 0s 108ms/step - loss: 0.5053 - accuracy: 0.8672 - val_loss: 0.4709 - val_accuracy: 0.8791\n",
      "Epoch 21/100\n",
      "1/1 [==============================] - 0s 118ms/step - loss: 0.4861 - accuracy: 0.8711 - val_loss: 0.4546 - val_accuracy: 0.8813\n",
      "Epoch 22/100\n",
      "1/1 [==============================] - 0s 110ms/step - loss: 0.4691 - accuracy: 0.8742 - val_loss: 0.4402 - val_accuracy: 0.8848\n",
      "Epoch 23/100\n",
      "1/1 [==============================] - 0s 117ms/step - loss: 0.4541 - accuracy: 0.8772 - val_loss: 0.4274 - val_accuracy: 0.8870\n",
      "Epoch 24/100\n",
      "1/1 [==============================] - 0s 108ms/step - loss: 0.4406 - accuracy: 0.8803 - val_loss: 0.4159 - val_accuracy: 0.8894\n",
      "Epoch 25/100\n",
      "1/1 [==============================] - 0s 109ms/step - loss: 0.4285 - accuracy: 0.8828 - val_loss: 0.4055 - val_accuracy: 0.8911\n",
      "Epoch 26/100\n",
      "1/1 [==============================] - 0s 108ms/step - loss: 0.4175 - accuracy: 0.8851 - val_loss: 0.3959 - val_accuracy: 0.8928\n",
      "Epoch 00026: early stopping\n",
      "\n",
      "Test loss: 0.396\n",
      "Test accuracy: 0.893\n"
     ]
    }
   ],
   "source": [
    "batch_size = 60000    \n",
    "epochs = 100\n",
    "model.compile(loss='categorical_crossentropy',\n",
    "              optimizer='adam',\n",
    "              metrics=['accuracy'])\n",
    "\n",
    "es = EarlyStopping( monitor='val_loss', mode='min', min_delta = 0.01, verbose=1 )\n",
    "    \n",
    "history = model.fit(x_train, y_train,\n",
    "                    batch_size=batch_size,\n",
    "                    epochs=epochs,\n",
    "                    verbose=1,\n",
    "#                    validation_data=(x_test, y_test))\n",
    "                    validation_data=(x_test, y_test), callbacks = [es])\n",
    "\n",
    "score = model.evaluate(x_test, y_test, verbose=False)\n",
    "\n",
    "print()\n",
    "print ('Test loss:', round(score[0], 3))\n",
    "print ('Test accuracy:', round(score[1], 3))\n",
    "\n",
    "\n"
   ]
  },
  {
   "cell_type": "code",
   "execution_count": 0,
   "metadata": {
    "colab": {
     "base_uri": "https://localhost:8080/",
     "height": 312
    },
    "colab_type": "code",
    "id": "CrtTxW-yfMDv",
    "outputId": "595709b2-51b9-4a14-816b-5b1d769a9aae"
   },
   "outputs": [
    {
     "data": {
      "text/plain": [
       "<matplotlib.legend.Legend at 0x7f206d8ab438>"
      ]
     },
     "execution_count": 165,
     "metadata": {
      "tags": []
     },
     "output_type": "execute_result"
    },
    {
     "data": {
      "image/png": "[encoded data removed]",
      "text/plain": [
       "<Figure size 432x288 with 1 Axes>"
      ]
     },
     "metadata": {
      "needs_background": "light",
      "tags": []
     },
     "output_type": "display_data"
    }
   ],
   "source": [
    "plt.plot(history.history['loss'])\n",
    "plt.plot(history.history['val_loss'])\n",
    "plt.title('model loss')\n",
    "plt.ylabel('loss')\n",
    "plt.xlabel('epoch')\n",
    "plt.legend(['train', 'test'], loc='upper left')"
   ]
  },
  {
   "cell_type": "code",
   "execution_count": 0,
   "metadata": {
    "colab": {
     "base_uri": "https://localhost:8080/",
     "height": 312
    },
    "colab_type": "code",
    "id": "Vb-ltW2JfMDy",
    "outputId": "21efda78-10f2-4a87-a24e-934f2b59f48d"
   },
   "outputs": [
    {
     "data": {
      "text/plain": [
       "<matplotlib.legend.Legend at 0x7f2069f8ebe0>"
      ]
     },
     "execution_count": 166,
     "metadata": {
      "tags": []
     },
     "output_type": "execute_result"
    },
    {
     "data": {
      "image/png": "[encoded data removed]",
      "text/plain": [
       "<Figure size 432x288 with 1 Axes>"
      ]
     },
     "metadata": {
      "needs_background": "light",
      "tags": []
     },
     "output_type": "display_data"
    }
   ],
   "source": [
    "plt.plot(history.history['accuracy'])\n",
    "plt.plot(history.history['val_accuracy'])\n",
    "plt.title('model Accuracy')\n",
    "plt.ylabel('Accuracy')\n",
    "plt.xlabel('epoch')\n",
    "plt.legend(['train', 'test'], loc='upper left')"
   ]
  },
  {
   "cell_type": "code",
   "execution_count": 0,
   "metadata": {
    "colab": {
     "base_uri": "https://localhost:8080/",
     "height": 335
    },
    "colab_type": "code",
    "id": "yqvpRCR2fMD1",
    "outputId": "9fb52e9d-129c-453b-bfd4-3b9fca541991"
   },
   "outputs": [
    {
     "name": "stdout",
     "output_type": "stream",
     "text": [
      "[0.3443000018596649, 0.5066999793052673, 0.6378999948501587, 0.7096999883651733, 0.7512000203132629, 0.7789000272750854, 0.7955999970436096, 0.8080000281333923, 0.8172000050544739, 0.824400007724762, 0.8313999772071838, 0.8371999859809875, 0.8442000150680542, 0.8490999937057495, 0.8554999828338623, 0.8614000082015991, 0.8680999875068665, 0.8719000220298767, 0.8762000203132629, 0.8791000247001648, 0.8812999725341797, 0.8848000168800354, 0.8870000243186951, 0.8894000053405762, 0.8910999894142151, 0.892799973487854]\n",
      "[0.14641666412353516, 0.33178332448005676, 0.49381667375564575, 0.6221833229064941, 0.6962166428565979, 0.7373666763305664, 0.7654833197593689, 0.7838333249092102, 0.7964333295822144, 0.8065000176429749, 0.8146499991416931, 0.8228499889373779, 0.82955002784729, 0.8354833126068115, 0.8413166403770447, 0.8468833565711975, 0.852566659450531, 0.8583666682243347, 0.8626333475112915, 0.8672166466712952, 0.8710833191871643, 0.8742499947547913, 0.8771833181381226, 0.8803333044052124, 0.8828166723251343, 0.8850833177566528]\n"
     ]
    },
    {
     "data": {
      "text/plain": [
       "<matplotlib.axes._subplots.AxesSubplot at 0x7f206e8f2f98>"
      ]
     },
     "execution_count": 167,
     "metadata": {
      "tags": []
     },
     "output_type": "execute_result"
    },
    {
     "data": {
      "image/png": "[encoded data removed]",
      "text/plain": [
       "<Figure size 432x288 with 1 Axes>"
      ]
     },
     "metadata": {
      "needs_background": "light",
      "tags": []
     },
     "output_type": "display_data"
    }
   ],
   "source": [
    "print(history.history['val_accuracy'])\n",
    "\n",
    "print(history.history['accuracy'])\n",
    "\n",
    "ta = pd.DataFrame(history.history['accuracy'])\n",
    "va = pd.DataFrame(history.history['val_accuracy'])\n",
    "\n",
    "tva = pd.concat([ta,va] , axis=1)\n",
    "\n",
    "tva.boxplot()"
   ]
  },
  {
   "cell_type": "markdown",
   "metadata": {
    "colab_type": "text",
    "id": "TWbP6wEqfMD3"
   },
   "source": [
    "## Observations on Epochs\n",
    "\n",
    "1. Without early stopping, epochs leads to clear overfitting\n",
    "2. Increasing Epochs is not useful. The Model becomes severly overfit\n",
    "3. With smaller batch size, looks like it is a case of curse of dimensionality.... \n",
    "4. large batch size of 30,000 the model stabilizes, avoids overfitting but the score is marginally reduced in validation. This shows that too many epochs with small batch size is a waste. "
   ]
  },
  {
   "cell_type": "markdown",
   "metadata": {
    "colab_type": "text",
    "id": "onxGR3A2fMD3"
   },
   "source": [
    "## Overall observation on layers, number of neurons, batch size and epoch\n",
    "1. Keep the model simple in terms of number of layers and number of neurons. This will reduce time to train, less computation\n",
    "   needs\n",
    "    \n",
    "2. Keep batch size on the larger side. It stabilizes the mode and gives more reliable estimates. If the entire data and fit in\n",
    "then do not use batch size \n",
    "\n",
    "3. Too many epochs is not helpful. It leads to waste of time and resources and overfit models Constrain epochs using early \n",
    "stopping.\n",
    "\n",
    "4. use more epochs if the batch size is large. With smaller batch size, the model tends to overfit in first few epochs... the\n",
    "situation become worse with more epochs\n"
   ]
  },
  {
   "cell_type": "markdown",
   "metadata": {
    "colab_type": "text",
    "id": "DOXonzLkfMD4"
   },
   "source": [
    "# Activation function selection"
   ]
  },
  {
   "cell_type": "code",
   "execution_count": 0,
   "metadata": {
    "colab": {
     "base_uri": "https://localhost:8080/",
     "height": 1000
    },
    "colab_type": "code",
    "id": "djtAJcrafMD5",
    "outputId": "29a3d56d-5054-4833-a371-c46fe38f4fad"
   },
   "outputs": [
    {
     "name": "stdout",
     "output_type": "stream",
     "text": [
      "Epoch 1/20\n",
      "2/2 [==============================] - 1s 325ms/step - loss: 2.4025 - accuracy: 0.1686 - val_loss: 2.1883 - val_accuracy: 0.3764\n",
      "Epoch 2/20\n",
      "2/2 [==============================] - 1s 284ms/step - loss: 2.1492 - accuracy: 0.4132 - val_loss: 2.0297 - val_accuracy: 0.4843\n",
      "Epoch 3/20\n",
      "2/2 [==============================] - 1s 285ms/step - loss: 2.0036 - accuracy: 0.5017 - val_loss: 1.9071 - val_accuracy: 0.5386\n",
      "Epoch 4/20\n",
      "2/2 [==============================] - 1s 296ms/step - loss: 1.8805 - accuracy: 0.5559 - val_loss: 1.7784 - val_accuracy: 0.6202\n",
      "Epoch 5/20\n",
      "2/2 [==============================] - 1s 291ms/step - loss: 1.7527 - accuracy: 0.6474 - val_loss: 1.6475 - val_accuracy: 0.7268\n",
      "Epoch 6/20\n",
      "2/2 [==============================] - 1s 286ms/step - loss: 1.6274 - accuracy: 0.7328 - val_loss: 1.5298 - val_accuracy: 0.7765\n",
      "Epoch 7/20\n",
      "2/2 [==============================] - 1s 288ms/step - loss: 1.5175 - accuracy: 0.7642 - val_loss: 1.4313 - val_accuracy: 0.7747\n",
      "Epoch 8/20\n",
      "2/2 [==============================] - 1s 289ms/step - loss: 1.4248 - accuracy: 0.7582 - val_loss: 1.3460 - val_accuracy: 0.7685\n",
      "Epoch 9/20\n",
      "2/2 [==============================] - 1s 285ms/step - loss: 1.3424 - accuracy: 0.7521 - val_loss: 1.2668 - val_accuracy: 0.7736\n",
      "Epoch 10/20\n",
      "2/2 [==============================] - 1s 287ms/step - loss: 1.2648 - accuracy: 0.7602 - val_loss: 1.1923 - val_accuracy: 0.7869\n",
      "Epoch 11/20\n",
      "2/2 [==============================] - 1s 294ms/step - loss: 1.1919 - accuracy: 0.7756 - val_loss: 1.1243 - val_accuracy: 0.8014\n",
      "Epoch 12/20\n",
      "2/2 [==============================] - 1s 291ms/step - loss: 1.1261 - accuracy: 0.7900 - val_loss: 1.0644 - val_accuracy: 0.8120\n",
      "Epoch 13/20\n",
      "2/2 [==============================] - 1s 288ms/step - loss: 1.0682 - accuracy: 0.8015 - val_loss: 1.0114 - val_accuracy: 0.8221\n",
      "Epoch 14/20\n",
      "2/2 [==============================] - 1s 299ms/step - loss: 1.0169 - accuracy: 0.8111 - val_loss: 0.9629 - val_accuracy: 0.8310\n",
      "Epoch 15/20\n",
      "2/2 [==============================] - 1s 285ms/step - loss: 0.9696 - accuracy: 0.8201 - val_loss: 0.9180 - val_accuracy: 0.8379\n",
      "Epoch 16/20\n",
      "2/2 [==============================] - 1s 295ms/step - loss: 0.9258 - accuracy: 0.8267 - val_loss: 0.8769 - val_accuracy: 0.8417\n",
      "Epoch 17/20\n",
      "2/2 [==============================] - 1s 289ms/step - loss: 0.8860 - accuracy: 0.8300 - val_loss: 0.8401 - val_accuracy: 0.8431\n",
      "Epoch 18/20\n",
      "2/2 [==============================] - 1s 286ms/step - loss: 0.8502 - accuracy: 0.8316 - val_loss: 0.8070 - val_accuracy: 0.8437\n",
      "Epoch 19/20\n",
      "2/2 [==============================] - 1s 289ms/step - loss: 0.8178 - accuracy: 0.8339 - val_loss: 0.7766 - val_accuracy: 0.8452\n",
      "Epoch 20/20\n",
      "2/2 [==============================] - 1s 282ms/step - loss: 0.7880 - accuracy: 0.8371 - val_loss: 0.7486 - val_accuracy: 0.8489\n",
      "\n",
      "Test loss: 0.748\n",
      "Test accuracy: 0.849\n",
      "Epoch 1/20\n",
      "2/2 [==============================] - 1s 327ms/step - loss: 2.3147 - accuracy: 0.1420 - val_loss: 1.8771 - val_accuracy: 0.3971\n",
      "Epoch 2/20\n",
      "2/2 [==============================] - 1s 290ms/step - loss: 1.7596 - accuracy: 0.4868 - val_loss: 1.4250 - val_accuracy: 0.6915\n",
      "Epoch 3/20\n",
      "2/2 [==============================] - 1s 298ms/step - loss: 1.3484 - accuracy: 0.7059 - val_loss: 1.1065 - val_accuracy: 0.7679\n",
      "Epoch 4/20\n",
      "2/2 [==============================] - 1s 292ms/step - loss: 1.0665 - accuracy: 0.7681 - val_loss: 0.8978 - val_accuracy: 0.8000\n",
      "Epoch 5/20\n",
      "2/2 [==============================] - 1s 293ms/step - loss: 0.8797 - accuracy: 0.7969 - val_loss: 0.7554 - val_accuracy: 0.8226\n",
      "Epoch 6/20\n",
      "2/2 [==============================] - 1s 289ms/step - loss: 0.7508 - accuracy: 0.8187 - val_loss: 0.6573 - val_accuracy: 0.8379\n",
      "Epoch 7/20\n",
      "2/2 [==============================] - 1s 288ms/step - loss: 0.6608 - accuracy: 0.8343 - val_loss: 0.5885 - val_accuracy: 0.8515\n",
      "Epoch 8/20\n",
      "2/2 [==============================] - 1s 293ms/step - loss: 0.5962 - accuracy: 0.8454 - val_loss: 0.5380 - val_accuracy: 0.8628\n",
      "Epoch 9/20\n",
      "2/2 [==============================] - 1s 289ms/step - loss: 0.5479 - accuracy: 0.8547 - val_loss: 0.4994 - val_accuracy: 0.8708\n",
      "Epoch 10/20\n",
      "2/2 [==============================] - 1s 289ms/step - loss: 0.5107 - accuracy: 0.8628 - val_loss: 0.4691 - val_accuracy: 0.8768\n",
      "Epoch 11/20\n",
      "2/2 [==============================] - 1s 290ms/step - loss: 0.4814 - accuracy: 0.8689 - val_loss: 0.4454 - val_accuracy: 0.8817\n",
      "Epoch 12/20\n",
      "2/2 [==============================] - 1s 293ms/step - loss: 0.4581 - accuracy: 0.8734 - val_loss: 0.4264 - val_accuracy: 0.8845\n",
      "Epoch 13/20\n",
      "2/2 [==============================] - 1s 298ms/step - loss: 0.4391 - accuracy: 0.8774 - val_loss: 0.4108 - val_accuracy: 0.8891\n",
      "Epoch 14/20\n",
      "2/2 [==============================] - 1s 289ms/step - loss: 0.4229 - accuracy: 0.8819 - val_loss: 0.3976 - val_accuracy: 0.8921\n",
      "Epoch 15/20\n",
      "2/2 [==============================] - 1s 295ms/step - loss: 0.4091 - accuracy: 0.8855 - val_loss: 0.3862 - val_accuracy: 0.8942\n",
      "Epoch 16/20\n",
      "2/2 [==============================] - 1s 286ms/step - loss: 0.3970 - accuracy: 0.8883 - val_loss: 0.3762 - val_accuracy: 0.8965\n",
      "Epoch 17/20\n",
      "2/2 [==============================] - 1s 293ms/step - loss: 0.3865 - accuracy: 0.8913 - val_loss: 0.3672 - val_accuracy: 0.8989\n",
      "Epoch 18/20\n",
      "2/2 [==============================] - 1s 290ms/step - loss: 0.3770 - accuracy: 0.8937 - val_loss: 0.3592 - val_accuracy: 0.9006\n",
      "Epoch 19/20\n",
      "2/2 [==============================] - 1s 285ms/step - loss: 0.3687 - accuracy: 0.8962 - val_loss: 0.3520 - val_accuracy: 0.9026\n",
      "Epoch 20/20\n",
      "2/2 [==============================] - 1s 280ms/step - loss: 0.3611 - accuracy: 0.8982 - val_loss: 0.3454 - val_accuracy: 0.9043\n",
      "\n",
      "Test loss: 0.345\n",
      "Test accuracy: 0.904\n",
      "Epoch 1/20\n",
      "2/2 [==============================] - 1s 333ms/step - loss: 2.2044 - accuracy: 0.2371 - val_loss: 1.9008 - val_accuracy: 0.5263\n",
      "Epoch 2/20\n",
      "2/2 [==============================] - 1s 285ms/step - loss: 1.8266 - accuracy: 0.5633 - val_loss: 1.5798 - val_accuracy: 0.6772\n",
      "Epoch 3/20\n",
      "2/2 [==============================] - 1s 286ms/step - loss: 1.5212 - accuracy: 0.6928 - val_loss: 1.2950 - val_accuracy: 0.7679\n",
      "Epoch 4/20\n",
      "2/2 [==============================] - 1s 291ms/step - loss: 1.2528 - accuracy: 0.7671 - val_loss: 1.0594 - val_accuracy: 0.8086\n",
      "Epoch 5/20\n",
      "2/2 [==============================] - 1s 285ms/step - loss: 1.0357 - accuracy: 0.8004 - val_loss: 0.8818 - val_accuracy: 0.8267\n",
      "Epoch 6/20\n",
      "2/2 [==============================] - 1s 286ms/step - loss: 0.8726 - accuracy: 0.8138 - val_loss: 0.7495 - val_accuracy: 0.8371\n",
      "Epoch 7/20\n",
      "2/2 [==============================] - 1s 286ms/step - loss: 0.7498 - accuracy: 0.8269 - val_loss: 0.6495 - val_accuracy: 0.8491\n",
      "Epoch 8/20\n",
      "2/2 [==============================] - 1s 287ms/step - loss: 0.6566 - accuracy: 0.8403 - val_loss: 0.5757 - val_accuracy: 0.8630\n",
      "Epoch 9/20\n",
      "2/2 [==============================] - 1s 284ms/step - loss: 0.5867 - accuracy: 0.8515 - val_loss: 0.5212 - val_accuracy: 0.8718\n",
      "Epoch 10/20\n",
      "2/2 [==============================] - 1s 284ms/step - loss: 0.5339 - accuracy: 0.8620 - val_loss: 0.4800 - val_accuracy: 0.8787\n",
      "Epoch 11/20\n",
      "2/2 [==============================] - 1s 291ms/step - loss: 0.4930 - accuracy: 0.8702 - val_loss: 0.4478 - val_accuracy: 0.8850\n",
      "Epoch 12/20\n",
      "2/2 [==============================] - 1s 295ms/step - loss: 0.4610 - accuracy: 0.8764 - val_loss: 0.4221 - val_accuracy: 0.8895\n",
      "Epoch 13/20\n",
      "2/2 [==============================] - 1s 288ms/step - loss: 0.4354 - accuracy: 0.8817 - val_loss: 0.4006 - val_accuracy: 0.8931\n",
      "Epoch 14/20\n",
      "2/2 [==============================] - 1s 289ms/step - loss: 0.4140 - accuracy: 0.8866 - val_loss: 0.3827 - val_accuracy: 0.8969\n",
      "Epoch 15/20\n",
      "2/2 [==============================] - 1s 289ms/step - loss: 0.3959 - accuracy: 0.8908 - val_loss: 0.3677 - val_accuracy: 0.8996\n",
      "Epoch 16/20\n",
      "2/2 [==============================] - 1s 290ms/step - loss: 0.3806 - accuracy: 0.8944 - val_loss: 0.3548 - val_accuracy: 0.9040\n",
      "Epoch 17/20\n",
      "2/2 [==============================] - 1s 294ms/step - loss: 0.3669 - accuracy: 0.8981 - val_loss: 0.3434 - val_accuracy: 0.9056\n",
      "Epoch 18/20\n",
      "2/2 [==============================] - 1s 290ms/step - loss: 0.3548 - accuracy: 0.9013 - val_loss: 0.3332 - val_accuracy: 0.9087\n",
      "Epoch 19/20\n",
      "2/2 [==============================] - 1s 290ms/step - loss: 0.3441 - accuracy: 0.9040 - val_loss: 0.3241 - val_accuracy: 0.9115\n",
      "Epoch 20/20\n",
      "2/2 [==============================] - 1s 283ms/step - loss: 0.3345 - accuracy: 0.9071 - val_loss: 0.3158 - val_accuracy: 0.9133\n",
      "\n",
      "Test loss: 0.316\n",
      "Test accuracy: 0.913\n",
      "Epoch 1/20\n",
      "2/2 [==============================] - 1s 349ms/step - loss: 2.1701 - accuracy: 0.2586 - val_loss: 1.8937 - val_accuracy: 0.5536\n",
      "Epoch 2/20\n",
      "2/2 [==============================] - 1s 317ms/step - loss: 1.8224 - accuracy: 0.5898 - val_loss: 1.5829 - val_accuracy: 0.7102\n",
      "Epoch 3/20\n",
      "2/2 [==============================] - 1s 306ms/step - loss: 1.5273 - accuracy: 0.7161 - val_loss: 1.3170 - val_accuracy: 0.7700\n",
      "Epoch 4/20\n",
      "2/2 [==============================] - 1s 305ms/step - loss: 1.2766 - accuracy: 0.7692 - val_loss: 1.0966 - val_accuracy: 0.8017\n",
      "Epoch 5/20\n",
      "2/2 [==============================] - 1s 304ms/step - loss: 1.0698 - accuracy: 0.7979 - val_loss: 0.9201 - val_accuracy: 0.8183\n",
      "Epoch 6/20\n",
      "2/2 [==============================] - 1s 303ms/step - loss: 0.9047 - accuracy: 0.8145 - val_loss: 0.7829 - val_accuracy: 0.8325\n",
      "Epoch 7/20\n",
      "2/2 [==============================] - 1s 304ms/step - loss: 0.7768 - accuracy: 0.8262 - val_loss: 0.6786 - val_accuracy: 0.8446\n",
      "Epoch 8/20\n",
      "2/2 [==============================] - 1s 301ms/step - loss: 0.6789 - accuracy: 0.8373 - val_loss: 0.6004 - val_accuracy: 0.8557\n",
      "Epoch 9/20\n",
      "2/2 [==============================] - 1s 300ms/step - loss: 0.6050 - accuracy: 0.8467 - val_loss: 0.5419 - val_accuracy: 0.8626\n",
      "Epoch 10/20\n",
      "2/2 [==============================] - 1s 307ms/step - loss: 0.5486 - accuracy: 0.8553 - val_loss: 0.4978 - val_accuracy: 0.8688\n",
      "Epoch 11/20\n",
      "2/2 [==============================] - 1s 319ms/step - loss: 0.5057 - accuracy: 0.8637 - val_loss: 0.4643 - val_accuracy: 0.8757\n",
      "Epoch 12/20\n",
      "2/2 [==============================] - 1s 303ms/step - loss: 0.4726 - accuracy: 0.8702 - val_loss: 0.4384 - val_accuracy: 0.8802\n",
      "Epoch 13/20\n",
      "2/2 [==============================] - 1s 303ms/step - loss: 0.4467 - accuracy: 0.8758 - val_loss: 0.4179 - val_accuracy: 0.8851\n",
      "Epoch 14/20\n",
      "2/2 [==============================] - 1s 307ms/step - loss: 0.4258 - accuracy: 0.8809 - val_loss: 0.4009 - val_accuracy: 0.8886\n",
      "Epoch 15/20\n",
      "2/2 [==============================] - 1s 307ms/step - loss: 0.4086 - accuracy: 0.8852 - val_loss: 0.3865 - val_accuracy: 0.8929\n",
      "Epoch 16/20\n",
      "2/2 [==============================] - 1s 309ms/step - loss: 0.3939 - accuracy: 0.8882 - val_loss: 0.3740 - val_accuracy: 0.8957\n",
      "Epoch 17/20\n",
      "2/2 [==============================] - 1s 307ms/step - loss: 0.3812 - accuracy: 0.8921 - val_loss: 0.3629 - val_accuracy: 0.8993\n",
      "Epoch 18/20\n",
      "2/2 [==============================] - 1s 306ms/step - loss: 0.3700 - accuracy: 0.8948 - val_loss: 0.3533 - val_accuracy: 0.9023\n",
      "Epoch 19/20\n",
      "2/2 [==============================] - 1s 305ms/step - loss: 0.3600 - accuracy: 0.8976 - val_loss: 0.3445 - val_accuracy: 0.9054\n",
      "Epoch 20/20\n",
      "2/2 [==============================] - 1s 293ms/step - loss: 0.3509 - accuracy: 0.8999 - val_loss: 0.3365 - val_accuracy: 0.9076\n",
      "\n",
      "Test loss: 0.336\n",
      "Test accuracy: 0.908\n"
     ]
    },
    {
     "name": "stderr",
     "output_type": "stream",
     "text": [
      "/usr/local/lib/python3.6/dist-packages/ipykernel_launcher.py:36: MatplotlibDeprecationWarning: Unrecognized location 'bottom right'. Falling back on 'best'; valid locations are\n",
      "\tbest\n",
      "\tupper right\n",
      "\tupper left\n",
      "\tlower left\n",
      "\tlower right\n",
      "\tright\n",
      "\tcenter left\n",
      "\tcenter right\n",
      "\tlower center\n",
      "\tupper center\n",
      "\tcenter\n",
      "This will raise an exception in 3.3.\n"
     ]
    },
    {
     "data": {
      "text/plain": [
       "<matplotlib.legend.Legend at 0x7f206a5e7470>"
      ]
     },
     "execution_count": 168,
     "metadata": {
      "tags": []
     },
     "output_type": "execute_result"
    },
    {
     "data": {
      "image/png": "[encoded data removed]",
      "text/plain": [
       "<Figure size 432x288 with 1 Axes>"
      ]
     },
     "metadata": {
      "needs_background": "light",
      "tags": []
     },
     "output_type": "display_data"
    }
   ],
   "source": [
    "batch_size = 30000\n",
    "epochs = 20\n",
    "\n",
    "lr = tf.keras.layers.LeakyReLU\n",
    "\n",
    "\n",
    "for activation in ['sigmoid', 'tanh', 'relu', 'swish']:\n",
    "    model = Sequential()\n",
    "    model.add(Dense(256, activation=activation, input_shape=(784,)))\n",
    "    model.add(Dense(num_classes, activation='softmax'))\n",
    "    model.compile(loss='categorical_crossentropy',\n",
    "              optimizer='adam',\n",
    "              metrics=['accuracy'])\n",
    "\n",
    "    history = model.fit(x_train, y_train,\n",
    "                    batch_size=batch_size,\n",
    "                    epochs=epochs,\n",
    "                    verbose=1,\n",
    "                    validation_data=(x_test, y_test))\n",
    "    loss, accuracy  = model.evaluate(x_test, y_test, verbose=False)\n",
    "    \n",
    "    print()\n",
    "    print(f'Test loss: {loss:.3}')\n",
    "    print(f'Test accuracy: {accuracy:.3}')\n",
    "    \n",
    "    plt.plot(history.history['val_accuracy'])\n",
    "\n",
    "    \n",
    "    \n",
    "    \n",
    "    \n",
    "    \n",
    "plt.title('model accuracy')\n",
    "plt.ylabel('Accuracy')\n",
    "plt.xlabel('epoch')\n",
    "plt.legend(['sigmoid', 'tanh', 'relu' , 'swish'], loc='lower right')"
   ]
  },
  {
   "cell_type": "markdown",
   "metadata": {
    "colab_type": "text",
    "id": "vdgOo3n-fMD9"
   },
   "source": [
    "## Observations about choice of activation  functions\n",
    "\n",
    "1. The blue line is for a linear function and surprisingly it is giving 91% + accuracy!\n",
    "2. However, all the other standard activations ReLU, tanh, Sigmoid are performing relatively much better\n",
    "3. All converge to same 98% +- accuracy score with increase in epoch (upto 15)\n",
    "4. Any further increase in epochs may not help as all of them stop increasing beyond \n",
    "5. Sigmoid is the slowest learner followed by tanh while ReLU seems to learn fast...."
   ]
  },
  {
   "cell_type": "markdown",
   "metadata": {
    "colab_type": "text",
    "id": "ujOursKgfMD-"
   },
   "source": [
    "# Learning Rate Optimization "
   ]
  },
  {
   "cell_type": "code",
   "execution_count": 0,
   "metadata": {
    "colab": {},
    "colab_type": "code",
    "id": "M3O3PAQEfMD_"
   },
   "outputs": [],
   "source": [
    "from tensorflow.keras import optimizers\n",
    "from tensorflow.keras.callbacks import EarlyStopping\n",
    "\n",
    "def create_model():\n",
    "    model = Sequential()\n",
    "    model.add(Dense(256, activation='relu', input_shape=(784,)))\n",
    "    model.add(Dense(num_classes, activation='softmax'))  \n",
    "\n",
    "    return model\n",
    "\n"
   ]
  },
  {
   "cell_type": "code",
   "execution_count": 0,
   "metadata": {
    "colab": {},
    "colab_type": "code",
    "id": "jN3w1_LnfMEC"
   },
   "outputs": [],
   "source": [
    "\n",
    "def run_model(model, lrr):\n",
    "    batch_size = 60000   \n",
    "    epochs = 20\n",
    "    model.summary()\n",
    "    opt = tf.keras.optimizers.Adam(learning_rate=lrr) \n",
    "    model.compile(optimizer=opt, loss='categorical_crossentropy', metrics=['accuracy'])\n",
    "    history = model.fit(x_train, y_train, batch_size=batch_size, epochs=epochs, validation_split=.1, verbose=False)\n",
    "    loss, accuracy  = model.evaluate(x_test, y_test, verbose=False)\n",
    "    print(\"learning rate\" , lr)\n",
    "    plt.plot(history.history['accuracy'])\n",
    "    plt.plot(history.history['val_accuracy'])\n",
    "    plt.title('model accuracy')\n",
    "    plt.ylabel('accuracy')\n",
    "    plt.xlabel('epoch')\n",
    "    plt.legend(['training', 'validation'], loc='best')\n",
    "    plt.show()\n",
    "\n",
    "\n",
    "\n",
    "\n",
    "\n",
    "\n",
    "\n",
    "    print()\n",
    "    print(f'Test loss: {loss:.3}')\n",
    "    print(f'Test accuracy: {accuracy:.3}')\n"
   ]
  },
  {
   "cell_type": "code",
   "execution_count": 0,
   "metadata": {
    "colab": {
     "base_uri": "https://localhost:8080/",
     "height": 1000
    },
    "colab_type": "code",
    "id": "-tyAgE8mfMEE",
    "outputId": "7bbcedba-e5d0-4240-b867-b4e104a4386a"
   },
   "outputs": [
    {
     "name": "stdout",
     "output_type": "stream",
     "text": [
      "Model: \"sequential_76\"\n",
      "_________________________________________________________________\n",
      "Layer (type)                 Output Shape              Param #   \n",
      "=================================================================\n",
      "dense_168 (Dense)            (None, 256)               200960    \n",
      "_________________________________________________________________\n",
      "dense_169 (Dense)            (None, 10)                2570      \n",
      "=================================================================\n",
      "Total params: 203,530\n",
      "Trainable params: 203,530\n",
      "Non-trainable params: 0\n",
      "_________________________________________________________________\n",
      "learning rate 0.001\n"
     ]
    },
    {
     "data": {
      "image/png": "[encoded data removed]",
      "text/plain": [
       "<Figure size 432x288 with 1 Axes>"
      ]
     },
     "metadata": {
      "needs_background": "light",
      "tags": []
     },
     "output_type": "display_data"
    },
    {
     "name": "stdout",
     "output_type": "stream",
     "text": [
      "\n",
      "Test loss: 0.477\n",
      "Test accuracy: 0.877\n",
      "Model: \"sequential_77\"\n",
      "_________________________________________________________________\n",
      "Layer (type)                 Output Shape              Param #   \n",
      "=================================================================\n",
      "dense_170 (Dense)            (None, 256)               200960    \n",
      "_________________________________________________________________\n",
      "dense_171 (Dense)            (None, 10)                2570      \n",
      "=================================================================\n",
      "Total params: 203,530\n",
      "Trainable params: 203,530\n",
      "Non-trainable params: 0\n",
      "_________________________________________________________________\n",
      "learning rate 0.002\n"
     ]
    },
    {
     "data": {
      "image/png": "[encoded data removed]",
      "text/plain": [
       "<Figure size 432x288 with 1 Axes>"
      ]
     },
     "metadata": {
      "needs_background": "light",
      "tags": []
     },
     "output_type": "display_data"
    },
    {
     "name": "stdout",
     "output_type": "stream",
     "text": [
      "\n",
      "Test loss: 0.342\n",
      "Test accuracy: 0.901\n",
      "Model: \"sequential_78\"\n",
      "_________________________________________________________________\n",
      "Layer (type)                 Output Shape              Param #   \n",
      "=================================================================\n",
      "dense_172 (Dense)            (None, 256)               200960    \n",
      "_________________________________________________________________\n",
      "dense_173 (Dense)            (None, 10)                2570      \n",
      "=================================================================\n",
      "Total params: 203,530\n",
      "Trainable params: 203,530\n",
      "Non-trainable params: 0\n",
      "_________________________________________________________________\n",
      "learning rate 0.003\n"
     ]
    },
    {
     "data": {
      "image/png": "[encoded data removed]",
      "text/plain": [
       "<Figure size 432x288 with 1 Axes>"
      ]
     },
     "metadata": {
      "needs_background": "light",
      "tags": []
     },
     "output_type": "display_data"
    },
    {
     "name": "stdout",
     "output_type": "stream",
     "text": [
      "\n",
      "Test loss: 0.306\n",
      "Test accuracy: 0.914\n",
      "Model: \"sequential_79\"\n",
      "_________________________________________________________________\n",
      "Layer (type)                 Output Shape              Param #   \n",
      "=================================================================\n",
      "dense_174 (Dense)            (None, 256)               200960    \n",
      "_________________________________________________________________\n",
      "dense_175 (Dense)            (None, 10)                2570      \n",
      "=================================================================\n",
      "Total params: 203,530\n",
      "Trainable params: 203,530\n",
      "Non-trainable params: 0\n",
      "_________________________________________________________________\n",
      "learning rate 0.004\n"
     ]
    },
    {
     "data": {
      "image/png": "[encoded data removed]",
      "text/plain": [
       "<Figure size 432x288 with 1 Axes>"
      ]
     },
     "metadata": {
      "needs_background": "light",
      "tags": []
     },
     "output_type": "display_data"
    },
    {
     "name": "stdout",
     "output_type": "stream",
     "text": [
      "\n",
      "Test loss: 0.302\n",
      "Test accuracy: 0.916\n",
      "Model: \"sequential_80\"\n",
      "_________________________________________________________________\n",
      "Layer (type)                 Output Shape              Param #   \n",
      "=================================================================\n",
      "dense_176 (Dense)            (None, 256)               200960    \n",
      "_________________________________________________________________\n",
      "dense_177 (Dense)            (None, 10)                2570      \n",
      "=================================================================\n",
      "Total params: 203,530\n",
      "Trainable params: 203,530\n",
      "Non-trainable params: 0\n",
      "_________________________________________________________________\n",
      "learning rate 0.005\n"
     ]
    },
    {
     "data": {
      "image/png": "[encoded data removed]",
      "text/plain": [
       "<Figure size 432x288 with 1 Axes>"
      ]
     },
     "metadata": {
      "needs_background": "light",
      "tags": []
     },
     "output_type": "display_data"
    },
    {
     "name": "stdout",
     "output_type": "stream",
     "text": [
      "\n",
      "Test loss: 0.278\n",
      "Test accuracy: 0.922\n",
      "Model: \"sequential_81\"\n",
      "_________________________________________________________________\n",
      "Layer (type)                 Output Shape              Param #   \n",
      "=================================================================\n",
      "dense_178 (Dense)            (None, 256)               200960    \n",
      "_________________________________________________________________\n",
      "dense_179 (Dense)            (None, 10)                2570      \n",
      "=================================================================\n",
      "Total params: 203,530\n",
      "Trainable params: 203,530\n",
      "Non-trainable params: 0\n",
      "_________________________________________________________________\n",
      "learning rate 0.006\n"
     ]
    },
    {
     "data": {
      "image/png": "[encoded data removed]",
      "text/plain": [
       "<Figure size 432x288 with 1 Axes>"
      ]
     },
     "metadata": {
      "needs_background": "light",
      "tags": []
     },
     "output_type": "display_data"
    },
    {
     "name": "stdout",
     "output_type": "stream",
     "text": [
      "\n",
      "Test loss: 0.274\n",
      "Test accuracy: 0.923\n",
      "Model: \"sequential_82\"\n",
      "_________________________________________________________________\n",
      "Layer (type)                 Output Shape              Param #   \n",
      "=================================================================\n",
      "dense_180 (Dense)            (None, 256)               200960    \n",
      "_________________________________________________________________\n",
      "dense_181 (Dense)            (None, 10)                2570      \n",
      "=================================================================\n",
      "Total params: 203,530\n",
      "Trainable params: 203,530\n",
      "Non-trainable params: 0\n",
      "_________________________________________________________________\n",
      "learning rate 0.007\n"
     ]
    },
    {
     "data": {
      "image/png": "[encoded data removed]",
      "text/plain": [
       "<Figure size 432x288 with 1 Axes>"
      ]
     },
     "metadata": {
      "needs_background": "light",
      "tags": []
     },
     "output_type": "display_data"
    },
    {
     "name": "stdout",
     "output_type": "stream",
     "text": [
      "\n",
      "Test loss: 0.275\n",
      "Test accuracy: 0.92\n",
      "Model: \"sequential_83\"\n",
      "_________________________________________________________________\n",
      "Layer (type)                 Output Shape              Param #   \n",
      "=================================================================\n",
      "dense_182 (Dense)            (None, 256)               200960    \n",
      "_________________________________________________________________\n",
      "dense_183 (Dense)            (None, 10)                2570      \n",
      "=================================================================\n",
      "Total params: 203,530\n",
      "Trainable params: 203,530\n",
      "Non-trainable params: 0\n",
      "_________________________________________________________________\n",
      "learning rate 0.008\n"
     ]
    },
    {
     "data": {
      "image/png": "[encoded data removed]",
      "text/plain": [
       "<Figure size 432x288 with 1 Axes>"
      ]
     },
     "metadata": {
      "needs_background": "light",
      "tags": []
     },
     "output_type": "display_data"
    },
    {
     "name": "stdout",
     "output_type": "stream",
     "text": [
      "\n",
      "Test loss: 0.277\n",
      "Test accuracy: 0.921\n",
      "Model: \"sequential_84\"\n",
      "_________________________________________________________________\n",
      "Layer (type)                 Output Shape              Param #   \n",
      "=================================================================\n",
      "dense_184 (Dense)            (None, 256)               200960    \n",
      "_________________________________________________________________\n",
      "dense_185 (Dense)            (None, 10)                2570      \n",
      "=================================================================\n",
      "Total params: 203,530\n",
      "Trainable params: 203,530\n",
      "Non-trainable params: 0\n",
      "_________________________________________________________________\n",
      "learning rate 0.009000000000000001\n"
     ]
    },
    {
     "data": {
      "image/png": "[encoded data removed]",
      "text/plain": [
       "<Figure size 432x288 with 1 Axes>"
      ]
     },
     "metadata": {
      "needs_background": "light",
      "tags": []
     },
     "output_type": "display_data"
    },
    {
     "name": "stdout",
     "output_type": "stream",
     "text": [
      "\n",
      "Test loss: 0.254\n",
      "Test accuracy: 0.927\n"
     ]
    }
   ],
   "source": [
    "import numpy as np\n",
    "\n",
    "for lr in np.arange(0.001, 0.01 , 0.001):    # try lr of 0.005 to 0.01 in steps of 0.001\n",
    "    model = create_model()\n",
    "    run_model(model , lr)\n"
   ]
  },
  {
   "cell_type": "markdown",
   "metadata": {
    "colab_type": "text",
    "id": "8SlyIpvifMEG"
   },
   "source": [
    "## Observations about choice of learning rate\n",
    "\n",
    "1. Too small learning rates such as 0.00001 requires large number of epochs to learn. Both training and testing scores are low\n",
    "2. Larger learning rates 0.05 for e.g. lead to unstable model in validation data and overall poor scores in training and test\n",
    "3. Learning rates of 0.005 give more stable results early in the epoch. Becomes overfit with more epochs\n"
   ]
  },
  {
   "cell_type": "markdown",
   "metadata": {
    "colab_type": "text",
    "id": "M8Rjlf1ffMEH"
   },
   "source": [
    "# Gradient Descent Optimizers"
   ]
  },
  {
   "cell_type": "code",
   "execution_count": 0,
   "metadata": {
    "colab": {},
    "colab_type": "code",
    "id": "3D4F0g-ufMEI"
   },
   "outputs": [],
   "source": [
    "def create_model():\n",
    "    model = Sequential()\n",
    "    model.add(Dense(256, activation='relu', input_shape=(784,)))\n",
    "    model.add(Dense(num_classes, activation='softmax'))  \n",
    "\n",
    "    return model\n",
    "\n"
   ]
  },
  {
   "cell_type": "code",
   "execution_count": 0,
   "metadata": {
    "colab": {},
    "colab_type": "code",
    "id": "qIcu5bYRfMEL"
   },
   "outputs": [],
   "source": [
    "from tensorflow.keras import optimizers\n",
    " \n",
    "\n",
    "def run_model(model):\n",
    "    batch_size = 60000    # keep in 2^x \n",
    "    epochs = 20\n",
    "    model.summary()\n",
    "    # opt = optimizers.SGD(lr=0.005, decay=1e-6, momentum=0.9, nesterov=True)\n",
    "    opt = tf.keras.optimizers.Adam(lr=0.005, decay=1e-6)\n",
    "    #opt = tf.keras.optimizers.RMSprop(lr=0.005, decay=1e-6)\n",
    "\n",
    "\n",
    "  \n",
    "    model.compile(optimizer=opt, loss='categorical_crossentropy', metrics=['accuracy'])\n",
    "    history = model.fit(x_train, y_train, batch_size=batch_size, epochs=epochs, validation_split=.1, verbose=False)\n",
    "    loss, accuracy  = model.evaluate(x_test, y_test, verbose=False)\n",
    "  \n",
    "    plt.plot(history.history['accuracy'])\n",
    "    plt.plot(history.history['val_accuracy'])\n",
    "    plt.title('model accuracy')\n",
    "    plt.ylabel('accuracy')\n",
    "    plt.xlabel('epoch')\n",
    "    plt.legend(['training', 'validation'], loc='best')\n",
    "    plt.show()\n",
    "\n",
    "\n",
    "\n",
    "\n",
    "\n",
    "\n",
    "\n",
    "    print()\n",
    "    print(f'Test loss: {loss:.3}')\n",
    "    print(f'Test accuracy: {accuracy:.3}')\n"
   ]
  },
  {
   "cell_type": "code",
   "execution_count": 0,
   "metadata": {
    "colab": {
     "base_uri": "https://localhost:8080/",
     "height": 547
    },
    "colab_type": "code",
    "id": "1codQYzffMEO",
    "outputId": "f4b6ab2f-1ae7-4670-d63e-4e58235da439"
   },
   "outputs": [
    {
     "name": "stdout",
     "output_type": "stream",
     "text": [
      "Model: \"sequential_85\"\n",
      "_________________________________________________________________\n",
      "Layer (type)                 Output Shape              Param #   \n",
      "=================================================================\n",
      "dense_186 (Dense)            (None, 256)               200960    \n",
      "_________________________________________________________________\n",
      "dense_187 (Dense)            (None, 10)                2570      \n",
      "=================================================================\n",
      "Total params: 203,530\n",
      "Trainable params: 203,530\n",
      "Non-trainable params: 0\n",
      "_________________________________________________________________\n"
     ]
    },
    {
     "data": {
      "image/png": "[encoded data removed]",
      "text/plain": [
       "<Figure size 432x288 with 1 Axes>"
      ]
     },
     "metadata": {
      "needs_background": "light",
      "tags": []
     },
     "output_type": "display_data"
    },
    {
     "name": "stdout",
     "output_type": "stream",
     "text": [
      "\n",
      "Test loss: 0.281\n",
      "Test accuracy: 0.922\n"
     ]
    }
   ],
   "source": [
    "model = create_model()\n",
    "run_model(model)"
   ]
  },
  {
   "cell_type": "markdown",
   "metadata": {
    "colab_type": "text",
    "id": "rC5FZyn5fMEQ"
   },
   "source": [
    "# Dropout based regularization\n",
    "\n"
   ]
  },
  {
   "cell_type": "code",
   "execution_count": 0,
   "metadata": {
    "colab": {},
    "colab_type": "code",
    "id": "_TKVKed1fMER"
   },
   "outputs": [],
   "source": [
    "#from keras.constraints import max_norm\n",
    "from tensorflow.keras.constraints import MaxNorm\n",
    "from tensorflow.keras import optimizers\n",
    "from tensorflow.keras.callbacks import EarlyStopping\n",
    "\n",
    "def create_model():\n",
    "    model = Sequential()\n",
    "    model.add(Dense(256, activation='relu', input_shape=(784,)))\n",
    "    model.add(Dense(256, activation='relu', kernel_constraint = MaxNorm(2)))\n",
    "    model.add(Dropout(0.2) )  # 20% drop out for the first hidden layer   ----- > drop out\n",
    "    model.add(Dense(num_classes, activation='softmax'))  \n",
    "\n",
    "    return model\n",
    "\n"
   ]
  },
  {
   "cell_type": "code",
   "execution_count": 0,
   "metadata": {
    "colab": {},
    "colab_type": "code",
    "id": "DvUQoh7BfMEV"
   },
   "outputs": [],
   "source": [
    "#from keras import optimizers\n",
    "\n",
    "def run_model(model):\n",
    "    batch_size = 60000   \n",
    "    epochs = 20\n",
    "    model.summary()\n",
    "    opt = tf.keras.optimizers.Adam(lr=0.005)\n",
    "\n",
    "\n",
    "\n",
    "  \n",
    "    model.compile(optimizer=opt, loss='categorical_crossentropy', metrics=['accuracy'])\n",
    "    history = model.fit(x_train, y_train, batch_size=batch_size, epochs=epochs, validation_split=.1, verbose=False)\n",
    "    loss, accuracy  = model.evaluate(x_test, y_test, verbose=False)\n",
    "  \n",
    "    plt.plot(history.history['accuracy'])\n",
    "    plt.plot(history.history['val_accuracy'])\n",
    "    plt.title('model accuracy')\n",
    "    plt.ylabel('accuracy')\n",
    "    plt.xlabel('epoch')\n",
    "    plt.legend(['training', 'validation'], loc='best')\n",
    "    plt.show()\n",
    "\n",
    "\n",
    "\n",
    "\n",
    "\n",
    "\n",
    "\n",
    "    print()\n",
    "    print(f'Test loss: {loss:.3}')\n",
    "    print(f'Test accuracy: {accuracy:.3}')\n"
   ]
  },
  {
   "cell_type": "code",
   "execution_count": 0,
   "metadata": {
    "colab": {
     "base_uri": "https://localhost:8080/",
     "height": 614
    },
    "colab_type": "code",
    "id": "XmNOiaJhfMEY",
    "outputId": "09921ee8-8e97-451d-d404-7a1e4076d070",
    "scrolled": true
   },
   "outputs": [
    {
     "name": "stdout",
     "output_type": "stream",
     "text": [
      "Model: \"sequential_86\"\n",
      "_________________________________________________________________\n",
      "Layer (type)                 Output Shape              Param #   \n",
      "=================================================================\n",
      "dense_188 (Dense)            (None, 256)               200960    \n",
      "_________________________________________________________________\n",
      "dense_189 (Dense)            (None, 256)               65792     \n",
      "_________________________________________________________________\n",
      "dropout_14 (Dropout)         (None, 256)               0         \n",
      "_________________________________________________________________\n",
      "dense_190 (Dense)            (None, 10)                2570      \n",
      "=================================================================\n",
      "Total params: 269,322\n",
      "Trainable params: 269,322\n",
      "Non-trainable params: 0\n",
      "_________________________________________________________________\n"
     ]
    },
    {
     "data": {
      "image/png": "[encoded data removed]",
      "text/plain": [
       "<Figure size 432x288 with 1 Axes>"
      ]
     },
     "metadata": {
      "needs_background": "light",
      "tags": []
     },
     "output_type": "display_data"
    },
    {
     "name": "stdout",
     "output_type": "stream",
     "text": [
      "\n",
      "Test loss: 0.226\n",
      "Test accuracy: 0.931\n"
     ]
    }
   ],
   "source": [
    "model = create_model()\n",
    "run_model(model)"
   ]
  },
  {
   "cell_type": "markdown",
   "metadata": {
    "colab_type": "text",
    "id": "gZJmL9lffMEa"
   },
   "source": [
    "## Observations about Dropout \n",
    "\n",
    "1. Dropout layer on a simple model with one hidden layer seems to have an adverese impact.\n",
    "2. Dropout layer is leading to unstable behavior in the model bothin training and testing\n",
    "\n"
   ]
  },
  {
   "cell_type": "code",
   "execution_count": 0,
   "metadata": {
    "colab": {},
    "colab_type": "code",
    "id": "5qFYEqtAfMEf"
   },
   "outputs": [],
   "source": [
    "\n",
    "\n",
    "\n",
    "def create_model():\n",
    "    model = Sequential()\n",
    "    model.add(Dense(256, activation='relu', input_shape=(784,)))\n",
    "    # model.add(BatchNormalization())\n",
    "    model.add(Dense(num_classes, activation='softmax'))  \n",
    "\n",
    "    return model\n",
    "\n"
   ]
  },
  {
   "cell_type": "code",
   "execution_count": 0,
   "metadata": {
    "colab": {},
    "colab_type": "code",
    "id": "Zu-Pb2yPfMEg"
   },
   "outputs": [],
   "source": [
    "def run_model(model):\n",
    "    batch_size = 60000\n",
    "    epochs = 20\n",
    "    model.summary()\n",
    "    opt = optimizers.Adam(lr=0.005)\n",
    "  \n",
    "    model.compile(optimizer=opt, loss='categorical_crossentropy', metrics=['accuracy'])\n",
    "    history = model.fit(x_train, y_train, batch_size=batch_size, epochs=epochs, validation_split=.1, verbose=False)\n",
    "    loss, accuracy  = model.evaluate(x_test, y_test, verbose=False)\n",
    "  \n",
    "    plt.plot(history.history['accuracy'])\n",
    "    plt.plot(history.history['val_accuracy'])\n",
    "    plt.title('model accuracy')\n",
    "    plt.ylabel('accuracy')\n",
    "    plt.xlabel('epoch')\n",
    "    plt.legend(['training', 'validation'], loc='best')\n",
    "    plt.show()\n",
    "\n",
    "    print()\n",
    "    print(f'Test loss: {loss:.3}')\n",
    "    print(f'Test accuracy: {accuracy:.3}')\n"
   ]
  },
  {
   "cell_type": "code",
   "execution_count": 0,
   "metadata": {
    "colab": {
     "base_uri": "https://localhost:8080/",
     "height": 547
    },
    "colab_type": "code",
    "id": "tdsdSka4fMEi",
    "outputId": "2fdcca6d-812a-4cb9-ba80-252ecd8f939f"
   },
   "outputs": [
    {
     "name": "stdout",
     "output_type": "stream",
     "text": [
      "Model: \"sequential_87\"\n",
      "_________________________________________________________________\n",
      "Layer (type)                 Output Shape              Param #   \n",
      "=================================================================\n",
      "dense_191 (Dense)            (None, 256)               200960    \n",
      "_________________________________________________________________\n",
      "dense_192 (Dense)            (None, 10)                2570      \n",
      "=================================================================\n",
      "Total params: 203,530\n",
      "Trainable params: 203,530\n",
      "Non-trainable params: 0\n",
      "_________________________________________________________________\n"
     ]
    },
    {
     "data": {
      "image/png": "[encoded data removed]",
      "text/plain": [
       "<Figure size 432x288 with 1 Axes>"
      ]
     },
     "metadata": {
      "needs_background": "light",
      "tags": []
     },
     "output_type": "display_data"
    },
    {
     "name": "stdout",
     "output_type": "stream",
     "text": [
      "\n",
      "Test loss: 0.284\n",
      "Test accuracy: 0.921\n"
     ]
    }
   ],
   "source": [
    "model = create_model()\n",
    "run_model(model)"
   ]
  },
  {
   "cell_type": "markdown",
   "metadata": {
    "colab_type": "text",
    "id": "6Vxmp2PffMEl"
   },
   "source": [
    "## Observation on Dropout layer with multiple layers\n",
    "\n",
    "1. Use batch normalization only in deep neural networks to control the non linear transformations from becoming too large in magnitude\n",
    "\n"
   ]
  },
  {
   "cell_type": "markdown",
   "metadata": {
    "colab_type": "text",
    "id": "hf6a3tIEfMEm"
   },
   "source": [
    "# Weight Initialization \n"
   ]
  },
  {
   "cell_type": "code",
   "execution_count": 0,
   "metadata": {
    "colab": {},
    "colab_type": "code",
    "id": "oA2D7kRqfMEn"
   },
   "outputs": [],
   "source": [
    "#from keras.initializers import he_normal\n",
    "\n",
    "\n",
    "def create_model(wt_init):\n",
    "    model = Sequential()\n",
    "    model.add(Dense(256, activation='relu', input_shape=(784,), kernel_initializer = wt_init ))\n",
    "    model.add(Dropout(0.2))  # drop out for the first hidden layer   ----- > drop out\n",
    "    model.add(Dense(num_classes, activation='softmax'))  \n",
    "\n",
    "    return model\n",
    "\n",
    "\n"
   ]
  },
  {
   "cell_type": "code",
   "execution_count": 0,
   "metadata": {
    "colab": {},
    "colab_type": "code",
    "id": "SPgzqsQnfMEs"
   },
   "outputs": [],
   "source": [
    "def run_model(model):\n",
    "    batch_size = 60000    \n",
    "    epochs = 20\n",
    "    model.summary()\n",
    "    opt = tf.keras.optimizers.Adam(lr=0.005)\n",
    "  \n",
    "    model.compile(optimizer=opt, loss='categorical_crossentropy', metrics=['accuracy'])\n",
    "    history = model.fit(x_train, y_train, batch_size=batch_size, epochs=epochs, validation_split=.1, verbose=False)\n",
    "    loss, accuracy  = model.evaluate(x_test, y_test, verbose=False)\n",
    "  \n",
    "    plt.plot(history.history['accuracy'])\n",
    "    plt.plot(history.history['val_accuracy'])\n",
    "    plt.title('model accuracy')\n",
    "    plt.ylabel('accuracy')\n",
    "    plt.xlabel('epoch')\n",
    "    plt.legend(['training', 'validation'], loc='best')\n",
    "    plt.show()\n",
    "\n",
    "    print()\n",
    "    print(f'Test loss: {loss:.3}')\n",
    "    print(f'Test accuracy: {accuracy:.3}')\n"
   ]
  },
  {
   "cell_type": "code",
   "execution_count": 0,
   "metadata": {
    "colab": {
     "base_uri": "https://localhost:8080/",
     "height": 581
    },
    "colab_type": "code",
    "id": "laMnaUzKfMEu",
    "outputId": "910289dd-0848-4e37-b4c2-2fd80b4cbce1"
   },
   "outputs": [
    {
     "name": "stdout",
     "output_type": "stream",
     "text": [
      "Model: \"sequential_88\"\n",
      "_________________________________________________________________\n",
      "Layer (type)                 Output Shape              Param #   \n",
      "=================================================================\n",
      "dense_193 (Dense)            (None, 256)               200960    \n",
      "_________________________________________________________________\n",
      "dropout_15 (Dropout)         (None, 256)               0         \n",
      "_________________________________________________________________\n",
      "dense_194 (Dense)            (None, 10)                2570      \n",
      "=================================================================\n",
      "Total params: 203,530\n",
      "Trainable params: 203,530\n",
      "Non-trainable params: 0\n",
      "_________________________________________________________________\n"
     ]
    },
    {
     "data": {
      "image/png": "[encoded data removed]",
      "text/plain": [
       "<Figure size 432x288 with 1 Axes>"
      ]
     },
     "metadata": {
      "needs_background": "light",
      "tags": []
     },
     "output_type": "display_data"
    },
    {
     "name": "stdout",
     "output_type": "stream",
     "text": [
      "\n",
      "Test loss: 0.272\n",
      "Test accuracy: 0.922\n"
     ]
    }
   ],
   "source": [
    "#wt_init = tf.keras.initializers.he_normal(seed=None)\n",
    "#wt_init = tf.keras.initializers.lecun_uniform(seed=None)\n",
    "wt_init = tf.keras.initializers.glorot_normal(seed=None)\n",
    "\n",
    "model = create_model(wt_init)\n",
    "run_model(model)"
   ]
  },
  {
   "cell_type": "code",
   "execution_count": 0,
   "metadata": {
    "colab": {
     "base_uri": "https://localhost:8080/",
     "height": 282
    },
    "colab_type": "code",
    "id": "C4G020aTfMEw",
    "outputId": "b23d6fc1-d0f8-4072-d467-8426b00eb0b8"
   },
   "outputs": [
    {
     "data": {
      "text/plain": [
       "<matplotlib.axes._subplots.AxesSubplot at 0x7f206d291d68>"
      ]
     },
     "execution_count": 185,
     "metadata": {
      "tags": []
     },
     "output_type": "execute_result"
    },
    {
     "data": {
      "image/png": "[encoded data removed]",
      "text/plain": [
       "<Figure size 432x288 with 1 Axes>"
      ]
     },
     "metadata": {
      "needs_background": "light",
      "tags": []
     },
     "output_type": "display_data"
    }
   ],
   "source": [
    "ta = pd.DataFrame(history.history['accuracy'])\n",
    "va = pd.DataFrame(history.history['val_accuracy'])\n",
    "\n",
    "tva = pd.concat([ta,va] , axis=1)\n",
    "\n",
    "tva.boxplot()"
   ]
  },
  {
   "cell_type": "code",
   "execution_count": 0,
   "metadata": {
    "colab": {},
    "colab_type": "code",
    "id": "LBrG-ni0fMEz"
   },
   "outputs": [],
   "source": [
    "# Observations of including kernel initialier of He_norm and other parameters\n",
    "1. Frustrating! the model was looking very unstable with all the combinations of parameter values\n",
    "2. raised the batch size to 30,000 and got rid of the instability\n",
    "3. Avg accuracy of 98% in validation"
   ]
  },
  {
   "cell_type": "markdown",
   "metadata": {
    "colab_type": "text",
    "id": "R6A72UVUfME0"
   },
   "source": [
    "# Grid Search"
   ]
  },
  {
   "cell_type": "code",
   "execution_count": 0,
   "metadata": {
    "colab": {},
    "colab_type": "code",
    "id": "79UJzx2bfME1"
   },
   "outputs": [],
   "source": [
    "\n",
    "import numpy as np\n",
    "\n",
    "\n",
    "from tensorflow.keras import utils\n",
    "\n",
    "from tensorflow.keras.models import load_model\n",
    "\n",
    "\n",
    "\n",
    "\n",
    "\n",
    "\n",
    "\n",
    "\n",
    "random_seed = 64\n",
    "np.random.seed(random_seed)\n",
    "\n",
    "\n",
    "\n",
    "\n",
    "from tensorflow.keras.constraints import MaxNorm\n",
    "from tensorflow.keras import optimizers\n",
    "from tensorflow.keras.callbacks import EarlyStopping\n",
    "from tensorflow.keras.datasets import mnist\n",
    "from tensorflow.keras import Sequential\n",
    "from tensorflow.keras.layers import Dense, Dropout\n",
    "from tensorflow.keras.optimizers import RMSprop\n",
    "from tensorflow.keras.callbacks import EarlyStopping\n",
    "from tensorflow.keras.layers import BatchNormalization\n",
    "from tensorflow.keras.activations import relu\n",
    "from tensorflow.keras.wrappers.scikit_learn import KerasClassifier\n",
    "\n",
    "from sklearn.model_selection import StratifiedKFold\n",
    "from sklearn.model_selection import GridSearchCV, cross_val_score\n",
    "\n",
    "import matplotlib.pyplot as plt"
   ]
  },
  {
   "cell_type": "code",
   "execution_count": 0,
   "metadata": {
    "colab": {
     "base_uri": "https://localhost:8080/",
     "height": 50
    },
    "colab_type": "code",
    "id": "zWrx74ayfME4",
    "outputId": "6f448651-6071-42d9-a071-1be086e617ca"
   },
   "outputs": [
    {
     "name": "stdout",
     "output_type": "stream",
     "text": [
      "Train size: 60000\n",
      "Test size: 10000\n"
     ]
    }
   ],
   "source": [
    "(x_train, y_train), (x_test, y_test) = mnist.load_data()\n",
    "\n",
    "num_classes = 10\n",
    "x_train = x_train.reshape(60000, 784)    # 784 = 28 X 28 the size of each image. There are 60000 images for training\n",
    "x_test = x_test.reshape(10000, 784)      # Images are flattended out into a vector of 784 elements\n",
    "x_train = tf.keras.backend.cast_to_floatx(x_train)      # Change the data type to float from integer (0 - 255)\n",
    "x_test = tf.keras.backend.cast_to_floatx(x_test)\n",
    "x_train /= 255.0                           # Scale the data between 0 and 1\n",
    "x_test /= 255.0\n",
    "\n",
    "original_y_train = y_train\n",
    "original_y_test = y_test\n",
    "\n",
    "y_train = tf.keras.utils.to_categorical(y_train, num_classes)   # Converting the target into categorical which is stored as numeric\n",
    "y_test = tf.keras.utils.to_categorical(y_test, num_classes)     # Keras converst these into 1-hot coded vectors as these are lables\n",
    "\n",
    "\n",
    "print ('Train size:', x_train.shape[0])\n",
    "print ('Test size:', x_test.shape[0])\n",
    "\n"
   ]
  },
  {
   "cell_type": "code",
   "execution_count": 0,
   "metadata": {
    "colab": {},
    "colab_type": "code",
    "id": "I1xVFm4YfME6"
   },
   "outputs": [],
   "source": [
    "# Function to create model, required for KerasClassifier\n",
    "def create_model(number_of_layers=2, neurons_per_layer = 32, dropout_percent = 0.2, optimizer='adam'):\n",
    "    # create model\n",
    "    model = Sequential()\n",
    "    model.add(Dense(neurons_per_layer, activation='relu', input_shape=(784,)))\n",
    "    \n",
    "    for i in range(number_of_layers-1):\n",
    "        model.add(Dense(neurons_per_layer, activation='relu', kernel_constraint = maxnorm(3)))\n",
    "        model.add(Dropout(dropout_percent))\n",
    "        \n",
    "    # Add the output layer with softmax\n",
    "    model.add(Dense(num_classes, kernel_initializer = 'normal', activation='softmax'))  \n",
    "        \n",
    "    \n",
    "    # Compile model\n",
    "    model.compile(loss='categorical_crossentropy', optimizer=optimizer, metrics=['accuracy'])\n",
    "   \n",
    "    return model"
   ]
  },
  {
   "cell_type": "code",
   "execution_count": 0,
   "metadata": {
    "colab": {},
    "colab_type": "code",
    "id": "sM4Hhs38fME9"
   },
   "outputs": [],
   "source": [
    "# create model\n",
    "kc_model = KerasClassifier(build_fn=create_model,number_of_layers=2, neurons_per_layer = 256, optimizer = 'adam', epochs=20, batch_size=30000, verbose=0) # Wrapper for scikitlearn API, provides \n",
    "                                                                                    # facility to get scores \n"
   ]
  },
  {
   "cell_type": "code",
   "execution_count": 0,
   "metadata": {
    "colab": {},
    "colab_type": "code",
    "id": "jbuO5Q0gfME-"
   },
   "outputs": [],
   "source": [
    "kfold = StratifiedKFold(n_splits = 2, shuffle=True, random_state = 64)    # kept the n_splits = 2 for demo.... this is the K value "
   ]
  },
  {
   "cell_type": "code",
   "execution_count": 0,
   "metadata": {
    "colab": {
     "base_uri": "https://localhost:8080/",
     "height": 50
    },
    "colab_type": "code",
    "id": "uexEIEs1fMFB",
    "outputId": "7365aac3-38eb-4c42-fb32-e94d7c2aca77"
   },
   "outputs": [
    {
     "name": "stderr",
     "output_type": "stream",
     "text": [
      "[Parallel(n_jobs=1)]: Using backend SequentialBackend with 1 concurrent workers.\n",
      "[Parallel(n_jobs=1)]: Done   2 out of   2 | elapsed:   31.5s finished\n"
     ]
    }
   ],
   "source": [
    "results = cross_val_score(kc_model, x_train, original_y_train, cv=kfold, verbose=1)"
   ]
  },
  {
   "cell_type": "code",
   "execution_count": 0,
   "metadata": {
    "colab": {
     "base_uri": "https://localhost:8080/",
     "height": 50
    },
    "colab_type": "code",
    "id": "s02dWfytfMFF",
    "outputId": "84f97690-c56d-4ab9-8f29-93c5d11d2400"
   },
   "outputs": [
    {
     "name": "stdout",
     "output_type": "stream",
     "text": [
      "results = [0.87326664 0.87180001]\n",
      "results.mean = 0.8725333213806152\n"
     ]
    }
   ],
   "source": [
    "print('results = {}\\nresults.mean = {}'.format(results, results.mean()))"
   ]
  },
  {
   "cell_type": "code",
   "execution_count": 0,
   "metadata": {
    "colab": {},
    "colab_type": "code",
    "id": "_1iJR8RLfMFH"
   },
   "outputs": [],
   "source": [
    "# define the grid search parameters\n",
    "\n",
    "param_grid = dict(number_of_layers = [2 , 3],\n",
    "                 neurons_per_layer = [32 , 128],\n",
    "                 optimizer = ['adam', 'sgd'])\n"
   ]
  },
  {
   "cell_type": "code",
   "execution_count": 0,
   "metadata": {
    "colab": {},
    "colab_type": "code",
    "id": "gp_4JxpKfMFJ"
   },
   "outputs": [],
   "source": [
    "\n",
    "gridsearcher = GridSearchCV(estimator=kc_model, param_grid=param_grid, n_jobs=1)\n",
    "grid_result = gridsearcher.fit(x_train, original_y_train)"
   ]
  },
  {
   "cell_type": "code",
   "execution_count": 0,
   "metadata": {
    "colab": {
     "base_uri": "https://localhost:8080/",
     "height": 168
    },
    "colab_type": "code",
    "id": "xdIWLxUSfMFL",
    "outputId": "774ab3c7-2ea3-465c-d2a4-0edbfdaa1f80"
   },
   "outputs": [
    {
     "name": "stdout",
     "output_type": "stream",
     "text": [
      "Best: 0.895350 using {'neurons_per_layer': 128, 'number_of_layers': 3, 'optimizer': 'adam'}\n",
      "0.727767 (0.031929) with: {'neurons_per_layer': 32, 'number_of_layers': 2, 'optimizer': 'adam'}\n",
      "0.127667 (0.024001) with: {'neurons_per_layer': 32, 'number_of_layers': 2, 'optimizer': 'sgd'}\n",
      "0.695317 (0.023276) with: {'neurons_per_layer': 32, 'number_of_layers': 3, 'optimizer': 'adam'}\n",
      "0.113617 (0.008836) with: {'neurons_per_layer': 32, 'number_of_layers': 3, 'optimizer': 'sgd'}\n",
      "0.886917 (0.006307) with: {'neurons_per_layer': 128, 'number_of_layers': 2, 'optimizer': 'adam'}\n",
      "0.190517 (0.034718) with: {'neurons_per_layer': 128, 'number_of_layers': 2, 'optimizer': 'sgd'}\n",
      "0.895350 (0.004849) with: {'neurons_per_layer': 128, 'number_of_layers': 3, 'optimizer': 'adam'}\n",
      "0.144033 (0.014353) with: {'neurons_per_layer': 128, 'number_of_layers': 3, 'optimizer': 'sgd'}\n"
     ]
    }
   ],
   "source": [
    "print(\"Best: %f using %s\" % (grid_result.best_score_, grid_result.best_params_))\n",
    "means = grid_result.cv_results_['mean_test_score']\n",
    "stds = grid_result.cv_results_['std_test_score']\n",
    "params = grid_result.cv_results_['params']\n",
    "for mean, stdev, param in zip(means, stds, params):\n",
    "    print(\"%f (%f) with: %r\" % (mean, stdev, param))"
   ]
  },
  {
   "cell_type": "code",
   "execution_count": 0,
   "metadata": {
    "colab": {},
    "colab_type": "code",
    "id": "iZO9IxRtfMFO"
   },
   "outputs": [],
   "source": [
    "#learn_rate = [0.001, 0.002]\n",
    "#momentum = [0.0, 0.1, 0.3]\n",
    "#optimizer = ['SGD', 'RMSprop', 'Adagrad', 'Adadelta', 'Adam', 'Adamax', 'Nadam']\n",
    "#init_mode = ['uniform', 'lecun_uniform', 'normal', 'glorot_normal', 'glorot_uniform', 'he_normal', 'he_uniform']\n",
    "# activation = ['relu', 'tanh', 'sigmoid']\n",
    "# dropout_rate = [0.0, 0.1, 0.2, 0.3, 0.4, 0.5, 0.6, 0.7, 0.8, 0.9]\n",
    "#neurons = [10, 12, 13, 14, 15]"
   ]
  },
  {
   "cell_type": "code",
   "execution_count": 0,
   "metadata": {
    "colab": {},
    "colab_type": "code",
    "id": "adobaRcEfMFQ"
   },
   "outputs": [],
   "source": []
  }
 ],
 "metadata": {
  "colab": {
   "collapsed_sections": [
    "WgGJTgNZfMC5",
    "_YFbRYfAfMDO",
    "daZZQ4vBfMDm",
    "TWbP6wEqfMD3",
    "onxGR3A2fMD3",
    "vdgOo3n-fMD9",
    "ujOursKgfMD-",
    "8SlyIpvifMEG",
    "rC5FZyn5fMEQ",
    "gZJmL9lffMEa",
    "6Vxmp2PffMEl",
    "hf6a3tIEfMEm",
    "R6A72UVUfME0"
   ],
   "name": "DL_HyperparameterTuning_3.ipynb",
   "provenance": []
  },
  "kernelspec": {
   "display_name": "Python 3",
   "language": "python",
   "name": "python3"
  },
  "language_info": {
   "codemirror_mode": {
    "name": "ipython",
    "version": 3
   },
   "file_extension": ".py",
   "mimetype": "text/x-python",
   "name": "python",
   "nbconvert_exporter": "python",
   "pygments_lexer": "ipython3",
   "version": "3.7.3"
  }
 },
 "nbformat": 4,
 "nbformat_minor": 1
}
