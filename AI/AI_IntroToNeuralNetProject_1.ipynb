{
 "cells": [
  {
   "cell_type": "code",
   "execution_count": 1,
   "metadata": {},
   "outputs": [],
   "source": [
    "import pandas as pd\n",
    "import numpy as np\n",
    "import matplotlib.pyplot as plt\n",
    "import seaborn as sns\n",
    "from scipy.stats import zscore\n",
    "from sklearn.preprocessing import LabelEncoder\n",
    "from tensorflow.keras.utils import to_categorical\n",
    "from sklearn.model_selection import train_test_split\n",
    "import tensorflow as tf\n",
    "from tensorflow.keras import models\n",
    "from tensorflow.keras.layers import Dense"
   ]
  },
  {
   "cell_type": "code",
   "execution_count": 2,
   "metadata": {},
   "outputs": [],
   "source": [
    "import warnings\n",
    "warnings.filterwarnings('ignore')"
   ]
  },
  {
   "cell_type": "code",
   "execution_count": 43,
   "metadata": {},
   "outputs": [],
   "source": [
    "data = pd.read_csv(\"bank.csv\")"
   ]
  },
  {
   "cell_type": "code",
   "execution_count": 44,
   "metadata": {},
   "outputs": [
    {
     "data": {
      "text/html": [
       "<div>\n",
       "<style scoped>\n",
       "    .dataframe tbody tr th:only-of-type {\n",
       "        vertical-align: middle;\n",
       "    }\n",
       "\n",
       "    .dataframe tbody tr th {\n",
       "        vertical-align: top;\n",
       "    }\n",
       "\n",
       "    .dataframe thead th {\n",
       "        text-align: right;\n",
       "    }\n",
       "</style>\n",
       "<table border=\"1\" class=\"dataframe\">\n",
       "  <thead>\n",
       "    <tr style=\"text-align: right;\">\n",
       "      <th></th>\n",
       "      <th>RowNumber</th>\n",
       "      <th>CustomerId</th>\n",
       "      <th>Surname</th>\n",
       "      <th>CreditScore</th>\n",
       "      <th>Geography</th>\n",
       "      <th>Gender</th>\n",
       "      <th>Age</th>\n",
       "      <th>Tenure</th>\n",
       "      <th>Balance</th>\n",
       "      <th>NumOfProducts</th>\n",
       "      <th>HasCrCard</th>\n",
       "      <th>IsActiveMember</th>\n",
       "      <th>EstimatedSalary</th>\n",
       "      <th>Exited</th>\n",
       "    </tr>\n",
       "  </thead>\n",
       "  <tbody>\n",
       "    <tr>\n",
       "      <td>7469</td>\n",
       "      <td>7470</td>\n",
       "      <td>15717065</td>\n",
       "      <td>Balashov</td>\n",
       "      <td>686</td>\n",
       "      <td>France</td>\n",
       "      <td>Female</td>\n",
       "      <td>35</td>\n",
       "      <td>8</td>\n",
       "      <td>105419.73</td>\n",
       "      <td>1</td>\n",
       "      <td>1</td>\n",
       "      <td>0</td>\n",
       "      <td>35356.46</td>\n",
       "      <td>0</td>\n",
       "    </tr>\n",
       "    <tr>\n",
       "      <td>8099</td>\n",
       "      <td>8100</td>\n",
       "      <td>15661656</td>\n",
       "      <td>Onwumelu</td>\n",
       "      <td>633</td>\n",
       "      <td>France</td>\n",
       "      <td>Male</td>\n",
       "      <td>38</td>\n",
       "      <td>2</td>\n",
       "      <td>91902.56</td>\n",
       "      <td>2</td>\n",
       "      <td>1</td>\n",
       "      <td>1</td>\n",
       "      <td>107673.35</td>\n",
       "      <td>0</td>\n",
       "    </tr>\n",
       "    <tr>\n",
       "      <td>9106</td>\n",
       "      <td>9107</td>\n",
       "      <td>15663650</td>\n",
       "      <td>Russell</td>\n",
       "      <td>698</td>\n",
       "      <td>Germany</td>\n",
       "      <td>Male</td>\n",
       "      <td>52</td>\n",
       "      <td>10</td>\n",
       "      <td>107304.39</td>\n",
       "      <td>3</td>\n",
       "      <td>1</td>\n",
       "      <td>0</td>\n",
       "      <td>28806.32</td>\n",
       "      <td>1</td>\n",
       "    </tr>\n",
       "    <tr>\n",
       "      <td>2010</td>\n",
       "      <td>2011</td>\n",
       "      <td>15612050</td>\n",
       "      <td>Castiglione</td>\n",
       "      <td>556</td>\n",
       "      <td>Spain</td>\n",
       "      <td>Female</td>\n",
       "      <td>48</td>\n",
       "      <td>8</td>\n",
       "      <td>168522.37</td>\n",
       "      <td>1</td>\n",
       "      <td>1</td>\n",
       "      <td>1</td>\n",
       "      <td>151310.16</td>\n",
       "      <td>0</td>\n",
       "    </tr>\n",
       "    <tr>\n",
       "      <td>8699</td>\n",
       "      <td>8700</td>\n",
       "      <td>15684469</td>\n",
       "      <td>Hsiung</td>\n",
       "      <td>841</td>\n",
       "      <td>Germany</td>\n",
       "      <td>Male</td>\n",
       "      <td>32</td>\n",
       "      <td>2</td>\n",
       "      <td>117070.21</td>\n",
       "      <td>1</td>\n",
       "      <td>1</td>\n",
       "      <td>0</td>\n",
       "      <td>113482.20</td>\n",
       "      <td>0</td>\n",
       "    </tr>\n",
       "    <tr>\n",
       "      <td>2361</td>\n",
       "      <td>2362</td>\n",
       "      <td>15635776</td>\n",
       "      <td>Trevisani</td>\n",
       "      <td>686</td>\n",
       "      <td>Germany</td>\n",
       "      <td>Female</td>\n",
       "      <td>43</td>\n",
       "      <td>5</td>\n",
       "      <td>154846.24</td>\n",
       "      <td>2</td>\n",
       "      <td>1</td>\n",
       "      <td>1</td>\n",
       "      <td>151903.60</td>\n",
       "      <td>0</td>\n",
       "    </tr>\n",
       "    <tr>\n",
       "      <td>106</td>\n",
       "      <td>107</td>\n",
       "      <td>15599195</td>\n",
       "      <td>Stiger</td>\n",
       "      <td>582</td>\n",
       "      <td>Germany</td>\n",
       "      <td>Male</td>\n",
       "      <td>32</td>\n",
       "      <td>1</td>\n",
       "      <td>88938.62</td>\n",
       "      <td>1</td>\n",
       "      <td>1</td>\n",
       "      <td>1</td>\n",
       "      <td>10054.53</td>\n",
       "      <td>0</td>\n",
       "    </tr>\n",
       "    <tr>\n",
       "      <td>2729</td>\n",
       "      <td>2730</td>\n",
       "      <td>15608230</td>\n",
       "      <td>Hoelscher</td>\n",
       "      <td>667</td>\n",
       "      <td>France</td>\n",
       "      <td>Male</td>\n",
       "      <td>23</td>\n",
       "      <td>1</td>\n",
       "      <td>0.00</td>\n",
       "      <td>2</td>\n",
       "      <td>1</td>\n",
       "      <td>0</td>\n",
       "      <td>91573.19</td>\n",
       "      <td>0</td>\n",
       "    </tr>\n",
       "    <tr>\n",
       "      <td>1920</td>\n",
       "      <td>1921</td>\n",
       "      <td>15723720</td>\n",
       "      <td>McKenzie</td>\n",
       "      <td>591</td>\n",
       "      <td>France</td>\n",
       "      <td>Female</td>\n",
       "      <td>31</td>\n",
       "      <td>7</td>\n",
       "      <td>0.00</td>\n",
       "      <td>2</td>\n",
       "      <td>0</td>\n",
       "      <td>1</td>\n",
       "      <td>48778.46</td>\n",
       "      <td>0</td>\n",
       "    </tr>\n",
       "    <tr>\n",
       "      <td>3729</td>\n",
       "      <td>3730</td>\n",
       "      <td>15697702</td>\n",
       "      <td>Lord</td>\n",
       "      <td>730</td>\n",
       "      <td>Spain</td>\n",
       "      <td>Male</td>\n",
       "      <td>29</td>\n",
       "      <td>2</td>\n",
       "      <td>0.00</td>\n",
       "      <td>2</td>\n",
       "      <td>1</td>\n",
       "      <td>0</td>\n",
       "      <td>14174.09</td>\n",
       "      <td>0</td>\n",
       "    </tr>\n",
       "  </tbody>\n",
       "</table>\n",
       "</div>"
      ],
      "text/plain": [
       "      RowNumber  CustomerId      Surname  CreditScore Geography  Gender  Age  \\\n",
       "7469       7470    15717065     Balashov          686    France  Female   35   \n",
       "8099       8100    15661656     Onwumelu          633    France    Male   38   \n",
       "9106       9107    15663650      Russell          698   Germany    Male   52   \n",
       "2010       2011    15612050  Castiglione          556     Spain  Female   48   \n",
       "8699       8700    15684469       Hsiung          841   Germany    Male   32   \n",
       "2361       2362    15635776    Trevisani          686   Germany  Female   43   \n",
       "106         107    15599195       Stiger          582   Germany    Male   32   \n",
       "2729       2730    15608230    Hoelscher          667    France    Male   23   \n",
       "1920       1921    15723720     McKenzie          591    France  Female   31   \n",
       "3729       3730    15697702         Lord          730     Spain    Male   29   \n",
       "\n",
       "      Tenure    Balance  NumOfProducts  HasCrCard  IsActiveMember  \\\n",
       "7469       8  105419.73              1          1               0   \n",
       "8099       2   91902.56              2          1               1   \n",
       "9106      10  107304.39              3          1               0   \n",
       "2010       8  168522.37              1          1               1   \n",
       "8699       2  117070.21              1          1               0   \n",
       "2361       5  154846.24              2          1               1   \n",
       "106        1   88938.62              1          1               1   \n",
       "2729       1       0.00              2          1               0   \n",
       "1920       7       0.00              2          0               1   \n",
       "3729       2       0.00              2          1               0   \n",
       "\n",
       "      EstimatedSalary  Exited  \n",
       "7469         35356.46       0  \n",
       "8099        107673.35       0  \n",
       "9106         28806.32       1  \n",
       "2010        151310.16       0  \n",
       "8699        113482.20       0  \n",
       "2361        151903.60       0  \n",
       "106          10054.53       0  \n",
       "2729         91573.19       0  \n",
       "1920         48778.46       0  \n",
       "3729         14174.09       0  "
      ]
     },
     "execution_count": 44,
     "metadata": {},
     "output_type": "execute_result"
    }
   ],
   "source": [
    "data.sample(10)"
   ]
  },
  {
   "cell_type": "code",
   "execution_count": 45,
   "metadata": {},
   "outputs": [
    {
     "data": {
      "text/plain": [
       "(10000, 14)"
      ]
     },
     "execution_count": 45,
     "metadata": {},
     "output_type": "execute_result"
    }
   ],
   "source": [
    "data.shape"
   ]
  },
  {
   "cell_type": "code",
   "execution_count": 46,
   "metadata": {},
   "outputs": [
    {
     "name": "stdout",
     "output_type": "stream",
     "text": [
      "<class 'pandas.core.frame.DataFrame'>\n",
      "RangeIndex: 10000 entries, 0 to 9999\n",
      "Data columns (total 14 columns):\n",
      "RowNumber          10000 non-null int64\n",
      "CustomerId         10000 non-null int64\n",
      "Surname            10000 non-null object\n",
      "CreditScore        10000 non-null int64\n",
      "Geography          10000 non-null object\n",
      "Gender             10000 non-null object\n",
      "Age                10000 non-null int64\n",
      "Tenure             10000 non-null int64\n",
      "Balance            10000 non-null float64\n",
      "NumOfProducts      10000 non-null int64\n",
      "HasCrCard          10000 non-null int64\n",
      "IsActiveMember     10000 non-null int64\n",
      "EstimatedSalary    10000 non-null float64\n",
      "Exited             10000 non-null int64\n",
      "dtypes: float64(2), int64(9), object(3)\n",
      "memory usage: 1.1+ MB\n"
     ]
    }
   ],
   "source": [
    "data.info()"
   ]
  },
  {
   "cell_type": "code",
   "execution_count": 10,
   "metadata": {},
   "outputs": [
    {
     "data": {
      "text/html": [
       "<div>\n",
       "<style scoped>\n",
       "    .dataframe tbody tr th:only-of-type {\n",
       "        vertical-align: middle;\n",
       "    }\n",
       "\n",
       "    .dataframe tbody tr th {\n",
       "        vertical-align: top;\n",
       "    }\n",
       "\n",
       "    .dataframe thead th {\n",
       "        text-align: right;\n",
       "    }\n",
       "</style>\n",
       "<table border=\"1\" class=\"dataframe\">\n",
       "  <thead>\n",
       "    <tr style=\"text-align: right;\">\n",
       "      <th></th>\n",
       "      <th>count</th>\n",
       "      <th>mean</th>\n",
       "      <th>std</th>\n",
       "      <th>min</th>\n",
       "      <th>25%</th>\n",
       "      <th>50%</th>\n",
       "      <th>75%</th>\n",
       "      <th>max</th>\n",
       "    </tr>\n",
       "  </thead>\n",
       "  <tbody>\n",
       "    <tr>\n",
       "      <td>RowNumber</td>\n",
       "      <td>10000.0</td>\n",
       "      <td>5.000500e+03</td>\n",
       "      <td>2886.895680</td>\n",
       "      <td>1.00</td>\n",
       "      <td>2500.75</td>\n",
       "      <td>5.000500e+03</td>\n",
       "      <td>7.500250e+03</td>\n",
       "      <td>10000.00</td>\n",
       "    </tr>\n",
       "    <tr>\n",
       "      <td>CustomerId</td>\n",
       "      <td>10000.0</td>\n",
       "      <td>1.569094e+07</td>\n",
       "      <td>71936.186123</td>\n",
       "      <td>15565701.00</td>\n",
       "      <td>15628528.25</td>\n",
       "      <td>1.569074e+07</td>\n",
       "      <td>1.575323e+07</td>\n",
       "      <td>15815690.00</td>\n",
       "    </tr>\n",
       "    <tr>\n",
       "      <td>CreditScore</td>\n",
       "      <td>10000.0</td>\n",
       "      <td>6.505288e+02</td>\n",
       "      <td>96.653299</td>\n",
       "      <td>350.00</td>\n",
       "      <td>584.00</td>\n",
       "      <td>6.520000e+02</td>\n",
       "      <td>7.180000e+02</td>\n",
       "      <td>850.00</td>\n",
       "    </tr>\n",
       "    <tr>\n",
       "      <td>Age</td>\n",
       "      <td>10000.0</td>\n",
       "      <td>3.892180e+01</td>\n",
       "      <td>10.487806</td>\n",
       "      <td>18.00</td>\n",
       "      <td>32.00</td>\n",
       "      <td>3.700000e+01</td>\n",
       "      <td>4.400000e+01</td>\n",
       "      <td>92.00</td>\n",
       "    </tr>\n",
       "    <tr>\n",
       "      <td>Tenure</td>\n",
       "      <td>10000.0</td>\n",
       "      <td>5.012800e+00</td>\n",
       "      <td>2.892174</td>\n",
       "      <td>0.00</td>\n",
       "      <td>3.00</td>\n",
       "      <td>5.000000e+00</td>\n",
       "      <td>7.000000e+00</td>\n",
       "      <td>10.00</td>\n",
       "    </tr>\n",
       "    <tr>\n",
       "      <td>Balance</td>\n",
       "      <td>10000.0</td>\n",
       "      <td>7.648589e+04</td>\n",
       "      <td>62397.405202</td>\n",
       "      <td>0.00</td>\n",
       "      <td>0.00</td>\n",
       "      <td>9.719854e+04</td>\n",
       "      <td>1.276442e+05</td>\n",
       "      <td>250898.09</td>\n",
       "    </tr>\n",
       "    <tr>\n",
       "      <td>NumOfProducts</td>\n",
       "      <td>10000.0</td>\n",
       "      <td>1.530200e+00</td>\n",
       "      <td>0.581654</td>\n",
       "      <td>1.00</td>\n",
       "      <td>1.00</td>\n",
       "      <td>1.000000e+00</td>\n",
       "      <td>2.000000e+00</td>\n",
       "      <td>4.00</td>\n",
       "    </tr>\n",
       "    <tr>\n",
       "      <td>HasCrCard</td>\n",
       "      <td>10000.0</td>\n",
       "      <td>7.055000e-01</td>\n",
       "      <td>0.455840</td>\n",
       "      <td>0.00</td>\n",
       "      <td>0.00</td>\n",
       "      <td>1.000000e+00</td>\n",
       "      <td>1.000000e+00</td>\n",
       "      <td>1.00</td>\n",
       "    </tr>\n",
       "    <tr>\n",
       "      <td>IsActiveMember</td>\n",
       "      <td>10000.0</td>\n",
       "      <td>5.151000e-01</td>\n",
       "      <td>0.499797</td>\n",
       "      <td>0.00</td>\n",
       "      <td>0.00</td>\n",
       "      <td>1.000000e+00</td>\n",
       "      <td>1.000000e+00</td>\n",
       "      <td>1.00</td>\n",
       "    </tr>\n",
       "    <tr>\n",
       "      <td>EstimatedSalary</td>\n",
       "      <td>10000.0</td>\n",
       "      <td>1.000902e+05</td>\n",
       "      <td>57510.492818</td>\n",
       "      <td>11.58</td>\n",
       "      <td>51002.11</td>\n",
       "      <td>1.001939e+05</td>\n",
       "      <td>1.493882e+05</td>\n",
       "      <td>199992.48</td>\n",
       "    </tr>\n",
       "    <tr>\n",
       "      <td>Exited</td>\n",
       "      <td>10000.0</td>\n",
       "      <td>2.037000e-01</td>\n",
       "      <td>0.402769</td>\n",
       "      <td>0.00</td>\n",
       "      <td>0.00</td>\n",
       "      <td>0.000000e+00</td>\n",
       "      <td>0.000000e+00</td>\n",
       "      <td>1.00</td>\n",
       "    </tr>\n",
       "  </tbody>\n",
       "</table>\n",
       "</div>"
      ],
      "text/plain": [
       "                   count          mean           std          min  \\\n",
       "RowNumber        10000.0  5.000500e+03   2886.895680         1.00   \n",
       "CustomerId       10000.0  1.569094e+07  71936.186123  15565701.00   \n",
       "CreditScore      10000.0  6.505288e+02     96.653299       350.00   \n",
       "Age              10000.0  3.892180e+01     10.487806        18.00   \n",
       "Tenure           10000.0  5.012800e+00      2.892174         0.00   \n",
       "Balance          10000.0  7.648589e+04  62397.405202         0.00   \n",
       "NumOfProducts    10000.0  1.530200e+00      0.581654         1.00   \n",
       "HasCrCard        10000.0  7.055000e-01      0.455840         0.00   \n",
       "IsActiveMember   10000.0  5.151000e-01      0.499797         0.00   \n",
       "EstimatedSalary  10000.0  1.000902e+05  57510.492818        11.58   \n",
       "Exited           10000.0  2.037000e-01      0.402769         0.00   \n",
       "\n",
       "                         25%           50%           75%          max  \n",
       "RowNumber            2500.75  5.000500e+03  7.500250e+03     10000.00  \n",
       "CustomerId       15628528.25  1.569074e+07  1.575323e+07  15815690.00  \n",
       "CreditScore           584.00  6.520000e+02  7.180000e+02       850.00  \n",
       "Age                    32.00  3.700000e+01  4.400000e+01        92.00  \n",
       "Tenure                  3.00  5.000000e+00  7.000000e+00        10.00  \n",
       "Balance                 0.00  9.719854e+04  1.276442e+05    250898.09  \n",
       "NumOfProducts           1.00  1.000000e+00  2.000000e+00         4.00  \n",
       "HasCrCard               0.00  1.000000e+00  1.000000e+00         1.00  \n",
       "IsActiveMember          0.00  1.000000e+00  1.000000e+00         1.00  \n",
       "EstimatedSalary     51002.11  1.001939e+05  1.493882e+05    199992.48  \n",
       "Exited                  0.00  0.000000e+00  0.000000e+00         1.00  "
      ]
     },
     "execution_count": 10,
     "metadata": {},
     "output_type": "execute_result"
    }
   ],
   "source": [
    "data.describe().transpose()"
   ]
  },
  {
   "cell_type": "code",
   "execution_count": 11,
   "metadata": {},
   "outputs": [
    {
     "data": {
      "text/plain": [
       "RowNumber          0\n",
       "CustomerId         0\n",
       "Surname            0\n",
       "CreditScore        0\n",
       "Geography          0\n",
       "Gender             0\n",
       "Age                0\n",
       "Tenure             0\n",
       "Balance            0\n",
       "NumOfProducts      0\n",
       "HasCrCard          0\n",
       "IsActiveMember     0\n",
       "EstimatedSalary    0\n",
       "Exited             0\n",
       "dtype: int64"
      ]
     },
     "execution_count": 11,
     "metadata": {},
     "output_type": "execute_result"
    }
   ],
   "source": [
    "data.isna().sum()"
   ]
  },
  {
   "cell_type": "code",
   "execution_count": 12,
   "metadata": {},
   "outputs": [
    {
     "data": {
      "text/plain": [
       "<matplotlib.axes._subplots.AxesSubplot at 0x24c710326d8>"
      ]
     },
     "execution_count": 12,
     "metadata": {},
     "output_type": "execute_result"
    },
    {
     "data": {
      "image/png": "[encoded data removed]",
      "text/plain": [
       "<Figure size 1224x720 with 2 Axes>"
      ]
     },
     "metadata": {
      "needs_background": "light"
     },
     "output_type": "display_data"
    }
   ],
   "source": [
    "# CORRELATION - HEAT MAP\n",
    "colormap = plt.cm.plasma\n",
    "plt.figure(figsize=(17,10))\n",
    "plt.title('Correlation of Cutomer Exiting Bank', y=1.05, size=15)\n",
    "sns.heatmap(data.corr(),linewidths=0.1,vmax=1.0, square=True, cmap=colormap, \n",
    "            linecolor='white', annot=True)"
   ]
  },
  {
   "cell_type": "code",
   "execution_count": 14,
   "metadata": {},
   "outputs": [
    {
     "data": {
      "text/html": [
       "<div>\n",
       "<style scoped>\n",
       "    .dataframe tbody tr th:only-of-type {\n",
       "        vertical-align: middle;\n",
       "    }\n",
       "\n",
       "    .dataframe tbody tr th {\n",
       "        vertical-align: top;\n",
       "    }\n",
       "\n",
       "    .dataframe thead th {\n",
       "        text-align: right;\n",
       "    }\n",
       "</style>\n",
       "<table border=\"1\" class=\"dataframe\">\n",
       "  <thead>\n",
       "    <tr style=\"text-align: right;\">\n",
       "      <th></th>\n",
       "      <th>RowNumber</th>\n",
       "      <th>CustomerId</th>\n",
       "      <th>Surname</th>\n",
       "      <th>CreditScore</th>\n",
       "      <th>Geography</th>\n",
       "      <th>Gender</th>\n",
       "      <th>Age</th>\n",
       "      <th>Tenure</th>\n",
       "      <th>Balance</th>\n",
       "      <th>NumOfProducts</th>\n",
       "      <th>HasCrCard</th>\n",
       "      <th>IsActiveMember</th>\n",
       "      <th>EstimatedSalary</th>\n",
       "      <th>Exited</th>\n",
       "    </tr>\n",
       "  </thead>\n",
       "  <tbody>\n",
       "    <tr>\n",
       "      <td>8990</td>\n",
       "      <td>8991</td>\n",
       "      <td>15729065</td>\n",
       "      <td>Mackay</td>\n",
       "      <td>784</td>\n",
       "      <td>Germany</td>\n",
       "      <td>Male</td>\n",
       "      <td>28</td>\n",
       "      <td>2</td>\n",
       "      <td>109960.06</td>\n",
       "      <td>2</td>\n",
       "      <td>1</td>\n",
       "      <td>1</td>\n",
       "      <td>170829.87</td>\n",
       "      <td>0</td>\n",
       "    </tr>\n",
       "    <tr>\n",
       "      <td>2026</td>\n",
       "      <td>2027</td>\n",
       "      <td>15603088</td>\n",
       "      <td>Rossi</td>\n",
       "      <td>451</td>\n",
       "      <td>Spain</td>\n",
       "      <td>Female</td>\n",
       "      <td>23</td>\n",
       "      <td>9</td>\n",
       "      <td>0.00</td>\n",
       "      <td>2</td>\n",
       "      <td>0</td>\n",
       "      <td>1</td>\n",
       "      <td>48021.71</td>\n",
       "      <td>0</td>\n",
       "    </tr>\n",
       "    <tr>\n",
       "      <td>104</td>\n",
       "      <td>105</td>\n",
       "      <td>15804919</td>\n",
       "      <td>Dunbabin</td>\n",
       "      <td>670</td>\n",
       "      <td>Spain</td>\n",
       "      <td>Female</td>\n",
       "      <td>65</td>\n",
       "      <td>1</td>\n",
       "      <td>0.00</td>\n",
       "      <td>1</td>\n",
       "      <td>1</td>\n",
       "      <td>1</td>\n",
       "      <td>177655.68</td>\n",
       "      <td>1</td>\n",
       "    </tr>\n",
       "    <tr>\n",
       "      <td>404</td>\n",
       "      <td>405</td>\n",
       "      <td>15642291</td>\n",
       "      <td>Fontaine</td>\n",
       "      <td>685</td>\n",
       "      <td>France</td>\n",
       "      <td>Male</td>\n",
       "      <td>23</td>\n",
       "      <td>8</td>\n",
       "      <td>0.00</td>\n",
       "      <td>2</td>\n",
       "      <td>1</td>\n",
       "      <td>1</td>\n",
       "      <td>112239.03</td>\n",
       "      <td>0</td>\n",
       "    </tr>\n",
       "    <tr>\n",
       "      <td>6701</td>\n",
       "      <td>6702</td>\n",
       "      <td>15629390</td>\n",
       "      <td>Liao</td>\n",
       "      <td>653</td>\n",
       "      <td>France</td>\n",
       "      <td>Male</td>\n",
       "      <td>37</td>\n",
       "      <td>7</td>\n",
       "      <td>135847.47</td>\n",
       "      <td>1</td>\n",
       "      <td>1</td>\n",
       "      <td>0</td>\n",
       "      <td>144880.81</td>\n",
       "      <td>0</td>\n",
       "    </tr>\n",
       "    <tr>\n",
       "      <td>5530</td>\n",
       "      <td>5531</td>\n",
       "      <td>15736043</td>\n",
       "      <td>Hamilton</td>\n",
       "      <td>638</td>\n",
       "      <td>France</td>\n",
       "      <td>Male</td>\n",
       "      <td>34</td>\n",
       "      <td>6</td>\n",
       "      <td>114543.27</td>\n",
       "      <td>1</td>\n",
       "      <td>1</td>\n",
       "      <td>1</td>\n",
       "      <td>97755.29</td>\n",
       "      <td>0</td>\n",
       "    </tr>\n",
       "    <tr>\n",
       "      <td>8690</td>\n",
       "      <td>8691</td>\n",
       "      <td>15756167</td>\n",
       "      <td>Doyne</td>\n",
       "      <td>762</td>\n",
       "      <td>Spain</td>\n",
       "      <td>Female</td>\n",
       "      <td>43</td>\n",
       "      <td>5</td>\n",
       "      <td>134204.67</td>\n",
       "      <td>1</td>\n",
       "      <td>1</td>\n",
       "      <td>1</td>\n",
       "      <td>139971.01</td>\n",
       "      <td>0</td>\n",
       "    </tr>\n",
       "    <tr>\n",
       "      <td>6847</td>\n",
       "      <td>6848</td>\n",
       "      <td>15809462</td>\n",
       "      <td>Polyakova</td>\n",
       "      <td>656</td>\n",
       "      <td>France</td>\n",
       "      <td>Male</td>\n",
       "      <td>30</td>\n",
       "      <td>3</td>\n",
       "      <td>0.00</td>\n",
       "      <td>2</td>\n",
       "      <td>0</td>\n",
       "      <td>1</td>\n",
       "      <td>17104.00</td>\n",
       "      <td>0</td>\n",
       "    </tr>\n",
       "    <tr>\n",
       "      <td>829</td>\n",
       "      <td>830</td>\n",
       "      <td>15639788</td>\n",
       "      <td>Yuan</td>\n",
       "      <td>577</td>\n",
       "      <td>France</td>\n",
       "      <td>Female</td>\n",
       "      <td>39</td>\n",
       "      <td>10</td>\n",
       "      <td>0.00</td>\n",
       "      <td>2</td>\n",
       "      <td>1</td>\n",
       "      <td>0</td>\n",
       "      <td>10553.31</td>\n",
       "      <td>0</td>\n",
       "    </tr>\n",
       "    <tr>\n",
       "      <td>1718</td>\n",
       "      <td>1719</td>\n",
       "      <td>15762745</td>\n",
       "      <td>Macvitie</td>\n",
       "      <td>648</td>\n",
       "      <td>Spain</td>\n",
       "      <td>Male</td>\n",
       "      <td>32</td>\n",
       "      <td>8</td>\n",
       "      <td>0.00</td>\n",
       "      <td>1</td>\n",
       "      <td>1</td>\n",
       "      <td>0</td>\n",
       "      <td>133653.38</td>\n",
       "      <td>0</td>\n",
       "    </tr>\n",
       "  </tbody>\n",
       "</table>\n",
       "</div>"
      ],
      "text/plain": [
       "      RowNumber  CustomerId    Surname  CreditScore Geography  Gender  Age  \\\n",
       "8990       8991    15729065     Mackay          784   Germany    Male   28   \n",
       "2026       2027    15603088      Rossi          451     Spain  Female   23   \n",
       "104         105    15804919   Dunbabin          670     Spain  Female   65   \n",
       "404         405    15642291   Fontaine          685    France    Male   23   \n",
       "6701       6702    15629390       Liao          653    France    Male   37   \n",
       "5530       5531    15736043   Hamilton          638    France    Male   34   \n",
       "8690       8691    15756167      Doyne          762     Spain  Female   43   \n",
       "6847       6848    15809462  Polyakova          656    France    Male   30   \n",
       "829         830    15639788       Yuan          577    France  Female   39   \n",
       "1718       1719    15762745   Macvitie          648     Spain    Male   32   \n",
       "\n",
       "      Tenure    Balance  NumOfProducts  HasCrCard  IsActiveMember  \\\n",
       "8990       2  109960.06              2          1               1   \n",
       "2026       9       0.00              2          0               1   \n",
       "104        1       0.00              1          1               1   \n",
       "404        8       0.00              2          1               1   \n",
       "6701       7  135847.47              1          1               0   \n",
       "5530       6  114543.27              1          1               1   \n",
       "8690       5  134204.67              1          1               1   \n",
       "6847       3       0.00              2          0               1   \n",
       "829       10       0.00              2          1               0   \n",
       "1718       8       0.00              1          1               0   \n",
       "\n",
       "      EstimatedSalary  Exited  \n",
       "8990        170829.87       0  \n",
       "2026         48021.71       0  \n",
       "104         177655.68       1  \n",
       "404         112239.03       0  \n",
       "6701        144880.81       0  \n",
       "5530         97755.29       0  \n",
       "8690        139971.01       0  \n",
       "6847         17104.00       0  \n",
       "829          10553.31       0  \n",
       "1718        133653.38       0  "
      ]
     },
     "execution_count": 14,
     "metadata": {},
     "output_type": "execute_result"
    }
   ],
   "source": [
    "#The data is not much correlated."
   ]
  },
  {
   "cell_type": "code",
   "execution_count": 15,
   "metadata": {},
   "outputs": [],
   "source": [
    "#Checking how many people are from which countries ... who exited or not "
   ]
  },
  {
   "cell_type": "code",
   "execution_count": 17,
   "metadata": {},
   "outputs": [
    {
     "data": {
      "text/plain": [
       "<matplotlib.axes._subplots.AxesSubplot at 0x24c71804da0>"
      ]
     },
     "execution_count": 17,
     "metadata": {},
     "output_type": "execute_result"
    },
    {
     "data": {
      "image/png": "[encoded data removed]",
      "text/plain": [
       "<Figure size 432x288 with 1 Axes>"
      ]
     },
     "metadata": {
      "needs_background": "light"
     },
     "output_type": "display_data"
    }
   ],
   "source": [
    "sns.countplot(x=\"Geography\", data=data,hue=\"Exited\")"
   ]
  },
  {
   "cell_type": "code",
   "execution_count": null,
   "metadata": {},
   "outputs": [],
   "source": [
    "#Insight --- People in france generally do not exit \n",
    "# germany --- high ratio of ppl exit\n"
   ]
  },
  {
   "cell_type": "code",
   "execution_count": 18,
   "metadata": {},
   "outputs": [],
   "source": [
    "#Removing CustomerId, RowNumber and Surname. Removing Surname is basically because One Hot Encoding will behave unusual if this column is retained(give error"
   ]
  },
  {
   "cell_type": "code",
   "execution_count": 47,
   "metadata": {},
   "outputs": [],
   "source": [
    "newData = data.drop(['RowNumber', 'CustomerId', 'Surname'], axis =1)"
   ]
  },
  {
   "cell_type": "code",
   "execution_count": 48,
   "metadata": {},
   "outputs": [
    {
     "data": {
      "text/html": [
       "<div>\n",
       "<style scoped>\n",
       "    .dataframe tbody tr th:only-of-type {\n",
       "        vertical-align: middle;\n",
       "    }\n",
       "\n",
       "    .dataframe tbody tr th {\n",
       "        vertical-align: top;\n",
       "    }\n",
       "\n",
       "    .dataframe thead th {\n",
       "        text-align: right;\n",
       "    }\n",
       "</style>\n",
       "<table border=\"1\" class=\"dataframe\">\n",
       "  <thead>\n",
       "    <tr style=\"text-align: right;\">\n",
       "      <th></th>\n",
       "      <th>CreditScore</th>\n",
       "      <th>Geography</th>\n",
       "      <th>Gender</th>\n",
       "      <th>Age</th>\n",
       "      <th>Tenure</th>\n",
       "      <th>Balance</th>\n",
       "      <th>NumOfProducts</th>\n",
       "      <th>HasCrCard</th>\n",
       "      <th>IsActiveMember</th>\n",
       "      <th>EstimatedSalary</th>\n",
       "      <th>Exited</th>\n",
       "    </tr>\n",
       "  </thead>\n",
       "  <tbody>\n",
       "    <tr>\n",
       "      <td>0</td>\n",
       "      <td>619</td>\n",
       "      <td>France</td>\n",
       "      <td>Female</td>\n",
       "      <td>42</td>\n",
       "      <td>2</td>\n",
       "      <td>0.00</td>\n",
       "      <td>1</td>\n",
       "      <td>1</td>\n",
       "      <td>1</td>\n",
       "      <td>101348.88</td>\n",
       "      <td>1</td>\n",
       "    </tr>\n",
       "    <tr>\n",
       "      <td>1</td>\n",
       "      <td>608</td>\n",
       "      <td>Spain</td>\n",
       "      <td>Female</td>\n",
       "      <td>41</td>\n",
       "      <td>1</td>\n",
       "      <td>83807.86</td>\n",
       "      <td>1</td>\n",
       "      <td>0</td>\n",
       "      <td>1</td>\n",
       "      <td>112542.58</td>\n",
       "      <td>0</td>\n",
       "    </tr>\n",
       "    <tr>\n",
       "      <td>2</td>\n",
       "      <td>502</td>\n",
       "      <td>France</td>\n",
       "      <td>Female</td>\n",
       "      <td>42</td>\n",
       "      <td>8</td>\n",
       "      <td>159660.80</td>\n",
       "      <td>3</td>\n",
       "      <td>1</td>\n",
       "      <td>0</td>\n",
       "      <td>113931.57</td>\n",
       "      <td>1</td>\n",
       "    </tr>\n",
       "    <tr>\n",
       "      <td>3</td>\n",
       "      <td>699</td>\n",
       "      <td>France</td>\n",
       "      <td>Female</td>\n",
       "      <td>39</td>\n",
       "      <td>1</td>\n",
       "      <td>0.00</td>\n",
       "      <td>2</td>\n",
       "      <td>0</td>\n",
       "      <td>0</td>\n",
       "      <td>93826.63</td>\n",
       "      <td>0</td>\n",
       "    </tr>\n",
       "    <tr>\n",
       "      <td>4</td>\n",
       "      <td>850</td>\n",
       "      <td>Spain</td>\n",
       "      <td>Female</td>\n",
       "      <td>43</td>\n",
       "      <td>2</td>\n",
       "      <td>125510.82</td>\n",
       "      <td>1</td>\n",
       "      <td>1</td>\n",
       "      <td>1</td>\n",
       "      <td>79084.10</td>\n",
       "      <td>0</td>\n",
       "    </tr>\n",
       "  </tbody>\n",
       "</table>\n",
       "</div>"
      ],
      "text/plain": [
       "   CreditScore Geography  Gender  Age  Tenure    Balance  NumOfProducts  \\\n",
       "0          619    France  Female   42       2       0.00              1   \n",
       "1          608     Spain  Female   41       1   83807.86              1   \n",
       "2          502    France  Female   42       8  159660.80              3   \n",
       "3          699    France  Female   39       1       0.00              2   \n",
       "4          850     Spain  Female   43       2  125510.82              1   \n",
       "\n",
       "   HasCrCard  IsActiveMember  EstimatedSalary  Exited  \n",
       "0          1               1        101348.88       1  \n",
       "1          0               1        112542.58       0  \n",
       "2          1               0        113931.57       1  \n",
       "3          0               0         93826.63       0  \n",
       "4          1               1         79084.10       0  "
      ]
     },
     "execution_count": 48,
     "metadata": {},
     "output_type": "execute_result"
    }
   ],
   "source": [
    "newData.head()"
   ]
  },
  {
   "cell_type": "code",
   "execution_count": 23,
   "metadata": {},
   "outputs": [
    {
     "data": {
      "image/png": "[encoded data removed]",
      "text/plain": [
       "<Figure size 432x288 with 1 Axes>"
      ]
     },
     "metadata": {
      "needs_background": "light"
     },
     "output_type": "display_data"
    },
    {
     "data": {
      "image/png": "[encoded data removed]",
      "text/plain": [
       "<Figure size 432x288 with 1 Axes>"
      ]
     },
     "metadata": {
      "needs_background": "light"
     },
     "output_type": "display_data"
    },
    {
     "data": {
      "image/png": "[encoded data removed]",
      "text/plain": [
       "<Figure size 432x288 with 1 Axes>"
      ]
     },
     "metadata": {
      "needs_background": "light"
     },
     "output_type": "display_data"
    },
    {
     "data": {
      "image/png": "[encoded data removed]",
      "text/plain": [
       "<Figure size 432x288 with 1 Axes>"
      ]
     },
     "metadata": {
      "needs_background": "light"
     },
     "output_type": "display_data"
    },
    {
     "data": {
      "image/png": "[encoded data removed]",
      "text/plain": [
       "<Figure size 432x288 with 1 Axes>"
      ]
     },
     "metadata": {
      "needs_background": "light"
     },
     "output_type": "display_data"
    }
   ],
   "source": [
    "numerical_distribution = ['CreditScore', 'Age', 'Tenure', 'Balance', 'EstimatedSalary']\n",
    "for i in numerical_distribution:\n",
    "    plt.hist(newData[i])\n",
    "    plt.title(i)\n",
    "    plt.show()"
   ]
  },
  {
   "cell_type": "code",
   "execution_count": 49,
   "metadata": {},
   "outputs": [
    {
     "data": {
      "text/plain": [
       "CreditScore        False\n",
       "Geography           True\n",
       "Gender              True\n",
       "Age                False\n",
       "Tenure             False\n",
       "Balance            False\n",
       "NumOfProducts      False\n",
       "HasCrCard          False\n",
       "IsActiveMember     False\n",
       "EstimatedSalary    False\n",
       "Exited             False\n",
       "dtype: bool"
      ]
     },
     "execution_count": 49,
     "metadata": {},
     "output_type": "execute_result"
    }
   ],
   "source": [
    "## Label Encoding of all the columns\n",
    "# instantiate labelencoder object\n",
    "le = LabelEncoder()\n",
    "\n",
    "# Categorical boolean mask\n",
    "categorical_feature_mask = bank_data_new.dtypes==object\n",
    "categorical_feature_mask"
   ]
  },
  {
   "cell_type": "code",
   "execution_count": 50,
   "metadata": {},
   "outputs": [],
   "source": [
    "# filter categorical columns using mask and turn it into a list\n",
    "categorical_cols = newData.columns[categorical_feature_mask].tolist()"
   ]
  },
  {
   "cell_type": "code",
   "execution_count": 51,
   "metadata": {},
   "outputs": [
    {
     "data": {
      "text/plain": [
       "['Geography', 'Gender']"
      ]
     },
     "execution_count": 51,
     "metadata": {},
     "output_type": "execute_result"
    }
   ],
   "source": [
    "categorical_cols"
   ]
  },
  {
   "cell_type": "code",
   "execution_count": 52,
   "metadata": {},
   "outputs": [
    {
     "name": "stdout",
     "output_type": "stream",
     "text": [
      "<class 'pandas.core.frame.DataFrame'>\n",
      "RangeIndex: 10000 entries, 0 to 9999\n",
      "Data columns (total 11 columns):\n",
      "CreditScore        10000 non-null int64\n",
      "Geography          10000 non-null int32\n",
      "Gender             10000 non-null int32\n",
      "Age                10000 non-null int64\n",
      "Tenure             10000 non-null int64\n",
      "Balance            10000 non-null float64\n",
      "NumOfProducts      10000 non-null int64\n",
      "HasCrCard          10000 non-null int64\n",
      "IsActiveMember     10000 non-null int64\n",
      "EstimatedSalary    10000 non-null float64\n",
      "Exited             10000 non-null int64\n",
      "dtypes: float64(2), int32(2), int64(7)\n",
      "memory usage: 781.4 KB\n",
      "None\n"
     ]
    }
   ],
   "source": [
    "newData[categorical_cols] = newData[categorical_cols].apply(lambda col: le.fit_transform(col))\n",
    "print(newData.info())"
   ]
  },
  {
   "cell_type": "code",
   "execution_count": 53,
   "metadata": {},
   "outputs": [
    {
     "name": "stdout",
     "output_type": "stream",
     "text": [
      "[1 0 1 ... 1 1 0]\n",
      "[[-0.90188624 -1.09598752  0.29351742 ...  0.64609167  0.97024255\n",
      "   0.02188649]\n",
      " [ 1.51506738 -1.09598752  0.19816383 ... -1.54776799  0.97024255\n",
      "   0.21653375]\n",
      " [-0.90188624 -1.09598752  0.29351742 ...  0.64609167 -1.03067011\n",
      "   0.2406869 ]\n",
      " ...\n",
      " [-0.90188624 -1.09598752 -0.27860412 ... -1.54776799  0.97024255\n",
      "  -1.00864308]\n",
      " [ 0.30659057  0.91241915  0.29351742 ...  0.64609167 -1.03067011\n",
      "  -0.12523071]\n",
      " [-0.90188624 -1.09598752 -1.04143285 ...  0.64609167 -1.03067011\n",
      "  -1.07636976]]\n"
     ]
    }
   ],
   "source": [
    "df_scaled = newData.apply(zscore)\n",
    "X_columns =  df_scaled.columns.tolist()[1:10]\n",
    "Y_Columns = newData.columns.tolist()[-1:]\n",
    "\n",
    "X = df_scaled[X_columns].values\n",
    "y = np.array(newData['Exited']) # Exited\n",
    "\n",
    "print(y)\n",
    "print(X)"
   ]
  },
  {
   "cell_type": "code",
   "execution_count": 54,
   "metadata": {},
   "outputs": [],
   "source": [
    "#splitting the dataset into training and test set\n",
    "X_train, X_test, y_train, y_test = train_test_split(X,y, test_size=0.2, random_state= 8)\n"
   ]
  },
  {
   "cell_type": "code",
   "execution_count": 55,
   "metadata": {},
   "outputs": [
    {
     "data": {
      "text/plain": [
       "(8000, 9)"
      ]
     },
     "execution_count": 55,
     "metadata": {},
     "output_type": "execute_result"
    }
   ],
   "source": [
    "X_train.shape"
   ]
  },
  {
   "cell_type": "code",
   "execution_count": 56,
   "metadata": {},
   "outputs": [],
   "source": [
    "#Encoding the output class label (One-Hot Encoding)\n",
    "y_train=to_categorical(y_train,2)\n",
    "y_test=to_categorical(y_test,2)"
   ]
  },
  {
   "cell_type": "code",
   "execution_count": 57,
   "metadata": {},
   "outputs": [
    {
     "name": "stdout",
     "output_type": "stream",
     "text": [
      "[[-0.32660661  0.33042097  0.41707339 ...  0.23397387  0.35136098\n",
      "   0.45409568]\n",
      " [ 0.41088162 -0.29722845 -0.04969698 ... -0.41974993  0.2631268\n",
      "  -0.26355289]\n",
      " [-0.26269006 -0.31922543 -0.30333543 ... -0.45081435  0.28260002\n",
      "  -0.48071808]\n",
      " ...\n",
      " [ 0.52973741  0.31902381  0.06928721 ...  0.22590344 -0.3603698\n",
      "   0.19493733]\n",
      " [ 0.11730923  0.34911441 -0.17957026 ... -0.59221479 -0.39436019\n",
      "  -0.28109801]\n",
      " [ 0.09429018  0.28060932 -0.05635766 ... -0.47600724  0.29839258\n",
      "   0.53266892]]\n"
     ]
    }
   ],
   "source": [
    "#Normalize the data\n",
    "from sklearn.preprocessing import Normalizer\n",
    "normalize=Normalizer(norm=\"l2\")\n",
    "X_train=normalize.transform(X_train)\n",
    "\n",
    "print(X_train)"
   ]
  },
  {
   "cell_type": "code",
   "execution_count": 58,
   "metadata": {},
   "outputs": [
    {
     "name": "stdout",
     "output_type": "stream",
     "text": [
      "[[ 0.11961429 -0.42759232  0.63533595 ...  0.25206841  0.37853375\n",
      "  -0.13253872]\n",
      " [ 0.10480879 -0.3746662   0.58929281 ...  0.22086812  0.33167995\n",
      "   0.1222605 ]\n",
      " [ 0.50531507 -0.36554085 -0.15652774 ...  0.21548867 -0.34375576\n",
      "   0.41137911]\n",
      " ...\n",
      " [ 0.11278809  0.33565943 -0.2077281  ...  0.23768326 -0.37916142\n",
      "   0.59518817]\n",
      " [-0.3643766   0.36863206  0.08006139 ...  0.26103146 -0.41640736\n",
      "   0.22923692]\n",
      " [-0.30802696  0.31162433 -0.09515344 ...  0.22066381 -0.35201134\n",
      "   0.35994045]]\n"
     ]
    }
   ],
   "source": [
    "X_test=normalize.transform(X_test)\n",
    "print(X_test)"
   ]
  },
  {
   "cell_type": "code",
   "execution_count": 59,
   "metadata": {},
   "outputs": [],
   "source": [
    "#Initialize Sequential Graph (model)\n",
    "model = tf.keras.Sequential()"
   ]
  },
  {
   "cell_type": "code",
   "execution_count": 60,
   "metadata": {},
   "outputs": [],
   "source": [
    "model.add(Dense(units=6, activation='relu', input_shape=(9,)))\n",
    "model.add(Dense(20, activation='relu'))\n",
    "model.add(Dense(2, activation='softmax'))"
   ]
  },
  {
   "cell_type": "code",
   "execution_count": 61,
   "metadata": {},
   "outputs": [
    {
     "name": "stdout",
     "output_type": "stream",
     "text": [
      "_________________________________________________________________\n",
      "Layer (type)                 Output Shape              Param #   \n",
      "=================================================================\n",
      "dense_3 (Dense)              (None, 6)                 60        \n",
      "_________________________________________________________________\n",
      "dense_4 (Dense)              (None, 20)                140       \n",
      "_________________________________________________________________\n",
      "dense_5 (Dense)              (None, 2)                 42        \n",
      "=================================================================\n",
      "Total params: 242\n",
      "Trainable params: 242\n",
      "Non-trainable params: 0\n",
      "_________________________________________________________________\n"
     ]
    }
   ],
   "source": [
    "model.compile(optimizer='adam', loss='binary_crossentropy',metrics=['accuracy'])\n",
    "model.summary()"
   ]
  },
  {
   "cell_type": "code",
   "execution_count": 62,
   "metadata": {},
   "outputs": [
    {
     "name": "stdout",
     "output_type": "stream",
     "text": [
      "(8000, 9)\n",
      "(8000, 2)\n"
     ]
    }
   ],
   "source": [
    "print(X_train.shape)\n",
    "print(y_train.shape)"
   ]
  },
  {
   "cell_type": "code",
   "execution_count": 63,
   "metadata": {},
   "outputs": [
    {
     "name": "stdout",
     "output_type": "stream",
     "text": [
      "Train on 8000 samples, validate on 2000 samples\n",
      "Epoch 1/200\n",
      "8000/8000 [==============================] - 1s 93us/sample - loss: 0.5515 - acc: 0.7886 - val_loss: 0.4843 - val_acc: 0.7935\n",
      "Epoch 2/200\n",
      "8000/8000 [==============================] - 0s 48us/sample - loss: 0.4693 - acc: 0.7970 - val_loss: 0.4478 - val_acc: 0.7935\n",
      "Epoch 3/200\n",
      "8000/8000 [==============================] - 0s 52us/sample - loss: 0.4419 - acc: 0.8008 - val_loss: 0.4257 - val_acc: 0.8035\n",
      "Epoch 4/200\n",
      "8000/8000 [==============================] - 0s 41us/sample - loss: 0.4307 - acc: 0.8111 - val_loss: 0.4210 - val_acc: 0.8100\n",
      "Epoch 5/200\n",
      "8000/8000 [==============================] - 0s 42us/sample - loss: 0.4267 - acc: 0.8155 - val_loss: 0.4158 - val_acc: 0.8140\n",
      "Epoch 6/200\n",
      "8000/8000 [==============================] - 0s 45us/sample - loss: 0.4236 - acc: 0.8194 - val_loss: 0.4125 - val_acc: 0.8155\n",
      "Epoch 7/200\n",
      "8000/8000 [==============================] - 0s 48us/sample - loss: 0.4212 - acc: 0.8205 - val_loss: 0.4104 - val_acc: 0.8195\n",
      "Epoch 8/200\n",
      "8000/8000 [==============================] - 0s 48us/sample - loss: 0.4193 - acc: 0.8225 - val_loss: 0.4087 - val_acc: 0.8205\n",
      "Epoch 9/200\n",
      "8000/8000 [==============================] - 1s 86us/sample - loss: 0.4174 - acc: 0.8230 - val_loss: 0.4071 - val_acc: 0.8235\n",
      "Epoch 10/200\n",
      "8000/8000 [==============================] - 1s 73us/sample - loss: 0.4154 - acc: 0.8242 - val_loss: 0.4062 - val_acc: 0.8260\n",
      "Epoch 11/200\n",
      "8000/8000 [==============================] - 0s 54us/sample - loss: 0.4137 - acc: 0.8251 - val_loss: 0.4035 - val_acc: 0.8285\n",
      "Epoch 12/200\n",
      "8000/8000 [==============================] - 0s 51us/sample - loss: 0.4122 - acc: 0.8270 - val_loss: 0.4020 - val_acc: 0.8270\n",
      "Epoch 13/200\n",
      "8000/8000 [==============================] - 0s 46us/sample - loss: 0.4108 - acc: 0.8248 - val_loss: 0.4020 - val_acc: 0.8290\n",
      "Epoch 14/200\n",
      "8000/8000 [==============================] - 0s 49us/sample - loss: 0.4095 - acc: 0.8282 - val_loss: 0.3993 - val_acc: 0.8340\n",
      "Epoch 15/200\n",
      "8000/8000 [==============================] - 1s 65us/sample - loss: 0.4083 - acc: 0.8290 - val_loss: 0.3978 - val_acc: 0.8325\n",
      "Epoch 16/200\n",
      "8000/8000 [==============================] - 0s 55us/sample - loss: 0.4075 - acc: 0.8313 - val_loss: 0.3962 - val_acc: 0.8325\n",
      "Epoch 17/200\n",
      "8000/8000 [==============================] - 0s 42us/sample - loss: 0.4064 - acc: 0.8298 - val_loss: 0.3958 - val_acc: 0.8335\n",
      "Epoch 18/200\n",
      "8000/8000 [==============================] - 0s 44us/sample - loss: 0.4055 - acc: 0.8309 - val_loss: 0.3964 - val_acc: 0.8300\n",
      "Epoch 19/200\n",
      "8000/8000 [==============================] - 0s 42us/sample - loss: 0.4046 - acc: 0.8292 - val_loss: 0.3931 - val_acc: 0.8335\n",
      "Epoch 20/200\n",
      "8000/8000 [==============================] - 0s 46us/sample - loss: 0.4035 - acc: 0.8315 - val_loss: 0.3930 - val_acc: 0.8325\n",
      "Epoch 21/200\n",
      "8000/8000 [==============================] - 0s 62us/sample - loss: 0.4029 - acc: 0.8317 - val_loss: 0.3925 - val_acc: 0.8320\n",
      "Epoch 22/200\n",
      "8000/8000 [==============================] - 1s 82us/sample - loss: 0.4020 - acc: 0.8324 - val_loss: 0.3915 - val_acc: 0.8345\n",
      "Epoch 23/200\n",
      "8000/8000 [==============================] - 1s 92us/sample - loss: 0.4010 - acc: 0.8346 - val_loss: 0.3905 - val_acc: 0.8335\n",
      "Epoch 24/200\n",
      "8000/8000 [==============================] - 0s 60us/sample - loss: 0.4008 - acc: 0.8326 - val_loss: 0.3908 - val_acc: 0.8355\n",
      "Epoch 25/200\n",
      "8000/8000 [==============================] - 0s 43us/sample - loss: 0.3998 - acc: 0.8334 - val_loss: 0.3904 - val_acc: 0.8340\n",
      "Epoch 26/200\n",
      "8000/8000 [==============================] - 0s 38us/sample - loss: 0.3991 - acc: 0.8344 - val_loss: 0.3904 - val_acc: 0.8335\n",
      "Epoch 27/200\n",
      "8000/8000 [==============================] - 0s 47us/sample - loss: 0.3989 - acc: 0.8341 - val_loss: 0.3888 - val_acc: 0.8335\n",
      "Epoch 28/200\n",
      "8000/8000 [==============================] - 0s 50us/sample - loss: 0.3981 - acc: 0.8347 - val_loss: 0.3897 - val_acc: 0.8355\n",
      "Epoch 29/200\n",
      "8000/8000 [==============================] - 0s 48us/sample - loss: 0.3973 - acc: 0.8335 - val_loss: 0.3893 - val_acc: 0.8325\n",
      "Epoch 30/200\n",
      "8000/8000 [==============================] - 0s 50us/sample - loss: 0.3969 - acc: 0.8339 - val_loss: 0.3878 - val_acc: 0.8340\n",
      "Epoch 31/200\n",
      "8000/8000 [==============================] - 0s 51us/sample - loss: 0.3966 - acc: 0.8351 - val_loss: 0.3876 - val_acc: 0.8330\n",
      "Epoch 32/200\n",
      "8000/8000 [==============================] - 0s 51us/sample - loss: 0.3960 - acc: 0.8346 - val_loss: 0.3874 - val_acc: 0.8330\n",
      "Epoch 33/200\n",
      "8000/8000 [==============================] - 0s 37us/sample - loss: 0.3954 - acc: 0.8359 - val_loss: 0.3866 - val_acc: 0.8340\n",
      "Epoch 34/200\n",
      "8000/8000 [==============================] - 0s 49us/sample - loss: 0.3946 - acc: 0.8353 - val_loss: 0.3862 - val_acc: 0.8350\n",
      "Epoch 35/200\n",
      "8000/8000 [==============================] - 0s 47us/sample - loss: 0.3939 - acc: 0.8354 - val_loss: 0.3868 - val_acc: 0.8330\n",
      "Epoch 36/200\n",
      "8000/8000 [==============================] - 0s 52us/sample - loss: 0.3938 - acc: 0.8349 - val_loss: 0.3855 - val_acc: 0.8370\n",
      "Epoch 37/200\n",
      "8000/8000 [==============================] - 1s 85us/sample - loss: 0.3932 - acc: 0.8354 - val_loss: 0.3859 - val_acc: 0.8335\n",
      "Epoch 38/200\n",
      "8000/8000 [==============================] - 1s 64us/sample - loss: 0.3925 - acc: 0.8357 - val_loss: 0.3845 - val_acc: 0.8340\n",
      "Epoch 39/200\n",
      "8000/8000 [==============================] - 0s 52us/sample - loss: 0.3914 - acc: 0.8374 - val_loss: 0.3842 - val_acc: 0.8340\n",
      "Epoch 40/200\n",
      "8000/8000 [==============================] - 0s 48us/sample - loss: 0.3904 - acc: 0.8375 - val_loss: 0.3841 - val_acc: 0.8325\n",
      "Epoch 41/200\n",
      "8000/8000 [==============================] - 0s 55us/sample - loss: 0.3895 - acc: 0.8371 - val_loss: 0.3832 - val_acc: 0.8330\n",
      "Epoch 42/200\n",
      "8000/8000 [==============================] - 0s 45us/sample - loss: 0.3886 - acc: 0.8374 - val_loss: 0.3857 - val_acc: 0.8355\n",
      "Epoch 43/200\n",
      "8000/8000 [==============================] - 0s 52us/sample - loss: 0.3879 - acc: 0.8381 - val_loss: 0.3829 - val_acc: 0.8370\n",
      "Epoch 44/200\n",
      "8000/8000 [==============================] - 0s 49us/sample - loss: 0.3868 - acc: 0.8388 - val_loss: 0.3821 - val_acc: 0.8355\n",
      "Epoch 45/200\n",
      "8000/8000 [==============================] - 0s 51us/sample - loss: 0.3864 - acc: 0.8386 - val_loss: 0.3829 - val_acc: 0.8355\n",
      "Epoch 46/200\n",
      "8000/8000 [==============================] - 0s 50us/sample - loss: 0.3851 - acc: 0.8390 - val_loss: 0.3808 - val_acc: 0.8385\n",
      "Epoch 47/200\n",
      "8000/8000 [==============================] - 0s 48us/sample - loss: 0.3843 - acc: 0.8391 - val_loss: 0.3800 - val_acc: 0.8380\n",
      "Epoch 48/200\n",
      "8000/8000 [==============================] - 0s 48us/sample - loss: 0.3830 - acc: 0.8390 - val_loss: 0.3799 - val_acc: 0.8395\n",
      "Epoch 49/200\n",
      "8000/8000 [==============================] - 0s 50us/sample - loss: 0.3818 - acc: 0.8405 - val_loss: 0.3787 - val_acc: 0.8410\n",
      "Epoch 50/200\n",
      "8000/8000 [==============================] - 0s 54us/sample - loss: 0.3815 - acc: 0.8397 - val_loss: 0.3777 - val_acc: 0.8400\n",
      "Epoch 51/200\n",
      "8000/8000 [==============================] - 1s 82us/sample - loss: 0.3797 - acc: 0.8405 - val_loss: 0.3779 - val_acc: 0.8405\n",
      "Epoch 52/200\n",
      "8000/8000 [==============================] - 0s 56us/sample - loss: 0.3789 - acc: 0.8425 - val_loss: 0.3771 - val_acc: 0.8440\n",
      "Epoch 53/200\n",
      "8000/8000 [==============================] - 0s 46us/sample - loss: 0.3779 - acc: 0.8428 - val_loss: 0.3754 - val_acc: 0.8440\n",
      "Epoch 54/200\n",
      "8000/8000 [==============================] - 0s 46us/sample - loss: 0.3764 - acc: 0.8426 - val_loss: 0.3740 - val_acc: 0.8435\n",
      "Epoch 55/200\n",
      "8000/8000 [==============================] - 0s 47us/sample - loss: 0.3757 - acc: 0.8443 - val_loss: 0.3740 - val_acc: 0.8460\n",
      "Epoch 56/200\n",
      "8000/8000 [==============================] - 0s 36us/sample - loss: 0.3747 - acc: 0.8445 - val_loss: 0.3739 - val_acc: 0.8465\n",
      "Epoch 57/200\n",
      "8000/8000 [==============================] - 0s 52us/sample - loss: 0.3737 - acc: 0.8438 - val_loss: 0.3726 - val_acc: 0.8445\n",
      "Epoch 58/200\n",
      "8000/8000 [==============================] - 0s 36us/sample - loss: 0.3730 - acc: 0.8454 - val_loss: 0.3720 - val_acc: 0.8465\n",
      "Epoch 59/200\n"
     ]
    },
    {
     "name": "stdout",
     "output_type": "stream",
     "text": [
      "8000/8000 [==============================] - 0s 36us/sample - loss: 0.3728 - acc: 0.8462 - val_loss: 0.3721 - val_acc: 0.8485\n",
      "Epoch 60/200\n",
      "8000/8000 [==============================] - 0s 39us/sample - loss: 0.3711 - acc: 0.8453 - val_loss: 0.3713 - val_acc: 0.8505\n",
      "Epoch 61/200\n",
      "8000/8000 [==============================] - 0s 40us/sample - loss: 0.3704 - acc: 0.8454 - val_loss: 0.3715 - val_acc: 0.8490\n",
      "Epoch 62/200\n",
      "8000/8000 [==============================] - 0s 40us/sample - loss: 0.3698 - acc: 0.8460 - val_loss: 0.3713 - val_acc: 0.8490\n",
      "Epoch 63/200\n",
      "8000/8000 [==============================] - 0s 39us/sample - loss: 0.3689 - acc: 0.8469 - val_loss: 0.3699 - val_acc: 0.8505\n",
      "Epoch 64/200\n",
      "8000/8000 [==============================] - 0s 41us/sample - loss: 0.3680 - acc: 0.8465 - val_loss: 0.3691 - val_acc: 0.8535\n",
      "Epoch 65/200\n",
      "8000/8000 [==============================] - 0s 39us/sample - loss: 0.3674 - acc: 0.8484 - val_loss: 0.3688 - val_acc: 0.8520\n",
      "Epoch 66/200\n",
      "8000/8000 [==============================] - 0s 44us/sample - loss: 0.3661 - acc: 0.8490 - val_loss: 0.3681 - val_acc: 0.8505\n",
      "Epoch 67/200\n",
      "8000/8000 [==============================] - 1s 69us/sample - loss: 0.3653 - acc: 0.8496 - val_loss: 0.3665 - val_acc: 0.8530\n",
      "Epoch 68/200\n",
      "8000/8000 [==============================] - 0s 44us/sample - loss: 0.3645 - acc: 0.8494 - val_loss: 0.3679 - val_acc: 0.8525\n",
      "Epoch 69/200\n",
      "8000/8000 [==============================] - 0s 35us/sample - loss: 0.3636 - acc: 0.8485 - val_loss: 0.3662 - val_acc: 0.8535\n",
      "Epoch 70/200\n",
      "8000/8000 [==============================] - 0s 36us/sample - loss: 0.3631 - acc: 0.8500 - val_loss: 0.3654 - val_acc: 0.8545\n",
      "Epoch 71/200\n",
      "8000/8000 [==============================] - 0s 35us/sample - loss: 0.3621 - acc: 0.8501 - val_loss: 0.3655 - val_acc: 0.8545\n",
      "Epoch 72/200\n",
      "8000/8000 [==============================] - 0s 36us/sample - loss: 0.3615 - acc: 0.8512 - val_loss: 0.3654 - val_acc: 0.8540\n",
      "Epoch 73/200\n",
      "8000/8000 [==============================] - 0s 46us/sample - loss: 0.3607 - acc: 0.8510 - val_loss: 0.3646 - val_acc: 0.8555\n",
      "Epoch 74/200\n",
      "8000/8000 [==============================] - 0s 36us/sample - loss: 0.3602 - acc: 0.8520 - val_loss: 0.3639 - val_acc: 0.8525\n",
      "Epoch 75/200\n",
      "8000/8000 [==============================] - 0s 35us/sample - loss: 0.3593 - acc: 0.8518 - val_loss: 0.3631 - val_acc: 0.8550\n",
      "Epoch 76/200\n",
      "8000/8000 [==============================] - 0s 35us/sample - loss: 0.3583 - acc: 0.8534 - val_loss: 0.3622 - val_acc: 0.8615\n",
      "Epoch 77/200\n",
      "8000/8000 [==============================] - 0s 37us/sample - loss: 0.3575 - acc: 0.8530 - val_loss: 0.3614 - val_acc: 0.8570\n",
      "Epoch 78/200\n",
      "8000/8000 [==============================] - 0s 35us/sample - loss: 0.3568 - acc: 0.8520 - val_loss: 0.3615 - val_acc: 0.8615\n",
      "Epoch 79/200\n",
      "8000/8000 [==============================] - 0s 35us/sample - loss: 0.3559 - acc: 0.8536 - val_loss: 0.3604 - val_acc: 0.8645\n",
      "Epoch 80/200\n",
      "8000/8000 [==============================] - 0s 36us/sample - loss: 0.3547 - acc: 0.8546 - val_loss: 0.3622 - val_acc: 0.8575\n",
      "Epoch 81/200\n",
      "8000/8000 [==============================] - 0s 36us/sample - loss: 0.3543 - acc: 0.8545 - val_loss: 0.3607 - val_acc: 0.8585\n",
      "Epoch 82/200\n",
      "8000/8000 [==============================] - 0s 36us/sample - loss: 0.3537 - acc: 0.8534 - val_loss: 0.3607 - val_acc: 0.8590\n",
      "Epoch 83/200\n",
      "8000/8000 [==============================] - 0s 37us/sample - loss: 0.3530 - acc: 0.8530 - val_loss: 0.3601 - val_acc: 0.8600\n",
      "Epoch 84/200\n",
      "8000/8000 [==============================] - 0s 35us/sample - loss: 0.3525 - acc: 0.8553 - val_loss: 0.3587 - val_acc: 0.8635\n",
      "Epoch 85/200\n",
      "8000/8000 [==============================] - 0s 60us/sample - loss: 0.3522 - acc: 0.8545 - val_loss: 0.3588 - val_acc: 0.8625\n",
      "Epoch 86/200\n",
      "8000/8000 [==============================] - 0s 50us/sample - loss: 0.3511 - acc: 0.8544 - val_loss: 0.3601 - val_acc: 0.8615\n",
      "Epoch 87/200\n",
      "8000/8000 [==============================] - 0s 35us/sample - loss: 0.3514 - acc: 0.8546 - val_loss: 0.3589 - val_acc: 0.8615\n",
      "Epoch 88/200\n",
      "8000/8000 [==============================] - 0s 35us/sample - loss: 0.3507 - acc: 0.8569 - val_loss: 0.3593 - val_acc: 0.8620\n",
      "Epoch 89/200\n",
      "8000/8000 [==============================] - 0s 36us/sample - loss: 0.3501 - acc: 0.8553 - val_loss: 0.3591 - val_acc: 0.8620\n",
      "Epoch 90/200\n",
      "8000/8000 [==============================] - 0s 36us/sample - loss: 0.3498 - acc: 0.8551 - val_loss: 0.3582 - val_acc: 0.8635\n",
      "Epoch 91/200\n",
      "8000/8000 [==============================] - 0s 37us/sample - loss: 0.3494 - acc: 0.8566 - val_loss: 0.3582 - val_acc: 0.8635\n",
      "Epoch 92/200\n",
      "8000/8000 [==============================] - 0s 35us/sample - loss: 0.3491 - acc: 0.8561 - val_loss: 0.3571 - val_acc: 0.8630\n",
      "Epoch 93/200\n",
      "8000/8000 [==============================] - 0s 36us/sample - loss: 0.3486 - acc: 0.8568 - val_loss: 0.3568 - val_acc: 0.8630\n",
      "Epoch 94/200\n",
      "8000/8000 [==============================] - 0s 35us/sample - loss: 0.3486 - acc: 0.8577 - val_loss: 0.3563 - val_acc: 0.8625\n",
      "Epoch 95/200\n",
      "8000/8000 [==============================] - 0s 36us/sample - loss: 0.3481 - acc: 0.8584 - val_loss: 0.3573 - val_acc: 0.8640\n",
      "Epoch 96/200\n",
      "8000/8000 [==============================] - 0s 36us/sample - loss: 0.3473 - acc: 0.8576 - val_loss: 0.3568 - val_acc: 0.8635\n",
      "Epoch 97/200\n",
      "8000/8000 [==============================] - 0s 36us/sample - loss: 0.3473 - acc: 0.8581 - val_loss: 0.3567 - val_acc: 0.8630\n",
      "Epoch 98/200\n",
      "8000/8000 [==============================] - 0s 35us/sample - loss: 0.3469 - acc: 0.8597 - val_loss: 0.3559 - val_acc: 0.8640\n",
      "Epoch 99/200\n",
      "8000/8000 [==============================] - 0s 40us/sample - loss: 0.3462 - acc: 0.8594 - val_loss: 0.3557 - val_acc: 0.8630\n",
      "Epoch 100/200\n",
      "8000/8000 [==============================] - 0s 41us/sample - loss: 0.3463 - acc: 0.8579 - val_loss: 0.3554 - val_acc: 0.8650\n",
      "Epoch 101/200\n",
      "8000/8000 [==============================] - 0s 37us/sample - loss: 0.3461 - acc: 0.8599 - val_loss: 0.3553 - val_acc: 0.8645\n",
      "Epoch 102/200\n",
      "8000/8000 [==============================] - 0s 36us/sample - loss: 0.3457 - acc: 0.8594 - val_loss: 0.3554 - val_acc: 0.8635\n",
      "Epoch 103/200\n",
      "8000/8000 [==============================] - 0s 53us/sample - loss: 0.3453 - acc: 0.8585 - val_loss: 0.3544 - val_acc: 0.8660\n",
      "Epoch 104/200\n",
      "8000/8000 [==============================] - 1s 67us/sample - loss: 0.3453 - acc: 0.8591 - val_loss: 0.3546 - val_acc: 0.8640\n",
      "Epoch 105/200\n",
      "8000/8000 [==============================] - 0s 38us/sample - loss: 0.3450 - acc: 0.8580 - val_loss: 0.3542 - val_acc: 0.8670\n",
      "Epoch 106/200\n",
      "8000/8000 [==============================] - 0s 41us/sample - loss: 0.3447 - acc: 0.8584 - val_loss: 0.3537 - val_acc: 0.8650\n",
      "Epoch 107/200\n",
      "8000/8000 [==============================] - 0s 41us/sample - loss: 0.3442 - acc: 0.8595 - val_loss: 0.3536 - val_acc: 0.8630\n",
      "Epoch 108/200\n",
      "8000/8000 [==============================] - 0s 37us/sample - loss: 0.3440 - acc: 0.8604 - val_loss: 0.3537 - val_acc: 0.8640\n",
      "Epoch 109/200\n",
      "8000/8000 [==============================] - 0s 35us/sample - loss: 0.3438 - acc: 0.8606 - val_loss: 0.3540 - val_acc: 0.8630\n",
      "Epoch 110/200\n",
      "8000/8000 [==============================] - 0s 35us/sample - loss: 0.3437 - acc: 0.8600 - val_loss: 0.3546 - val_acc: 0.8650\n",
      "Epoch 111/200\n",
      "8000/8000 [==============================] - 0s 37us/sample - loss: 0.3433 - acc: 0.8599 - val_loss: 0.3532 - val_acc: 0.8635\n",
      "Epoch 112/200\n",
      "8000/8000 [==============================] - 0s 44us/sample - loss: 0.3439 - acc: 0.8584 - val_loss: 0.3526 - val_acc: 0.8660\n",
      "Epoch 113/200\n",
      "8000/8000 [==============================] - 0s 39us/sample - loss: 0.3429 - acc: 0.8597 - val_loss: 0.3533 - val_acc: 0.8670\n",
      "Epoch 114/200\n",
      "8000/8000 [==============================] - 0s 41us/sample - loss: 0.3428 - acc: 0.8602 - val_loss: 0.3526 - val_acc: 0.8655\n",
      "Epoch 115/200\n",
      "8000/8000 [==============================] - 0s 41us/sample - loss: 0.3428 - acc: 0.8590 - val_loss: 0.3525 - val_acc: 0.8665\n",
      "Epoch 116/200\n",
      "8000/8000 [==============================] - 0s 36us/sample - loss: 0.3427 - acc: 0.8606 - val_loss: 0.3523 - val_acc: 0.8640\n",
      "Epoch 117/200\n",
      "8000/8000 [==============================] - 0s 36us/sample - loss: 0.3422 - acc: 0.8601 - val_loss: 0.3523 - val_acc: 0.8665\n"
     ]
    },
    {
     "name": "stdout",
     "output_type": "stream",
     "text": [
      "Epoch 118/200\n",
      "8000/8000 [==============================] - 0s 40us/sample - loss: 0.3422 - acc: 0.8610 - val_loss: 0.3527 - val_acc: 0.8675\n",
      "Epoch 119/200\n",
      "8000/8000 [==============================] - 0s 37us/sample - loss: 0.3419 - acc: 0.8606 - val_loss: 0.3519 - val_acc: 0.8645\n",
      "Epoch 120/200\n",
      "8000/8000 [==============================] - 0s 53us/sample - loss: 0.3420 - acc: 0.8591 - val_loss: 0.3530 - val_acc: 0.8650\n",
      "Epoch 121/200\n",
      "8000/8000 [==============================] - 1s 72us/sample - loss: 0.3421 - acc: 0.8605 - val_loss: 0.3519 - val_acc: 0.8670\n",
      "Epoch 122/200\n",
      "8000/8000 [==============================] - 0s 42us/sample - loss: 0.3422 - acc: 0.8601 - val_loss: 0.3518 - val_acc: 0.8660\n",
      "Epoch 123/200\n",
      "8000/8000 [==============================] - 0s 36us/sample - loss: 0.3415 - acc: 0.8595 - val_loss: 0.3512 - val_acc: 0.8650\n",
      "Epoch 124/200\n",
      "8000/8000 [==============================] - 0s 43us/sample - loss: 0.3412 - acc: 0.8614 - val_loss: 0.3515 - val_acc: 0.8650\n",
      "Epoch 125/200\n",
      "8000/8000 [==============================] - 0s 46us/sample - loss: 0.3409 - acc: 0.8602 - val_loss: 0.3505 - val_acc: 0.8650\n",
      "Epoch 126/200\n",
      "8000/8000 [==============================] - 0s 39us/sample - loss: 0.3414 - acc: 0.8602 - val_loss: 0.3511 - val_acc: 0.8670\n",
      "Epoch 127/200\n",
      "8000/8000 [==============================] - 0s 37us/sample - loss: 0.3407 - acc: 0.8604 - val_loss: 0.3519 - val_acc: 0.8630\n",
      "Epoch 128/200\n",
      "8000/8000 [==============================] - 0s 43us/sample - loss: 0.3412 - acc: 0.8597 - val_loss: 0.3512 - val_acc: 0.8680\n",
      "Epoch 129/200\n",
      "8000/8000 [==============================] - 0s 42us/sample - loss: 0.3410 - acc: 0.8605 - val_loss: 0.3508 - val_acc: 0.8630\n",
      "Epoch 130/200\n",
      "8000/8000 [==============================] - 0s 41us/sample - loss: 0.3399 - acc: 0.8612 - val_loss: 0.3518 - val_acc: 0.8640\n",
      "Epoch 131/200\n",
      "8000/8000 [==============================] - 0s 41us/sample - loss: 0.3404 - acc: 0.8606 - val_loss: 0.3526 - val_acc: 0.8645\n",
      "Epoch 132/200\n",
      "8000/8000 [==============================] - 0s 36us/sample - loss: 0.3404 - acc: 0.8593 - val_loss: 0.3498 - val_acc: 0.8645\n",
      "Epoch 133/200\n",
      "8000/8000 [==============================] - 0s 35us/sample - loss: 0.3401 - acc: 0.8611 - val_loss: 0.3508 - val_acc: 0.8695\n",
      "Epoch 134/200\n",
      "8000/8000 [==============================] - 0s 35us/sample - loss: 0.3396 - acc: 0.8611 - val_loss: 0.3502 - val_acc: 0.8670\n",
      "Epoch 135/200\n",
      "8000/8000 [==============================] - 0s 36us/sample - loss: 0.3393 - acc: 0.8611 - val_loss: 0.3525 - val_acc: 0.8655\n",
      "Epoch 136/200\n",
      "8000/8000 [==============================] - 0s 37us/sample - loss: 0.3390 - acc: 0.8620 - val_loss: 0.3498 - val_acc: 0.8640\n",
      "Epoch 137/200\n",
      "8000/8000 [==============================] - 0s 41us/sample - loss: 0.3394 - acc: 0.8624 - val_loss: 0.3496 - val_acc: 0.8660\n",
      "Epoch 138/200\n",
      "8000/8000 [==============================] - 1s 74us/sample - loss: 0.3393 - acc: 0.8608 - val_loss: 0.3493 - val_acc: 0.8660\n",
      "Epoch 139/200\n",
      "8000/8000 [==============================] - 1s 90us/sample - loss: 0.3389 - acc: 0.8621 - val_loss: 0.3495 - val_acc: 0.8665\n",
      "Epoch 140/200\n",
      "8000/8000 [==============================] - 0s 51us/sample - loss: 0.3385 - acc: 0.8610 - val_loss: 0.3507 - val_acc: 0.8635\n",
      "Epoch 141/200\n",
      "8000/8000 [==============================] - 0s 40us/sample - loss: 0.3393 - acc: 0.8624 - val_loss: 0.3491 - val_acc: 0.8635\n",
      "Epoch 142/200\n",
      "8000/8000 [==============================] - 0s 46us/sample - loss: 0.3390 - acc: 0.8614 - val_loss: 0.3496 - val_acc: 0.8670\n",
      "Epoch 143/200\n",
      "8000/8000 [==============================] - 0s 45us/sample - loss: 0.3384 - acc: 0.8615 - val_loss: 0.3500 - val_acc: 0.8645\n",
      "Epoch 144/200\n",
      "8000/8000 [==============================] - 0s 48us/sample - loss: 0.3385 - acc: 0.8611 - val_loss: 0.3493 - val_acc: 0.8655\n",
      "Epoch 145/200\n",
      "8000/8000 [==============================] - 0s 50us/sample - loss: 0.3385 - acc: 0.8609 - val_loss: 0.3496 - val_acc: 0.8660\n",
      "Epoch 146/200\n",
      "8000/8000 [==============================] - 0s 48us/sample - loss: 0.3379 - acc: 0.8611 - val_loss: 0.3485 - val_acc: 0.8660\n",
      "Epoch 147/200\n",
      "8000/8000 [==============================] - 0s 49us/sample - loss: 0.3388 - acc: 0.8610 - val_loss: 0.3490 - val_acc: 0.8640\n",
      "Epoch 148/200\n",
      "8000/8000 [==============================] - 0s 51us/sample - loss: 0.3378 - acc: 0.8614 - val_loss: 0.3495 - val_acc: 0.8645\n",
      "Epoch 149/200\n",
      "8000/8000 [==============================] - 0s 47us/sample - loss: 0.3378 - acc: 0.8626 - val_loss: 0.3484 - val_acc: 0.8660\n",
      "Epoch 150/200\n",
      "8000/8000 [==============================] - 0s 44us/sample - loss: 0.3383 - acc: 0.8624 - val_loss: 0.3498 - val_acc: 0.8650\n",
      "Epoch 151/200\n",
      "8000/8000 [==============================] - 1s 67us/sample - loss: 0.3382 - acc: 0.8602 - val_loss: 0.3497 - val_acc: 0.8640\n",
      "Epoch 152/200\n",
      "8000/8000 [==============================] - 1s 84us/sample - loss: 0.3381 - acc: 0.8621 - val_loss: 0.3488 - val_acc: 0.8645\n",
      "Epoch 153/200\n",
      "8000/8000 [==============================] - 0s 59us/sample - loss: 0.3380 - acc: 0.8606 - val_loss: 0.3505 - val_acc: 0.8645\n",
      "Epoch 154/200\n",
      "8000/8000 [==============================] - 0s 47us/sample - loss: 0.3371 - acc: 0.8608 - val_loss: 0.3492 - val_acc: 0.8635\n",
      "Epoch 155/200\n",
      "8000/8000 [==============================] - 0s 46us/sample - loss: 0.3373 - acc: 0.8619 - val_loss: 0.3495 - val_acc: 0.8630\n",
      "Epoch 156/200\n",
      "8000/8000 [==============================] - 0s 41us/sample - loss: 0.3369 - acc: 0.8622 - val_loss: 0.3489 - val_acc: 0.8660\n",
      "Epoch 157/200\n",
      "8000/8000 [==============================] - 0s 48us/sample - loss: 0.3369 - acc: 0.8619 - val_loss: 0.3485 - val_acc: 0.8655\n",
      "Epoch 158/200\n",
      "8000/8000 [==============================] - 0s 45us/sample - loss: 0.3369 - acc: 0.8611 - val_loss: 0.3493 - val_acc: 0.8660\n",
      "Epoch 159/200\n",
      "8000/8000 [==============================] - 0s 48us/sample - loss: 0.3373 - acc: 0.8621 - val_loss: 0.3484 - val_acc: 0.8660\n",
      "Epoch 160/200\n",
      "8000/8000 [==============================] - 0s 47us/sample - loss: 0.3368 - acc: 0.8618 - val_loss: 0.3484 - val_acc: 0.8645\n",
      "Epoch 161/200\n",
      "8000/8000 [==============================] - 0s 47us/sample - loss: 0.3372 - acc: 0.8609 - val_loss: 0.3483 - val_acc: 0.8650\n",
      "Epoch 162/200\n",
      "8000/8000 [==============================] - 0s 48us/sample - loss: 0.3367 - acc: 0.8624 - val_loss: 0.3485 - val_acc: 0.8670\n",
      "Epoch 163/200\n",
      "8000/8000 [==============================] - 0s 47us/sample - loss: 0.3365 - acc: 0.8627 - val_loss: 0.3480 - val_acc: 0.8660\n",
      "Epoch 164/200\n",
      "8000/8000 [==============================] - 0s 46us/sample - loss: 0.3361 - acc: 0.8612 - val_loss: 0.3482 - val_acc: 0.8640\n",
      "Epoch 165/200\n",
      "8000/8000 [==============================] - 0s 46us/sample - loss: 0.3365 - acc: 0.8615 - val_loss: 0.3485 - val_acc: 0.8655\n",
      "Epoch 166/200\n",
      "8000/8000 [==============================] - 1s 69us/sample - loss: 0.3366 - acc: 0.8626 - val_loss: 0.3484 - val_acc: 0.8645\n",
      "Epoch 167/200\n",
      "8000/8000 [==============================] - 1s 73us/sample - loss: 0.3361 - acc: 0.8615 - val_loss: 0.3484 - val_acc: 0.8650\n",
      "Epoch 168/200\n",
      "8000/8000 [==============================] - 0s 48us/sample - loss: 0.3361 - acc: 0.8618 - val_loss: 0.3475 - val_acc: 0.8650\n",
      "Epoch 169/200\n",
      "8000/8000 [==============================] - 0s 49us/sample - loss: 0.3360 - acc: 0.8618 - val_loss: 0.3483 - val_acc: 0.8645\n",
      "Epoch 170/200\n",
      "8000/8000 [==============================] - 0s 48us/sample - loss: 0.3361 - acc: 0.8611 - val_loss: 0.3488 - val_acc: 0.8640\n",
      "Epoch 171/200\n",
      "8000/8000 [==============================] - 0s 46us/sample - loss: 0.3362 - acc: 0.8618 - val_loss: 0.3471 - val_acc: 0.8660\n",
      "Epoch 172/200\n",
      "8000/8000 [==============================] - 0s 49us/sample - loss: 0.3354 - acc: 0.8612 - val_loss: 0.3486 - val_acc: 0.8650\n",
      "Epoch 173/200\n",
      "8000/8000 [==============================] - ETA: 0s - loss: 0.3368 - acc: 0.860 - 0s 48us/sample - loss: 0.3358 - acc: 0.8611 - val_loss: 0.3471 - val_acc: 0.8645\n",
      "Epoch 174/200\n",
      "8000/8000 [==============================] - 0s 53us/sample - loss: 0.3355 - acc: 0.8612 - val_loss: 0.3484 - val_acc: 0.8630\n",
      "Epoch 175/200\n",
      "8000/8000 [==============================] - 0s 52us/sample - loss: 0.3355 - acc: 0.8610 - val_loss: 0.3483 - val_acc: 0.8615\n",
      "Epoch 176/200\n"
     ]
    },
    {
     "name": "stdout",
     "output_type": "stream",
     "text": [
      "8000/8000 [==============================] - 0s 44us/sample - loss: 0.3352 - acc: 0.8625 - val_loss: 0.3475 - val_acc: 0.8635\n",
      "Epoch 177/200\n",
      "8000/8000 [==============================] - 0s 42us/sample - loss: 0.3358 - acc: 0.8609 - val_loss: 0.3470 - val_acc: 0.8670\n",
      "Epoch 178/200\n",
      "8000/8000 [==============================] - 0s 44us/sample - loss: 0.3353 - acc: 0.8627 - val_loss: 0.3458 - val_acc: 0.8665\n",
      "Epoch 179/200\n",
      "8000/8000 [==============================] - 0s 52us/sample - loss: 0.3353 - acc: 0.8619 - val_loss: 0.3466 - val_acc: 0.8625\n",
      "Epoch 180/200\n",
      "8000/8000 [==============================] - 1s 74us/sample - loss: 0.3349 - acc: 0.8627 - val_loss: 0.3464 - val_acc: 0.8635\n",
      "Epoch 181/200\n",
      "8000/8000 [==============================] - 1s 69us/sample - loss: 0.3352 - acc: 0.8611 - val_loss: 0.3463 - val_acc: 0.8635\n",
      "Epoch 182/200\n",
      "8000/8000 [==============================] - 0s 62us/sample - loss: 0.3348 - acc: 0.8627 - val_loss: 0.3470 - val_acc: 0.8610\n",
      "Epoch 183/200\n",
      "8000/8000 [==============================] - 0s 61us/sample - loss: 0.3351 - acc: 0.8622 - val_loss: 0.3471 - val_acc: 0.8660\n",
      "Epoch 184/200\n",
      "8000/8000 [==============================] - 1s 64us/sample - loss: 0.3353 - acc: 0.8621 - val_loss: 0.3455 - val_acc: 0.8655\n",
      "Epoch 185/200\n",
      "8000/8000 [==============================] - 0s 62us/sample - loss: 0.3352 - acc: 0.8616 - val_loss: 0.3464 - val_acc: 0.8670\n",
      "Epoch 186/200\n",
      "8000/8000 [==============================] - 0s 55us/sample - loss: 0.3349 - acc: 0.8627 - val_loss: 0.3449 - val_acc: 0.8640\n",
      "Epoch 187/200\n",
      "8000/8000 [==============================] - 0s 48us/sample - loss: 0.3346 - acc: 0.8626 - val_loss: 0.3459 - val_acc: 0.8660\n",
      "Epoch 188/200\n",
      "8000/8000 [==============================] - 0s 52us/sample - loss: 0.3345 - acc: 0.8622 - val_loss: 0.3450 - val_acc: 0.8635\n",
      "Epoch 189/200\n",
      "8000/8000 [==============================] - 0s 48us/sample - loss: 0.3341 - acc: 0.8635 - val_loss: 0.3448 - val_acc: 0.8660\n",
      "Epoch 190/200\n",
      "8000/8000 [==============================] - 0s 47us/sample - loss: 0.3339 - acc: 0.8635 - val_loss: 0.3459 - val_acc: 0.8660\n",
      "Epoch 191/200\n",
      "8000/8000 [==============================] - 0s 45us/sample - loss: 0.3341 - acc: 0.8639 - val_loss: 0.3449 - val_acc: 0.8635\n",
      "Epoch 192/200\n",
      "8000/8000 [==============================] - 0s 51us/sample - loss: 0.3333 - acc: 0.8635 - val_loss: 0.3459 - val_acc: 0.8655\n",
      "Epoch 193/200\n",
      "8000/8000 [==============================] - 0s 56us/sample - loss: 0.3338 - acc: 0.8621 - val_loss: 0.3450 - val_acc: 0.8650\n",
      "Epoch 194/200\n",
      "8000/8000 [==============================] - 1s 76us/sample - loss: 0.3336 - acc: 0.8636 - val_loss: 0.3458 - val_acc: 0.8655\n",
      "Epoch 195/200\n",
      "8000/8000 [==============================] - 0s 60us/sample - loss: 0.3337 - acc: 0.8634 - val_loss: 0.3435 - val_acc: 0.8670\n",
      "Epoch 196/200\n",
      "8000/8000 [==============================] - 0s 40us/sample - loss: 0.3336 - acc: 0.8633 - val_loss: 0.3445 - val_acc: 0.8665\n",
      "Epoch 197/200\n",
      "8000/8000 [==============================] - 0s 42us/sample - loss: 0.3330 - acc: 0.8637 - val_loss: 0.3442 - val_acc: 0.8665\n",
      "Epoch 198/200\n",
      "8000/8000 [==============================] - 0s 48us/sample - loss: 0.3334 - acc: 0.8621 - val_loss: 0.3428 - val_acc: 0.8680\n",
      "Epoch 199/200\n",
      "8000/8000 [==============================] - 0s 42us/sample - loss: 0.3328 - acc: 0.8616 - val_loss: 0.3450 - val_acc: 0.8660\n",
      "Epoch 200/200\n",
      "8000/8000 [==============================] - 0s 46us/sample - loss: 0.3332 - acc: 0.8630 - val_loss: 0.3434 - val_acc: 0.8705\n"
     ]
    }
   ],
   "source": [
    "history=model.fit(X_train, y_train, batch_size=45, epochs=200, validation_data=(X_test,y_test))"
   ]
  },
  {
   "cell_type": "markdown",
   "metadata": {},
   "source": [
    "The above code indicates:\n",
    "\n",
    "X_train is the independent variable portion of the data which needs to be fitted with the model.\n",
    "\n",
    "y_train is the output portion of the data which the model needs to produce after fitting.\n",
    "\n",
    "batch_size: How often we want to back-propogate the error values so that individual node weights can be adjusted.\n",
    "\n",
    "epochs: The number of times we want to run the entire test data over again to tune the weights. This is like the fuel of the algorithm.\n",
    "\n",
    "validation_split: 0.1 The fraction of data to use for validation data."
   ]
  },
  {
   "cell_type": "markdown",
   "metadata": {},
   "source": [
    "## Checking the Accuracy for Test"
   ]
  },
  {
   "cell_type": "code",
   "execution_count": 64,
   "metadata": {},
   "outputs": [
    {
     "name": "stdout",
     "output_type": "stream",
     "text": [
      "2000/2000 [==============================] - 0s 30us/sample - loss: 0.3434 - acc: 0.8705\n",
      "[0.3434333027601242, 0.8705]\n"
     ]
    }
   ],
   "source": [
    "score = model.evaluate(X_test, y_test,verbose=1)\n",
    "\n",
    "print(score)"
   ]
  },
  {
   "cell_type": "markdown",
   "metadata": {},
   "source": [
    "## Train Accuracy"
   ]
  },
  {
   "cell_type": "code",
   "execution_count": 66,
   "metadata": {},
   "outputs": [
    {
     "name": "stdout",
     "output_type": "stream",
     "text": [
      "8000/8000 [==============================] - 0s 30us/sample - loss: 0.3309 - acc: 0.8633\n",
      "[0.33088572630286217, 0.86325]\n"
     ]
    }
   ],
   "source": [
    "score = model.evaluate(X_train, y_train,verbose=1)\n",
    "\n",
    "print(score)"
   ]
  },
  {
   "cell_type": "markdown",
   "metadata": {},
   "source": [
    "## Confusion Matrix Calculation"
   ]
  },
  {
   "cell_type": "code",
   "execution_count": 67,
   "metadata": {},
   "outputs": [],
   "source": [
    "y_pred = model.predict(X_test)"
   ]
  },
  {
   "cell_type": "code",
   "execution_count": 72,
   "metadata": {},
   "outputs": [],
   "source": [
    "# Predict the results using 0.5 as a threshold (5 points)"
   ]
  },
  {
   "cell_type": "code",
   "execution_count": 68,
   "metadata": {},
   "outputs": [],
   "source": [
    "y_pred = (y_pred > 0.5)"
   ]
  },
  {
   "cell_type": "code",
   "execution_count": 69,
   "metadata": {},
   "outputs": [],
   "source": [
    "from sklearn.metrics import confusion_matrix\n",
    "\n",
    "confmatrx= confusion_matrix(y_test.argmax(axis=1), y_pred.argmax(axis=1))"
   ]
  },
  {
   "cell_type": "code",
   "execution_count": 70,
   "metadata": {},
   "outputs": [
    {
     "data": {
      "text/plain": [
       "array([[1544,   43],\n",
       "       [ 216,  197]], dtype=int64)"
      ]
     },
     "execution_count": 70,
     "metadata": {},
     "output_type": "execute_result"
    }
   ],
   "source": [
    "confmatrx"
   ]
  },
  {
   "cell_type": "code",
   "execution_count": 73,
   "metadata": {},
   "outputs": [
    {
     "name": "stdout",
     "output_type": "stream",
     "text": [
      "87.05 % of testing data was classified correctly\n"
     ]
    }
   ],
   "source": [
    "print (((confmatrx[0][0]+confmatrx[1][1])*100)/(len(y_test)), '% of testing data was classified correctly')"
   ]
  },
  {
   "cell_type": "code",
   "execution_count": 74,
   "metadata": {},
   "outputs": [
    {
     "data": {
      "text/plain": [
       "0.8705"
      ]
     },
     "execution_count": 74,
     "metadata": {},
     "output_type": "execute_result"
    }
   ],
   "source": [
    "# Checking the accuracy using accuracy_score as well to check if the above calculation is correct or not.\n",
    "from sklearn.metrics import accuracy_score\n",
    "accuracy_score(y_test, y_pred)"
   ]
  },
  {
   "cell_type": "markdown",
   "metadata": {},
   "source": [
    "The Train and Test set are almost similar. It shows that the model did not overfit on the train set.\n",
    "\n",
    "\n",
    "On Compiling the Neural Network, I have used optimizer as \"adam\" as it is very efficient to Stochastic Gradient Decent. The loss function used is \"binary_crossentropy which is used within adam.\n",
    "\n",
    "\n",
    "The accuracy metrics which will be evaluated(minimized) by the model. The \"Accuracy\" is used as a criteria to improve model performance.\n",
    "\n",
    "\n",
    "On calculation of the accuracy based on the Confusion Matrix, it came out as 86.45(APPROX). which matches with the score calculated through various EPOCH\n",
    "\n",
    "\n",
    "We can used Optimizer as \"SGD\" as well to check if we get better results and accuracy."
   ]
  },
  {
   "cell_type": "code",
   "execution_count": null,
   "metadata": {},
   "outputs": [],
   "source": []
  }
 ],
 "metadata": {
  "kernelspec": {
   "display_name": "Python 3",
   "language": "python",
   "name": "python3"
  },
  "language_info": {
   "codemirror_mode": {
    "name": "ipython",
    "version": 3
   },
   "file_extension": ".py",
   "mimetype": "text/x-python",
   "name": "python",
   "nbconvert_exporter": "python",
   "pygments_lexer": "ipython3",
   "version": "3.7.3"
  }
 },
 "nbformat": 4,
 "nbformat_minor": 2
}
